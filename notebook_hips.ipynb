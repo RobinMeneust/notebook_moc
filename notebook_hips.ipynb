{
 "cells": [
  {
   "cell_type": "markdown",
   "id": "81691d17",
   "metadata": {},
   "source": [
    "# How to get the HiPS from a keyword and load it in Aladin\n",
    "\n",
    "\n",
    "## Import required modules"
   ]
  },
  {
   "cell_type": "code",
   "execution_count": 2,
   "id": "70c09fcf",
   "metadata": {},
   "outputs": [],
   "source": [
    "from urllib.request import urlopen\n",
    "import json\n",
    "import re\n",
    "from ipyaladin import Aladin"
   ]
  },
  {
   "cell_type": "code",
   "execution_count": 3,
   "id": "d112cfa7",
   "metadata": {},
   "outputs": [],
   "source": [
    "target = \"Mars\""
   ]
  },
  {
   "cell_type": "code",
   "execution_count": 4,
   "id": "986074c4",
   "metadata": {
    "scrolled": true
   },
   "outputs": [
    {
     "name": "stdout",
     "output_type": "stream",
     "text": [
      "http://alasky.cds.unistra.fr/MocServer/query?expr=hips_frame!=equatorial,galactic,ecliptic&hips_frame=*&hips_service_url=*&get=record&fmt=json\n"
     ]
    }
   ],
   "source": [
    "url = \"http://alasky.cds.unistra.fr/MocServer/query?expr=hips_frame!=equatorial,galactic,ecliptic&hips_frame=*&hips_service_url=*&get=record&fmt=json\"\n",
    "print(url)"
   ]
  },
  {
   "cell_type": "code",
   "execution_count": 5,
   "id": "3e18753b",
   "metadata": {},
   "outputs": [],
   "source": [
    "response = urlopen(url)\n",
    "data = json.loads(response.read().decode('latin-1'))"
   ]
  },
  {
   "cell_type": "code",
   "execution_count": 19,
   "id": "489a79db",
   "metadata": {},
   "outputs": [],
   "source": [
    "results = []\n",
    "lowAccuracyResults = []\n",
    "\n",
    "for item in data :\n",
    "    if (not \"client_category\" in item) or re.search(\"(?i)(\"+target+\")\", item[\"client_category\"]) is None :\n",
    "        continue\n",
    "    if \"obs_title\" in item and re.search(\"(?i)(?:dust|thermal|elevation|albedo|rough|topo|grayscale|microwave|rover|panorama|(mineral map))\", item[\"obs_title\"]) is not None:\n",
    "        continue\n",
    "    if not \"obs_description\" in item or re.search(\"(?i)(?:dust|thermal|elevation|albedo|rough|topo|grayscale|microwave|rover|panorama|(mineral map))\", item[\"obs_description\"]) is None:       \n",
    "        results.append(item[\"hips_service_url\"])\n",
    "    else :\n",
    "        lowAccuracyResults.append(item[\"hips_service_url\"])\n",
    "if results == [] :\n",
    "    results = lowAccuracyResults"
   ]
  },
  {
   "cell_type": "code",
   "execution_count": 20,
   "id": "91ff8a52",
   "metadata": {},
   "outputs": [
    {
     "name": "stdout",
     "output_type": "stream",
     "text": [
      "https://alasky.cds.unistra.fr/Planets/Mars_Viking_MDIM21\n"
     ]
    }
   ],
   "source": [
    "for result in results :\n",
    "    print(result)"
   ]
  },
  {
   "cell_type": "code",
   "execution_count": 30,
   "id": "8dde3286",
   "metadata": {},
   "outputs": [
    {
     "data": {
      "application/vnd.jupyter.widget-view+json": {
       "model_id": "7eaf208fde0a47d78d6b38015665aa00",
       "version_major": 2,
       "version_minor": 0
      },
      "text/plain": [
       "Aladin(coo_frame='body', options=['allow_full_zoomout', 'coo_frame', 'fov', 'full_screen', 'log', 'overlay_sur…"
      ]
     },
     "execution_count": 30,
     "metadata": {},
     "output_type": "execute_result"
    }
   ],
   "source": [
    "aladin = Aladin(\n",
    "    coo_frame='body',\n",
    "    survey=results[3]\n",
    ")\n",
    "aladin"
   ]
  },
  {
   "cell_type": "code",
   "execution_count": null,
   "id": "af9c1853",
   "metadata": {},
   "outputs": [],
   "source": []
  }
 ],
 "metadata": {
  "kernelspec": {
   "display_name": "Python 3 (ipykernel)",
   "language": "python",
   "name": "python3"
  },
  "language_info": {
   "codemirror_mode": {
    "name": "ipython",
    "version": 3
   },
   "file_extension": ".py",
   "mimetype": "text/x-python",
   "name": "python",
   "nbconvert_exporter": "python",
   "pygments_lexer": "ipython3",
   "version": "3.10.6"
  }
 },
 "nbformat": 4,
 "nbformat_minor": 5
}
