{
 "cells": [
  {
   "cell_type": "markdown",
   "id": "81691d17",
   "metadata": {},
   "source": [
    "# How to get the HiPS from keywords and load it in Aladin "
   ]
  },
  {
   "cell_type": "code",
   "execution_count": 1,
   "id": "d112cfa7",
   "metadata": {},
   "outputs": [],
   "source": [
    "keywords = [\"Mars\"]"
   ]
  },
  {
   "cell_type": "code",
   "execution_count": null,
   "id": "859eac60",
   "metadata": {},
   "outputs": [],
   "source": [
    "#http://alasky.cds.unistra.fr/MocServer/query?expr=hips_frame!=equatorial,galactic,ecliptic&hips_frame=*&dataproduct_subtype=color&obs_regime,client_category=*/Mars&hips_service_url=*&get=record&fmt=json\n",
    "# Check if obs_description exists and if it contains 'thermal' or other unwanted keywords"
   ]
  }
 ],
 "metadata": {
  "kernelspec": {
   "display_name": "Python 3 (ipykernel)",
   "language": "python",
   "name": "python3"
  },
  "language_info": {
   "codemirror_mode": {
    "name": "ipython",
    "version": 3
   },
   "file_extension": ".py",
   "mimetype": "text/x-python",
   "name": "python",
   "nbconvert_exporter": "python",
   "pygments_lexer": "ipython3",
   "version": "3.10.6"
  }
 },
 "nbformat": 4,
 "nbformat_minor": 5
}
