{
 "cells": [
  {
   "cell_type": "markdown",
   "id": "81691d17",
   "metadata": {},
   "source": [
    "# How to get the HiPS from a keyword and load it in Aladin\n",
    "\n",
    "In this Notebook, we will get HiPS of a given target by using MOC Server\n",
    "\n",
    "## Import required modules"
   ]
  },
  {
   "cell_type": "code",
   "execution_count": 1,
   "id": "6e5062b7",
   "metadata": {},
   "outputs": [],
   "source": [
    "# Fetch data from a url\n",
    "from urllib.request import urlopen\n",
    "\n",
    "# Get a JSON object\n",
    "import json\n",
    "\n",
    "# Regex\n",
    "import re\n",
    "\n",
    "# Aladin\n",
    "from ipyaladin import Aladin"
   ]
  },
  {
   "cell_type": "markdown",
   "id": "62fc8655",
   "metadata": {},
   "source": [
    "## Get the data"
   ]
  },
  {
   "cell_type": "code",
   "execution_count": 2,
   "id": "d112cfa7",
   "metadata": {},
   "outputs": [],
   "source": [
    "target = \"Mars\""
   ]
  },
  {
   "cell_type": "markdown",
   "id": "2ce4a66e",
   "metadata": {},
   "source": [
    "Get a list of HiPS of bodies (and not sky maps)"
   ]
  },
  {
   "cell_type": "code",
   "execution_count": 3,
   "id": "15dd32f8",
   "metadata": {
    "scrolled": true
   },
   "outputs": [],
   "source": [
    "url = \"http://alasky.cds.unistra.fr/MocServer/query?expr=hips_frame!=equatorial,galactic,ecliptic&hips_frame=*&hips_service_url=*&get=record&fmt=json\""
   ]
  },
  {
   "cell_type": "code",
   "execution_count": 4,
   "id": "8253b996",
   "metadata": {},
   "outputs": [],
   "source": [
    "response = urlopen(url)\n",
    "data = json.loads(response.read().decode('latin-1'))"
   ]
  },
  {
   "cell_type": "markdown",
   "id": "071956fc",
   "metadata": {},
   "source": [
    "## Filter the results\n",
    "\n",
    "We only keep elements that match with the target.\n",
    "And we want those in the visible spectrum if we can.\n",
    "We also don't want panoramic views from a rover, or other unrelevant HiPS (elevation, ...).\n",
    "To allow those, or add more restrictions, you just need to remove or add corresponding terms in the lists of searched words in the regex search. For instance, you can remove elevation from the list, to get HiPS representing the elevation.\n",
    "\n",
    "If no results are found, we try to get those that are corresponding to the target but aren't meeting the other requirements (not in grayscale, ..)."
   ]
  },
  {
   "cell_type": "code",
   "execution_count": 5,
   "id": "0201e613",
   "metadata": {},
   "outputs": [],
   "source": [
    "results = []\n",
    "lowAccuracyResults = []\n",
    "\n",
    "for item in data :\n",
    "    if (not \"hips_frame\" in item) or re.search(\"(?i)(\"+target+\")\", item[\"hips_frame\"]) is None :\n",
    "        continue\n",
    "    lowAccuracyResults.append(item[\"hips_service_url\"])\n",
    "    if \"obs_title\" in item and re.search(\"(?i)(?:dust|thermal|elevation|albedo|rough|topo|grayscale|microwave|rover|panorama|(mineral map))\", item[\"obs_title\"]) is not None:\n",
    "        continue\n",
    "    if not \"obs_description\" in item or re.search(\"(?i)(?:dust|thermal|elevation|albedo|rough|topo|grayscale|microwave|rover|panorama|(mineral map))\", item[\"obs_description\"]) is None:       \n",
    "        results.append(item[\"hips_service_url\"])\n",
    "if results == [] :\n",
    "    results = lowAccuracyResults"
   ]
  },
  {
   "cell_type": "code",
   "execution_count": 6,
   "id": "5090e8ac",
   "metadata": {},
   "outputs": [
    {
     "name": "stdout",
     "output_type": "stream",
     "text": [
      "https://alasky.cds.unistra.fr/Planets/Mars_Viking_MDIM21\n"
     ]
    }
   ],
   "source": [
    "for result in results :\n",
    "    print(result)"
   ]
  },
  {
   "cell_type": "markdown",
   "id": "184d6459",
   "metadata": {},
   "source": [
    "## Load it in Aladin"
   ]
  },
  {
   "cell_type": "code",
   "execution_count": 7,
   "id": "85f6f77f",
   "metadata": {},
   "outputs": [
    {
     "data": {
      "application/vnd.jupyter.widget-view+json": {
       "model_id": "f364cf1db50b4bbf825b7b71a780c43e",
       "version_major": 2,
       "version_minor": 0
      },
      "text/plain": [
       "Aladin(coo_frame='body', options=['allow_full_zoomout', 'coo_frame', 'fov', 'full_screen', 'log', 'overlay_sur…"
      ]
     },
     "execution_count": 7,
     "metadata": {},
     "output_type": "execute_result"
    }
   ],
   "source": [
    "aladin = Aladin(\n",
    "    coo_frame='body',\n",
    "    survey=results[0]\n",
    ")\n",
    "aladin"
   ]
  }
 ],
 "metadata": {
  "kernelspec": {
   "display_name": "Python 3 (ipykernel)",
   "language": "python",
   "name": "python3"
  },
  "language_info": {
   "codemirror_mode": {
    "name": "ipython",
    "version": 3
   },
   "file_extension": ".py",
   "mimetype": "text/x-python",
   "name": "python",
   "nbconvert_exporter": "python",
   "pygments_lexer": "ipython3",
   "version": "3.10.6"
  }
 },
 "nbformat": 4,
 "nbformat_minor": 5
}
