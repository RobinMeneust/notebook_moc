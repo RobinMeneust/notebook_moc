{
 "cells": [
  {
   "cell_type": "markdown",
   "id": "d623fd4b",
   "metadata": {},
   "source": [
    "# How to get MOC data from VESPA in Python\n",
    "\n",
    "Illustrate search for CDPP TAP MOC for vespa using 'pyvo' and 'astropy'\n",
    "\n",
    "## Import required modules"
   ]
  },
  {
   "cell_type": "code",
   "execution_count": 65,
   "id": "f2bb6e67",
   "metadata": {},
   "outputs": [],
   "source": [
    "import pyvo as vo\n",
    "from mpl_toolkits.basemap import Basemap\n",
    "import re"
   ]
  },
  {
   "cell_type": "markdown",
   "id": "1b6bb8b9",
   "metadata": {},
   "source": [
    "## Search for a specific TAP service\n",
    "\n",
    "We are looking for VVEx - VIRTIS/Venus Express database since it has a MOC"
   ]
  },
  {
   "cell_type": "code",
   "execution_count": 66,
   "id": "b4b81f7c",
   "metadata": {},
   "outputs": [
    {
     "name": "stdout",
     "output_type": "stream",
     "text": [
      "<bound method DALResults.to_table of <Table length=1>\n",
      "           ivoid                  res_type     ...  intf_types  intf_roles\n",
      "                                               ...                        \n",
      "           object                  object      ...    object      object  \n",
      "---------------------------- ----------------- ... ------------ ----------\n",
      "ivo://padc.obspm.planeto/tap vs:catalogservice ... vs:paramhttp        std>\n"
     ]
    }
   ],
   "source": [
    "tap_services = vo.registry.search(servicetype='tap',keywords=['VVEx'], includeaux=True)\n",
    "print(tap_services.to_table)"
   ]
  },
  {
   "cell_type": "markdown",
   "id": "58d1cd67",
   "metadata": {},
   "source": [
    "## Get the first result and print its data"
   ]
  },
  {
   "cell_type": "code",
   "execution_count": 67,
   "id": "1a4b9c7f",
   "metadata": {},
   "outputs": [
    {
     "name": "stdout",
     "output_type": "stream",
     "text": [
      "\n",
      "Length:  17\n",
      "\n",
      "Ressource:  ('ivo://padc.obspm.planeto/tap', 'vs:catalogservice', 'PADCC TAP', 'PADC TAP Server on voparis-tap-planeto.obspm.fr TAP service', '', \"The PADC TAP Server on voparis-tap-planeto.obspm.fr's TAP end point. The Table Access\\nProtocol (TAP) lets you execute queries against our database tables,\\ninspect various metadata, and upload your own data. It is thus the\\nVO's premier way to access public data holdings.\\n\\nTables exposed through this endpoint include: epn_core from the apis schema, epn_core from the basecom schema, epn_core, observatories from the bdip schema, epn_core from the dynastvo schema, epn_core from the exoplanet schema, epn_core from the hst_planeto schema, epn_core from the iks schema, epn_core from the m4ast schema, epn_core from the meteor_showers schema, epn_core from the pds_speclib schema, epn_core from the planets schema, epn_core from the spectro_asteroids schema, epn_core from the spectro_planets schema, columns, groups, key_columns, keys, schemas, tables from the tap_schema schema, epn_core from the titan_profiles schema, epn_core from the tnosarecool schema, epn_core from the vims_satellites schema, epn_core from the vvex schema.\", 'http://voparis-tap-planeto.obspm.fr/__system__/tap/run/info', 'PADC', '', '', '', nan, '', ['http://voparis-tap-planeto.obspm.fr/tap'], ['ivo://ivoa.net/std/tap'], ['vs:paramhttp'], ['std'])\n",
      "\n",
      "Url:  http://voparis-tap-planeto.obspm.fr/tap\n",
      "\n",
      "Tables object:  <pyvo.dal.vosi.VOSITables object at 0x7f6a03d7e0b0>\n"
     ]
    }
   ],
   "source": [
    "resource = tap_services[0]\n",
    "print (\"\\nLength: \",len(resource))\n",
    "print (\"\\nRessource: \",resource)\n",
    "print(\"\\nUrl: \",resource.access_url)\n",
    "print(\"\\nTables object: \",resource.service.tables)"
   ]
  },
  {
   "cell_type": "markdown",
   "id": "69e12838",
   "metadata": {},
   "source": [
    "## Get the 1st table associated to it"
   ]
  },
  {
   "cell_type": "code",
   "execution_count": 78,
   "id": "6cb0fdb3",
   "metadata": {},
   "outputs": [],
   "source": [
    "resourceKey = list(resource.get_tables(table_limit=30).keys())[0]\n",
    "mytable = resource.get_tables(table_limit=30)[resourceKey]"
   ]
  },
  {
   "cell_type": "markdown",
   "id": "9322839c",
   "metadata": {},
   "source": [
    "## Check if a a table has a coverage key (and so maybe a MOC)"
   ]
  },
  {
   "cell_type": "code",
   "execution_count": 84,
   "id": "20802af7",
   "metadata": {},
   "outputs": [
    {
     "name": "stdout",
     "output_type": "stream",
     "text": [
      "True\n"
     ]
    }
   ],
   "source": [
    "def doContainMOC(table) :\n",
    "    for field in table.columns :\n",
    "        if re.search(\"^.*<BaseParam name=\\\"coverage\\\"/>.*$\", str(field)) :\n",
    "            return True\n",
    "    return False\n",
    "        \n",
    "print(doContainMOC(mytable))"
   ]
  },
  {
   "cell_type": "code",
   "execution_count": 87,
   "id": "d355ec5d",
   "metadata": {},
   "outputs": [
    {
     "name": "stdout",
     "output_type": "stream",
     "text": [
      "<BaseParam name=\"granule_uid\"/>\n",
      "<BaseParam name=\"granule_gid\"/>\n",
      "<BaseParam name=\"obs_id\"/>\n",
      "<BaseParam name=\"dataproduct_type\"/>\n",
      "<BaseParam name=\"target_name\"/>\n",
      "<BaseParam name=\"target_class\"/>\n",
      "<BaseParam name=\"time_min\"/>\n",
      "<BaseParam name=\"time_max\"/>\n",
      "<BaseParam name=\"time_sampling_step_min\"/>\n",
      "<BaseParam name=\"time_sampling_step_max\"/>\n",
      "<BaseParam name=\"time_exp_min\"/>\n",
      "<BaseParam name=\"time_exp_max\"/>\n",
      "<BaseParam name=\"spectral_range_min\"/>\n",
      "<BaseParam name=\"spectral_range_max\"/>\n",
      "<BaseParam name=\"spectral_sampling_step_min\"/>\n",
      "<BaseParam name=\"spectral_sampling_step_max\"/>\n",
      "<BaseParam name=\"spectral_resolution_min\"/>\n",
      "<BaseParam name=\"spectral_resolution_max\"/>\n",
      "<BaseParam name=\"c1min\"/>\n",
      "<BaseParam name=\"c1max\"/>\n",
      "<BaseParam name=\"c2min\"/>\n",
      "<BaseParam name=\"c2max\"/>\n",
      "<BaseParam name=\"c3min\"/>\n",
      "<BaseParam name=\"c3max\"/>\n",
      "<BaseParam name=\"s_region\"/>\n",
      "<BaseParam name=\"c1_resol_min\"/>\n",
      "<BaseParam name=\"c1_resol_max\"/>\n",
      "<BaseParam name=\"c2_resol_min\"/>\n",
      "<BaseParam name=\"c2_resol_max\"/>\n",
      "<BaseParam name=\"c3_resol_min\"/>\n",
      "<BaseParam name=\"c3_resol_max\"/>\n",
      "<BaseParam name=\"spatial_frame_type\"/>\n",
      "<BaseParam name=\"incidence_min\"/>\n",
      "<BaseParam name=\"incidence_max\"/>\n",
      "<BaseParam name=\"emergence_min\"/>\n",
      "<BaseParam name=\"emergence_max\"/>\n",
      "<BaseParam name=\"phase_min\"/>\n",
      "<BaseParam name=\"phase_max\"/>\n",
      "<BaseParam name=\"instrument_host_name\"/>\n",
      "<BaseParam name=\"instrument_name\"/>\n",
      "<BaseParam name=\"measurement_type\"/>\n",
      "<BaseParam name=\"processing_level\"/>\n",
      "<BaseParam name=\"creation_date\"/>\n",
      "<BaseParam name=\"modification_date\"/>\n",
      "<BaseParam name=\"release_date\"/>\n",
      "<BaseParam name=\"service_title\"/>\n",
      "<BaseParam name=\"access_url\"/>\n",
      "<BaseParam name=\"access_format\"/>\n",
      "<BaseParam name=\"access_estsize\"/>\n",
      "<BaseParam name=\"time_scale\"/>\n",
      "<BaseParam name=\"thumbnail_url\"/>\n",
      "<BaseParam name=\"file_name\"/>\n",
      "<BaseParam name=\"publisher\"/>\n",
      "<BaseParam name=\"bib_reference\"/>\n",
      "<BaseParam name=\"sun_distance_min\"/>\n",
      "<BaseParam name=\"sun_distance_max\"/>\n",
      "<BaseParam name=\"target_distance_min\"/>\n",
      "<BaseParam name=\"target_distance_max\"/>\n",
      "<BaseParam name=\"subsolar_longitude_min\"/>\n",
      "<BaseParam name=\"subsolar_longitude_max\"/>\n",
      "<BaseParam name=\"subsolar_latitude_min\"/>\n",
      "<BaseParam name=\"subsolar_latitude_max\"/>\n",
      "<BaseParam name=\"local_time_min\"/>\n",
      "<BaseParam name=\"local_time_max\"/>\n",
      "<BaseParam name=\"solar_longitude_min\"/>\n",
      "<BaseParam name=\"solar_longitude_max\"/>\n",
      "<BaseParam name=\"ra\"/>\n",
      "<BaseParam name=\"dec\"/>\n",
      "<BaseParam name=\"coverage\"/>\n",
      "<BaseParam name=\"channel_id\"/>\n",
      "<BaseParam name=\"nb_bands\"/>\n",
      "<BaseParam name=\"nb_samples\"/>\n",
      "<BaseParam name=\"nb_lines\"/>\n",
      "<BaseParam name=\"orbit_nb\"/>\n",
      "<BaseParam name=\"instrument_mode_id\"/>\n",
      "<BaseParam name=\"science_case_id\"/>\n",
      "<BaseParam name=\"sc_pointing_mode\"/>\n"
     ]
    }
   ],
   "source": [
    "# for field in mytable.columns :\n",
    "#        print(field)"
   ]
  },
  {
   "cell_type": "code",
   "execution_count": null,
   "id": "42eee5b8",
   "metadata": {},
   "outputs": [],
   "source": []
  }
 ],
 "metadata": {
  "kernelspec": {
   "display_name": "Python 3 (ipykernel)",
   "language": "python",
   "name": "python3"
  },
  "language_info": {
   "codemirror_mode": {
    "name": "ipython",
    "version": 3
   },
   "file_extension": ".py",
   "mimetype": "text/x-python",
   "name": "python",
   "nbconvert_exporter": "python",
   "pygments_lexer": "ipython3",
   "version": "3.10.6"
  }
 },
 "nbformat": 4,
 "nbformat_minor": 5
}
