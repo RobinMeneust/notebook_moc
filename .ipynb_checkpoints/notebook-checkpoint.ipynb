{
 "cells": [
  {
   "cell_type": "markdown",
   "id": "d623fd4b",
   "metadata": {},
   "source": [
    "# How to get MOC data from VESPA in Python\n",
    "\n",
    "Illustrate search for TAP MOC for vespa using 'pyvo' and 'astropy'\n",
    "\n",
    "## Import required modules"
   ]
  },
  {
   "cell_type": "code",
   "execution_count": 1,
   "id": "f2bb6e67",
   "metadata": {},
   "outputs": [],
   "source": [
    "import pyvo as vo\n",
    "from mpl_toolkits.basemap import Basemap"
   ]
  },
  {
   "cell_type": "markdown",
   "id": "1b6bb8b9",
   "metadata": {},
   "source": [
    "## Search a specific TAP service\n",
    "\n",
    "We are looking for VVEx - VIRTIS/Venus Express database since it has a MOC\n",
    "\n",
    "### Search the database containing this service"
   ]
  },
  {
   "cell_type": "code",
   "execution_count": 2,
   "id": "8fadf32d",
   "metadata": {},
   "outputs": [],
   "source": [
    "keywords = [\"Venus\"]"
   ]
  },
  {
   "cell_type": "code",
   "execution_count": 3,
   "id": "b4b81f7c",
   "metadata": {
    "scrolled": true
   },
   "outputs": [],
   "source": [
    "databasesList = vo.registry.search(servicetype='tap',keywords=keywords, includeaux=True)"
   ]
  },
  {
   "cell_type": "code",
   "execution_count": 4,
   "id": "ccad3302",
   "metadata": {},
   "outputs": [
    {
     "name": "stdout",
     "output_type": "stream",
     "text": [
      "J/A+A/537/L2\n",
      "J/A+A/585/A53\n",
      "J/A+A/606/A53\n",
      "J/A+A/613/A25\n",
      "J/A+A/619/A99\n",
      "J/A+A/627/A82\n",
      "J/A+A/653/A41\n",
      "J/AJ/154/207\n",
      "J/AJ/158/196\n",
      "J/AJ/160/131\n",
      "J/AJ/160/259\n",
      "J/AJ/162/216\n",
      "J/ApJ/800/135\n",
      "J/ApJ/807/45\n",
      "J/ApJ/893/L27\n",
      "J/MNRAS/462/4300\n",
      "J/MNRAS/485/3999\n",
      "J/MNRAS/519/6210\n",
      "VI/127\n",
      "\n",
      "GRB/IPN\n",
      "KONUS\n",
      "Cassini RPWS\n",
      "BDIP\n",
      "bdip.observatori\n",
      "HST Planeto\n",
      "VVEx\n",
      "MESS-MAG-VSO\n",
      "MESS-MAG-VSO-AVG\n",
      "PVO-PHEM-ASC\n",
      "PVO-PHEM-BIN\n",
      "VEX-ASPERA4-DER\n",
      "VEX-ASPERA4-ENG\n",
      "VEX-ASPERA4-RAW\n",
      "VEX-HIGH-MAG\n"
     ]
    }
   ],
   "source": [
    "for d in databasesList :\n",
    "    print(d.short_name)"
   ]
  },
  {
   "cell_type": "markdown",
   "id": "78fddd56",
   "metadata": {},
   "source": [
    "### Search the services in the databases that were found"
   ]
  },
  {
   "cell_type": "code",
   "execution_count": 5,
   "id": "7b741c97",
   "metadata": {
    "scrolled": true
   },
   "outputs": [],
   "source": [
    "urlsList = set(databasesList.to_table().field(\"access_urls\"))"
   ]
  },
  {
   "cell_type": "code",
   "execution_count": 6,
   "id": "fa3d14ce",
   "metadata": {},
   "outputs": [
    {
     "name": "stdout",
     "output_type": "stream",
     "text": [
      "Searching in service http://voparis-tap-planeto.obspm.fr/tap\n",
      "Searching in service http://voparis-tap-maser.obspm.fr/tap\n",
      "Searching in service http://vo.lmd.jussieu.fr/tap\n",
      "Searching in service https://heasarc.gsfc.nasa.gov/xamin/vo/tap\n",
      "Searching in service https://vo-pds-ppi.igpp.ucla.edu/tap\n",
      "Searching in service http://tapvizier.cds.unistra.fr/TAPVizieR/tap\n",
      "DONE\n"
     ]
    }
   ],
   "source": [
    "tables = []\n",
    "\n",
    "for url in urlsList :\n",
    "    print(\"Searching in service \" + url)\n",
    "    service = vo.dal.TAPService(url)\n",
    "    searchResult = service.search(\"SELECT schema_name, table_name FROM tap_schema.tables WHERE schema_name LIKE '%\"+keywords[0]+\"%' OR table_name LIKE '%\"+keywords[0]+\"%' OR description LIKE '%\"+keywords[0]+\"%'\")\n",
    "    for tableFound in searchResult[\"table_name\"] :\n",
    "        tables.append({\"url\":url,\"name\":tableFound})\n",
    "print(\"DONE\")"
   ]
  },
  {
   "cell_type": "code",
   "execution_count": 7,
   "id": "d98ad438",
   "metadata": {
    "scrolled": true
   },
   "outputs": [
    {
     "name": "stdout",
     "output_type": "stream",
     "text": [
      "vvex.epn_core  at  http://voparis-tap-planeto.obspm.fr/tap\n",
      "vex_cleaned_high_res_mag.epn_core  at  https://vo-pds-ppi.igpp.ucla.edu/tap\n",
      "vex_aspera4_els_raw.epn_core  at  https://vo-pds-ppi.igpp.ucla.edu/tap\n",
      "mess_mag_calibrated_vso.epn_core  at  https://vo-pds-ppi.igpp.ucla.edu/tap\n",
      "vex_aspera4_els_derived.epn_core  at  https://vo-pds-ppi.igpp.ucla.edu/tap\n",
      "mess_mag_calibrated_vso_avg.epn_core  at  https://vo-pds-ppi.igpp.ucla.edu/tap\n",
      "pvo_ephem_vso_asc.epn_core  at  https://vo-pds-ppi.igpp.ucla.edu/tap\n",
      "vex_aspera4_els_eng.epn_core  at  https://vo-pds-ppi.igpp.ucla.edu/tap\n",
      "pvo_ephem_vso_bin.epn_core  at  https://vo-pds-ppi.igpp.ucla.edu/tap\n",
      "J/A+A/627/A82/tablea1  at  http://tapvizier.cds.unistra.fr/TAPVizieR/tap\n",
      "J/A+A/650/A156/tablec1  at  http://tapvizier.cds.unistra.fr/TAPVizieR/tap\n",
      "J/A+A/627/A82/tablea3  at  http://tapvizier.cds.unistra.fr/TAPVizieR/tap\n",
      "J/A+A/650/A156/table2  at  http://tapvizier.cds.unistra.fr/TAPVizieR/tap\n",
      "J/A+A/537/L2/tablea1  at  http://tapvizier.cds.unistra.fr/TAPVizieR/tap\n",
      "J/A+A/627/A82/tablea2  at  http://tapvizier.cds.unistra.fr/TAPVizieR/tap\n",
      "J/AJ/162/216/fig11  at  http://tapvizier.cds.unistra.fr/TAPVizieR/tap\n"
     ]
    }
   ],
   "source": [
    "for table in tables :\n",
    "    print(table[\"name\"],\" at \", table[\"url\"])"
   ]
  },
  {
   "cell_type": "markdown",
   "id": "9322839c",
   "metadata": {},
   "source": [
    "## Only keep tables with a 'coverage' key (and so maybe a MOC)"
   ]
  },
  {
   "cell_type": "code",
   "execution_count": 89,
   "id": "20802af7",
   "metadata": {},
   "outputs": [],
   "source": [
    "def doContainMOC(table) :\n",
    "    service = vo.dal.TAPService(table[\"url\"])\n",
    "    try :\n",
    "        searchResult = service.search(\"SELECT TOP 1 * FROM \"+table[\"name\"]+\" WHERE coverage IS NOT NULL\")\n",
    "        if searchResult == \"\" :\n",
    "            return False\n",
    "        else :\n",
    "            return True\n",
    "    except :\n",
    "        return False"
   ]
  },
  {
   "cell_type": "code",
   "execution_count": 90,
   "id": "3c5c2733",
   "metadata": {},
   "outputs": [
    {
     "name": "stdout",
     "output_type": "stream",
     "text": [
      "Checking table  vvex.epn_core\n",
      "Checking table  vex_cleaned_high_res_mag.epn_core\n",
      "Checking table  vex_aspera4_els_raw.epn_core\n",
      "Checking table  mess_mag_calibrated_vso.epn_core\n",
      "Checking table  vex_aspera4_els_derived.epn_core\n",
      "Checking table  mess_mag_calibrated_vso_avg.epn_core\n",
      "Checking table  pvo_ephem_vso_asc.epn_core\n",
      "Checking table  vex_aspera4_els_eng.epn_core\n",
      "Checking table  pvo_ephem_vso_bin.epn_core\n",
      "Checking table  J/A+A/627/A82/tablea1\n",
      "Checking table  J/A+A/650/A156/tablec1\n",
      "Checking table  J/A+A/627/A82/tablea3\n",
      "Checking table  J/A+A/650/A156/table2\n",
      "Checking table  J/A+A/537/L2/tablea1\n",
      "Checking table  J/A+A/627/A82/tablea2\n",
      "Checking table  J/AJ/162/216/fig11\n"
     ]
    }
   ],
   "source": [
    "tablesWithMOC = []\n",
    "for table in tables :\n",
    "    print(\"Checking table \",table[\"name\"])\n",
    "    if doContainMOC(table) :\n",
    "        tablesWithMOC.append(table)"
   ]
  },
  {
   "cell_type": "code",
   "execution_count": 80,
   "id": "9a3ec2e8",
   "metadata": {},
   "outputs": [
    {
     "name": "stdout",
     "output_type": "stream",
     "text": [
      "vvex.epn_core\n"
     ]
    }
   ],
   "source": [
    "for table in tablesWithMOC :\n",
    "    print(table[\"name\"])"
   ]
  },
  {
   "cell_type": "markdown",
   "id": "9fab3f31",
   "metadata": {},
   "source": [
    "## Display the first 10 elements in the table\n",
    "Here we only consider the first table found in the previous section"
   ]
  },
  {
   "cell_type": "code",
   "execution_count": 11,
   "id": "7df698b9",
   "metadata": {},
   "outputs": [],
   "source": [
    "def getData(tapService, serviceStructure, query) :\n",
    "    if doContainMOC(serviceStructure) :\n",
    "        return tapService.search(query).to_table()\n",
    "    else :\n",
    "        return \"NO MOC DATA\""
   ]
  },
  {
   "cell_type": "code",
   "execution_count": 56,
   "id": "4406e951",
   "metadata": {},
   "outputs": [
    {
     "name": "stdout",
     "output_type": "stream",
     "text": [
      "granule_uid granule_gid   obs_id  ... science_case_id sc_pointing_mode\n",
      "                                  ...                                 \n",
      "----------- ----------- --------- ... --------------- ----------------\n",
      " VV1102_00C  calibrated VV1102_00 ...               0             NULL\n",
      " VV1102_00G    geometry VV1102_00 ...               0             NULL\n",
      " VV1103_01C  calibrated VV1103_01 ...               0            INERT\n",
      " VV1103_01G    geometry VV1103_01 ...               0            INERT\n",
      " VV1100_00C  calibrated VV1100_00 ...               2        NADIR_POW\n",
      " VV1100_00G    geometry VV1100_00 ...               2        NADIR_POW\n",
      " VV1096_00C  calibrated VV1096_00 ...               2        NADIR_POW\n",
      " VV1096_00G    geometry VV1096_00 ...               2        NADIR_POW\n",
      " VV1098_01C  calibrated VV1098_01 ...               2           MOSAIC\n",
      " VV1098_01G    geometry VV1098_01 ...               2           MOSAIC\n"
     ]
    }
   ],
   "source": [
    "table = tablesWithMOC[0]\n",
    "tapService = vo.dal.TAPService(table[\"url\"])\n",
    "\n",
    "data = tapService.search(\"\"\"SELECT TOP 10 * FROM \"\"\" + table[\"name\"]).to_table()\n",
    "print(data)"
   ]
  },
  {
   "cell_type": "markdown",
   "id": "59fab182",
   "metadata": {},
   "source": [
    "## Import modules for Aladin and MOCs"
   ]
  },
  {
   "cell_type": "code",
   "execution_count": 13,
   "id": "b03c1622",
   "metadata": {},
   "outputs": [],
   "source": [
    "import astropy.units as u\n",
    "from astropy.coordinates import SkyCoord\n",
    "\n",
    "from astroquery.cds import cds\n",
    "from astroquery.vizier import Vizier\n",
    "\n",
    "from mocpy import MOC\n",
    "\n",
    "from ipyaladin import Aladin"
   ]
  },
  {
   "cell_type": "markdown",
   "id": "fea7313f",
   "metadata": {},
   "source": [
    "## Get the data"
   ]
  },
  {
   "cell_type": "code",
   "execution_count": 59,
   "id": "239bc886",
   "metadata": {},
   "outputs": [
    {
     "name": "stdout",
     "output_type": "stream",
     "text": [
      "granule_uid granule_gid   obs_id  ... science_case_id sc_pointing_mode\n",
      "                                  ...                                 \n",
      "----------- ----------- --------- ... --------------- ----------------\n",
      " VV1102_00C  calibrated VV1102_00 ...               0             NULL\n",
      " VV1102_00G    geometry VV1102_00 ...               0             NULL\n",
      " VV1103_01C  calibrated VV1103_01 ...               0            INERT\n",
      " VV1103_01G    geometry VV1103_01 ...               0            INERT\n",
      " VV1100_00C  calibrated VV1100_00 ...               2        NADIR_POW\n",
      " VV1100_00G    geometry VV1100_00 ...               2        NADIR_POW\n",
      "        ...         ...       ... ...             ...              ...\n",
      " VV3094_01C  calibrated VV3094_01 ...               0             NULL\n",
      " VV3094_01G    geometry VV3094_01 ...               0             NULL\n",
      " VV2936_00C  calibrated VV2936_00 ...               0             NULL\n",
      " VV2936_00G    geometry VV2936_00 ...               0             NULL\n",
      " VV2936_09C  calibrated VV2936_09 ...               0             NULL\n",
      " VV2936_09G    geometry VV2936_09 ...               0             NULL\n",
      " VV2936_02C  calibrated VV2936_02 ...               0             NULL\n",
      "Length = 20000 rows\n"
     ]
    }
   ],
   "source": [
    "table = tablesWithMOC[0]\n",
    "tapService = vo.dal.TAPService(table[\"url\"])\n",
    "\n",
    "data = tapService.search(\"\"\"SELECT * FROM \"\"\" + table[\"name\"] + \" WHERE coverage IS NOT NULL\").to_table()\n",
    "print(data)"
   ]
  },
  {
   "cell_type": "markdown",
   "id": "f2037154",
   "metadata": {},
   "source": [
    "## Load Aladin and add the data that was fetched just above\n",
    "\n",
    "Here we are using the hips of Venus"
   ]
  },
  {
   "cell_type": "code",
   "execution_count": 52,
   "id": "8fdc81cb",
   "metadata": {},
   "outputs": [
    {
     "data": {
      "application/vnd.jupyter.widget-view+json": {
       "model_id": "79018c1ee8074ee59bb445ec92088590",
       "version_major": 2,
       "version_minor": 0
      },
      "text/plain": [
       "Aladin(coo_frame='body', options=['allow_full_zoomout', 'coo_frame', 'fov', 'full_screen', 'log', 'overlay_sur…"
      ]
     },
     "execution_count": 52,
     "metadata": {},
     "output_type": "execute_result"
    }
   ],
   "source": [
    "aladin = Aladin(\n",
    "    coo_frame=data[0][\"spatial_frame_type\"],\n",
    "    survey=\"http://voparis-srv-paris.obspm.fr/vo/planeto/hips/CDS_P_Venus_Magellan_C3-MDIR-2025m/\"\n",
    ")\n",
    "aladin"
   ]
  },
  {
   "cell_type": "code",
   "execution_count": 53,
   "id": "75fd2674",
   "metadata": {},
   "outputs": [],
   "source": [
    "aladin.add_table(data)"
   ]
  },
  {
   "cell_type": "code",
   "execution_count": 66,
   "id": "51cbc935",
   "metadata": {},
   "outputs": [],
   "source": [
    "mocData = tapService.search(\"\"\"SELECT TOP 1 coverage FROM \"\"\" + table[\"name\"]).to_table()[0][\"coverage\"]"
   ]
  },
  {
   "cell_type": "code",
   "execution_count": 74,
   "id": "762b617d",
   "metadata": {},
   "outputs": [],
   "source": [
    "moc = MOC.from_str(mocData)"
   ]
  },
  {
   "cell_type": "code",
   "execution_count": 76,
   "id": "f6cd9d01",
   "metadata": {},
   "outputs": [],
   "source": [
    "mocCenter = moc.barycenter()"
   ]
  },
  {
   "cell_type": "code",
   "execution_count": 77,
   "id": "11d2c570",
   "metadata": {},
   "outputs": [],
   "source": [
    "jsonMoc = moc.serialize(format='json', optional_kw_dict=None, pre_v2=False)\n",
    "aladin.add_moc_from_dict(jsonMoc, {'color' : 'red', 'opacity' : 0.5})\n",
    "aladin.target = mocCenter.to_string()"
   ]
  }
 ],
 "metadata": {
  "kernelspec": {
   "display_name": "Python 3 (ipykernel)",
   "language": "python",
   "name": "python3"
  },
  "language_info": {
   "codemirror_mode": {
    "name": "ipython",
    "version": 3
   },
   "file_extension": ".py",
   "mimetype": "text/x-python",
   "name": "python",
   "nbconvert_exporter": "python",
   "pygments_lexer": "ipython3",
   "version": "3.10.6"
  }
 },
 "nbformat": 4,
 "nbformat_minor": 5
}
