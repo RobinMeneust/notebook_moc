{
 "cells": [
  {
   "cell_type": "markdown",
   "id": "d623fd4b",
   "metadata": {},
   "source": [
    "# How to get and use MOC data from VESPA in Python with PyVO\n",
    "\n",
    "Illustrate search for MOC data in VESPA using PyVO.\n",
    "It also gives an example of a simple query to group together MOCs with the same value for a specific field (channel id), and then give the elements that are in the area defined by the intersection of all of those MOCs.\n",
    "\n",
    "## Import required modules"
   ]
  },
  {
   "cell_type": "code",
   "execution_count": 1,
   "id": "f2bb6e67",
   "metadata": {},
   "outputs": [],
   "source": [
    "import pyvo\n",
    "from mpl_toolkits.basemap import Basemap"
   ]
  },
  {
   "cell_type": "markdown",
   "id": "1b6bb8b9",
   "metadata": {},
   "source": [
    "## Search a table in the RegTAP registry\n",
    "\n",
    "In this example we are looking for services with data about Venus since we know that at least one of them has MOC (Multi-Order Coverage map) data, this service is \"VVEx - VIRTIS/Venus Express database\".\n",
    "\n",
    "### Search the database containg a table that has the following keyword in its description"
   ]
  },
  {
   "cell_type": "code",
   "execution_count": 2,
   "id": "8fadf32d",
   "metadata": {},
   "outputs": [],
   "source": [
    "keyword = \"Venus\""
   ]
  },
  {
   "cell_type": "markdown",
   "id": "6d143f83",
   "metadata": {},
   "source": [
    "We use pyvo's search function to search for EPN-TAP services, since we want a \"coverage\" field for the MOCs."
   ]
  },
  {
   "cell_type": "code",
   "execution_count": 7,
   "id": "b4b81f7c",
   "metadata": {
    "scrolled": true
   },
   "outputs": [],
   "source": [
    "databasesList = pyvo.registry.search(datamodel=\"epntap\", servicetype='tap',keywords=keyword, includeaux=True)"
   ]
  },
  {
   "cell_type": "code",
   "execution_count": 8,
   "id": "ccad3302",
   "metadata": {
    "scrolled": true
   },
   "outputs": [
    {
     "name": "stdout",
     "output_type": "stream",
     "text": [
      "\n",
      "Cassini RPWS\n",
      "BDIP\n",
      "HST Planeto\n",
      "VVEx\n",
      "MESS-MAG-VSO\n",
      "MESS-MAG-VSO-AVG\n",
      "PVO-PHEM-ASC\n",
      "PVO-PHEM-BIN\n",
      "VEX-ASPERA4-DER\n",
      "VEX-ASPERA4-ENG\n",
      "VEX-ASPERA4-RAW\n",
      "VEX-HIGH-MAG\n"
     ]
    }
   ],
   "source": [
    "for d in databasesList :\n",
    "    print(d.short_name)"
   ]
  },
  {
   "cell_type": "markdown",
   "id": "78fddd56",
   "metadata": {},
   "source": [
    "### Search the tables in the databases that were found"
   ]
  },
  {
   "cell_type": "markdown",
   "id": "5ffb8f9f",
   "metadata": {},
   "source": [
    "First, we need to get the access url of all the databases found in the previous section.\n",
    "So we get the list of values in the field access_url of databasesList.\n",
    "But this list contains duplicates, so we create a set from this list to have a set of unique urls (since a set doesn't have duplicates)."
   ]
  },
  {
   "cell_type": "code",
   "execution_count": 5,
   "id": "7b741c97",
   "metadata": {
    "scrolled": true
   },
   "outputs": [],
   "source": [
    "urlsList = set(databasesList.to_table().field(\"access_urls\"))"
   ]
  },
  {
   "cell_type": "markdown",
   "id": "5802c5b9",
   "metadata": {},
   "source": [
    "For each url in the previous list we create a TAPService object representing the TAP service corresponding to this url.\n",
    "We can now search in this service all the tables whose name or description match with the keyword.\n",
    "\n",
    "We add the results in an array of dictionnaries that contains both the access url and the name of the table."
   ]
  },
  {
   "cell_type": "code",
   "execution_count": 6,
   "id": "fa3d14ce",
   "metadata": {},
   "outputs": [
    {
     "name": "stdout",
     "output_type": "stream",
     "text": [
      "Searching in service https://vo-pds-ppi.igpp.ucla.edu/tap\n",
      "Searching in service http://voparis-tap-maser.obspm.fr/tap\n",
      "Searching in service http://voparis-tap-planeto.obspm.fr/tap\n",
      "Searching in service http://vo.lmd.jussieu.fr/tap\n",
      "DONE\n"
     ]
    }
   ],
   "source": [
    "tables = []\n",
    "\n",
    "for url in urlsList :\n",
    "    print(\"Searching in service \" + url)\n",
    "    service = pyvo.dal.TAPService(url)\n",
    "    searchResult = service.search(\"SELECT table_name FROM tap_schema.tables WHERE table_name LIKE '%\"+keyword+\"%' OR description LIKE '%\"+keyword+\"%'\")\n",
    "    for tableFound in searchResult[\"table_name\"] :\n",
    "        tables.append({\"url\":url,\"name\":tableFound})\n",
    "print(\"DONE\")"
   ]
  },
  {
   "cell_type": "code",
   "execution_count": 7,
   "id": "d98ad438",
   "metadata": {
    "scrolled": false
   },
   "outputs": [
    {
     "name": "stdout",
     "output_type": "stream",
     "text": [
      "vex_cleaned_high_res_mag.epn_core  at  https://vo-pds-ppi.igpp.ucla.edu/tap\n",
      "vex_aspera4_els_raw.epn_core  at  https://vo-pds-ppi.igpp.ucla.edu/tap\n",
      "mess_mag_calibrated_vso.epn_core  at  https://vo-pds-ppi.igpp.ucla.edu/tap\n",
      "vex_aspera4_els_derived.epn_core  at  https://vo-pds-ppi.igpp.ucla.edu/tap\n",
      "mess_mag_calibrated_vso_avg.epn_core  at  https://vo-pds-ppi.igpp.ucla.edu/tap\n",
      "pvo_ephem_vso_asc.epn_core  at  https://vo-pds-ppi.igpp.ucla.edu/tap\n",
      "vex_aspera4_els_eng.epn_core  at  https://vo-pds-ppi.igpp.ucla.edu/tap\n",
      "pvo_ephem_vso_bin.epn_core  at  https://vo-pds-ppi.igpp.ucla.edu/tap\n",
      "vvex.epn_core  at  http://voparis-tap-planeto.obspm.fr/tap\n"
     ]
    }
   ],
   "source": [
    "for table in tables :\n",
    "    print(table[\"name\"],\" at \", table[\"url\"])"
   ]
  },
  {
   "cell_type": "markdown",
   "id": "9322839c",
   "metadata": {},
   "source": [
    "## Only keep tables with a 'coverage' key (and so maybe a MOC)"
   ]
  },
  {
   "cell_type": "markdown",
   "id": "8e9b56f6",
   "metadata": {},
   "source": [
    "In this section, we want to only keep tables that may contain MOC data, and put them in the array tablesWithMOC.\n",
    "So, for each table, we use its access url to create a TAPService object, as we have done before.\n",
    "And then, we use the following ADQL query to check if there are rows with a coverage.\n",
    "\n",
    "If there is no coverage field (an Exception is thrown and catched) or if this field is null, then it returns false (there is no MOC data), otherwise it returns true."
   ]
  },
  {
   "cell_type": "code",
   "execution_count": 8,
   "id": "20802af7",
   "metadata": {},
   "outputs": [],
   "source": [
    "def doContainMOC(table) :\n",
    "    service = pyvo.dal.TAPService(table[\"url\"])\n",
    "    try :\n",
    "        searchResult = service.search(\"SELECT TOP 1 * FROM \"+table[\"name\"]+\" WHERE coverage IS NOT NULL\")\n",
    "        if searchResult == \"\" :\n",
    "            return False\n",
    "        else :\n",
    "            return True\n",
    "    except :\n",
    "        return False"
   ]
  },
  {
   "cell_type": "code",
   "execution_count": 9,
   "id": "3c5c2733",
   "metadata": {},
   "outputs": [
    {
     "name": "stdout",
     "output_type": "stream",
     "text": [
      "Checking table  vex_cleaned_high_res_mag.epn_core\n",
      "Checking table  vex_aspera4_els_raw.epn_core\n",
      "Checking table  mess_mag_calibrated_vso.epn_core\n",
      "Checking table  vex_aspera4_els_derived.epn_core\n",
      "Checking table  mess_mag_calibrated_vso_avg.epn_core\n",
      "Checking table  pvo_ephem_vso_asc.epn_core\n",
      "Checking table  vex_aspera4_els_eng.epn_core\n",
      "Checking table  pvo_ephem_vso_bin.epn_core\n",
      "Checking table  vvex.epn_core\n"
     ]
    }
   ],
   "source": [
    "tablesWithMOC = []\n",
    "for table in tables :\n",
    "    print(\"Checking table \",table[\"name\"])\n",
    "    if doContainMOC(table) :\n",
    "        tablesWithMOC.append(table)"
   ]
  },
  {
   "cell_type": "code",
   "execution_count": 10,
   "id": "9a3ec2e8",
   "metadata": {},
   "outputs": [
    {
     "name": "stdout",
     "output_type": "stream",
     "text": [
      "vvex.epn_core\n"
     ]
    }
   ],
   "source": [
    "for table in tablesWithMOC :\n",
    "    print(table[\"name\"])"
   ]
  },
  {
   "cell_type": "markdown",
   "id": "9fab3f31",
   "metadata": {},
   "source": [
    "## Display the first 10 elements of a table\n",
    "Here, and in the rest of this notebook, we only consider the first table found in the previous section"
   ]
  },
  {
   "cell_type": "code",
   "execution_count": 11,
   "id": "4406e951",
   "metadata": {
    "scrolled": true
   },
   "outputs": [
    {
     "name": "stdout",
     "output_type": "stream",
     "text": [
      "granule_uid granule_gid   obs_id  ... science_case_id sc_pointing_mode\n",
      "                                  ...                                 \n",
      "----------- ----------- --------- ... --------------- ----------------\n",
      " VV1518_02C  calibrated VV1518_02 ...               0             NULL\n",
      " VV1518_02G    geometry VV1518_02 ...               0             NULL\n",
      " VV1518_08C  calibrated VV1518_08 ...               2           MOSAIC\n",
      " VV1518_08G    geometry VV1518_08 ...               2           MOSAIC\n",
      " VV1518_07C  calibrated VV1518_07 ...               2           MOSAIC\n",
      " VV1518_07G    geometry VV1518_07 ...               2           MOSAIC\n",
      " VV1518_11C  calibrated VV1518_11 ...               1        NADIR_POW\n",
      " VV1518_11G    geometry VV1518_11 ...               1        NADIR_POW\n",
      " VV1518_09C  calibrated VV1518_09 ...               2           MOSAIC\n",
      " VV1518_09G    geometry VV1518_09 ...               2           MOSAIC\n"
     ]
    }
   ],
   "source": [
    "table = tablesWithMOC[0]\n",
    "tapService = pyvo.dal.TAPService(table[\"url\"])\n",
    "\n",
    "data = tapService.search(\"SELECT TOP 10 * FROM \" + table[\"name\"]).to_table()\n",
    "print(data)"
   ]
  },
  {
   "cell_type": "markdown",
   "id": "59fab182",
   "metadata": {},
   "source": [
    "## Import modules for Aladin and MOCs"
   ]
  },
  {
   "cell_type": "code",
   "execution_count": 12,
   "id": "b03c1622",
   "metadata": {},
   "outputs": [],
   "source": [
    "from mocpy import MOC\n",
    "from ipyaladin import Aladin"
   ]
  },
  {
   "cell_type": "markdown",
   "id": "7ca1cfb4",
   "metadata": {},
   "source": [
    "## How to load a MOC in Aladin\n",
    "\n",
    "In this section we will see how to load a MOC in Aladin.\n",
    "\n",
    "### Get the data"
   ]
  },
  {
   "cell_type": "code",
   "execution_count": 13,
   "id": "4fd490e2",
   "metadata": {
    "scrolled": true
   },
   "outputs": [
    {
     "name": "stdout",
     "output_type": "stream",
     "text": [
      "granule_uid granule_gid   obs_id  ... science_case_id sc_pointing_mode\n",
      "                                  ...                                 \n",
      "----------- ----------- --------- ... --------------- ----------------\n",
      " VV1518_02C  calibrated VV1518_02 ...               0             NULL\n",
      " VV1518_02G    geometry VV1518_02 ...               0             NULL\n",
      " VV1518_08C  calibrated VV1518_08 ...               2           MOSAIC\n",
      " VV1518_08G    geometry VV1518_08 ...               2           MOSAIC\n",
      " VV1518_07C  calibrated VV1518_07 ...               2           MOSAIC\n"
     ]
    }
   ],
   "source": [
    "table = tablesWithMOC[0]\n",
    "tapService = pyvo.dal.TAPService(table[\"url\"])\n",
    "\n",
    "data = tapService.search(\"SELECT TOP 5 * FROM \" + table[\"name\"] + \" WHERE coverage IS NOT NULL\").to_table()\n",
    "print(data)"
   ]
  },
  {
   "cell_type": "markdown",
   "id": "fab98b8f",
   "metadata": {},
   "source": [
    "### Load Aladin and add the data that was fetched just above\n",
    "\n",
    "Here, and in the following examples, we are using the HiPS (Hierarchical Progressive Surveys) of Venus.\n",
    "Other HiPS can be found here http://voparis-srv-paris.obspm.fr/vo/planeto/hips/.\n",
    "\n"
   ]
  },
  {
   "cell_type": "code",
   "execution_count": 14,
   "id": "8fdc81cb",
   "metadata": {
    "scrolled": false
   },
   "outputs": [
    {
     "data": {
      "application/vnd.jupyter.widget-view+json": {
       "model_id": "bcb44c75c56c47d6bc741998ac7c77dd",
       "version_major": 2,
       "version_minor": 0
      },
      "text/plain": [
       "Aladin(coo_frame='body', options=['allow_full_zoomout', 'coo_frame', 'fov', 'full_screen', 'log', 'overlay_sur…"
      ]
     },
     "execution_count": 14,
     "metadata": {},
     "output_type": "execute_result"
    }
   ],
   "source": [
    "aladin = Aladin(\n",
    "    coo_frame=\"body\",\n",
    "    survey=\"http://voparis-srv-paris.obspm.fr/vo/planeto/hips/CDS_P_Venus_Magellan_C3-MDIR-2025m/\"\n",
    ")\n",
    "aladin"
   ]
  },
  {
   "cell_type": "markdown",
   "id": "a617c61e",
   "metadata": {},
   "source": [
    "### Load the MOCs\n",
    "\n",
    "First, for each MOC, we create a MOC object with mocpy and then we convert it to a dictionnary, since it's the format that ipyaladin expects in the function add_moc_from_dict.\n",
    "And we change the FOV so that the view is refreshed."
   ]
  },
  {
   "cell_type": "code",
   "execution_count": 15,
   "id": "11d2c570",
   "metadata": {},
   "outputs": [],
   "source": [
    "for item in data :\n",
    "    mocObject = MOC.from_str(item[\"coverage\"])\n",
    "    jsonMoc = mocObject.serialize(format='json', optional_kw_dict=None, pre_v2=False)\n",
    "    aladin.add_moc_from_dict(jsonMoc, {'opacity' : 0.5, 'name' : item[\"granule_uid\"]})\n",
    "aladin.fov = aladin.fov+1.0"
   ]
  },
  {
   "cell_type": "markdown",
   "id": "5ba878f6",
   "metadata": {},
   "source": [
    "We center the view on one of the MOC"
   ]
  },
  {
   "cell_type": "code",
   "execution_count": 16,
   "id": "5fa2bba1",
   "metadata": {},
   "outputs": [],
   "source": [
    "mocCenter = MOC.from_str(data[0][\"coverage\"]).barycenter()\n",
    "aladin.target = mocCenter.to_string()"
   ]
  },
  {
   "cell_type": "markdown",
   "id": "c123a8ad",
   "metadata": {},
   "source": [
    "## Union and intersection of MOCs\n",
    "\n",
    "In this section, we are going to see how to search specific MOCs.\n",
    "Here we only consider MOCs in the Northern Hemisphere, whose dataproduct_type is the spectral cube and whose observation minimim local time was before 20 P.M.\n",
    "\n",
    "Then, we will group those MOCs in three categories, corresponding to the channel_id field associated to them.\n",
    "And finally, we will search all the elements whose MOC is in a MOC defined as the intersection of those three groups."
   ]
  },
  {
   "cell_type": "markdown",
   "id": "3f245ecc",
   "metadata": {},
   "source": [
    "### Get the data"
   ]
  },
  {
   "cell_type": "code",
   "execution_count": 17,
   "id": "8afd1891",
   "metadata": {},
   "outputs": [],
   "source": [
    "table = tablesWithMOC[0]\n",
    "tapService = pyvo.dal.TAPService(table[\"url\"])\n",
    "query = 'SELECT * FROM '+table[\"name\"]+' WHERE c1min >= 0.0 AND c1min <= 360.0 AND c1max >= 0.0 AND c1max <= 360.0 AND c2min >= 0.0 AND c2min <= 90.0 AND c2max >= 0.0 AND c2max <= 90.0 AND dataproduct_type LIKE \\'%sc%\\' AND local_time_min <= 20'\n",
    "\n",
    "data = tapService.search(query).to_table()"
   ]
  },
  {
   "cell_type": "code",
   "execution_count": 18,
   "id": "615beacb",
   "metadata": {},
   "outputs": [
    {
     "name": "stdout",
     "output_type": "stream",
     "text": [
      "Number of results:  16\n",
      "granule_uid\tproduct\tc1min ; c1max\t\tc2min ; c2max\t\tlocal_time_min\n",
      "VV0041_02C \t sc \t 356.868 ; 357.605 \t 7.18175 ; 69.9193 \t 2.98\n",
      "VV0047_00C \t sc \t 187.423 ; 3.6804 \t 4.82867 ; 89.6728 \t 3.8\n",
      "VV0058_00C \t sc \t 203.97 ; 207.854 \t 4.6971 ; 84.4626 \t 16.44\n",
      "VV0062_00C \t sc \t 205.277 ; 209.194 \t 49.8892 ; 79.8392 \t 17.17\n",
      "VV0060_05C \t sc \t 206.929 ; 210.947 \t 4.31105 ; 84.6661 \t 16.64\n",
      "VT0033_00C \t sc \t 165.763 ; 345.301 \t 6.09572 ; 89.6878 \t 2.16\n",
      "VT0060_01C \t sc \t 207.105 ; 209.219 \t 17.0944 ; 56.5911 \t 16.76\n",
      "VT0062_00C \t sc \t 205.638 ; 209.208 \t 54.6843 ; 77.9203 \t 17.17\n",
      "VT0041_03C \t sc \t 357.249 ; 357.394 \t 17.0473 ; 50.3341 \t 2.99\n",
      "VT0047_00C \t sc \t 187.808 ; 189.872 \t 9.29254 ; 57.4396 \t 15.39\n",
      "VT0058_00C \t sc \t 204.138 ; 206.249 \t 16.853 ; 56.5184 \t 16.55\n",
      "VI0041_02C \t sc \t 356.868 ; 357.605 \t 7.18498 ; 69.9257 \t 2.98\n",
      "VI0047_00C \t sc \t 187.422 ; 3.6675 \t 4.79193 ; 89.6692 \t 3.8\n",
      "VI0058_00C \t sc \t 203.961 ; 207.635 \t 4.52508 ; 84.1857 \t 16.45\n",
      "VI0060_05C \t sc \t 206.929 ; 210.946 \t 4.6358 ; 84.6647 \t 16.64\n",
      "VI0062_00C \t sc \t 205.298 ; 209.206 \t 49.5757 ; 79.6494 \t 17.17\n"
     ]
    }
   ],
   "source": [
    "print(\"Number of results: \", len(data))\n",
    "print(\"granule_uid\\tproduct\\tc1min ; c1max\\t\\tc2min ; c2max\\t\\tlocal_time_min\")\n",
    "for e in data :\n",
    "    print(e[\"granule_uid\"],\"\\t\",e[\"dataproduct_type\"], \"\\t\", e[\"c1min\"], \";\", e[\"c1max\"], \"\\t\", e[\"c2min\"], \";\", e[\"c2max\"],\"\\t\", e[\"local_time_min\"])"
   ]
  },
  {
   "cell_type": "markdown",
   "id": "47083fa7",
   "metadata": {},
   "source": [
    "### Group the MOCs by channel_id\n",
    "\n",
    "Here we are using a dictionnary: each key is a channel_id value, the value associated to it is an array containing all the MOCs whose channel_id is equal to this key.\n",
    "In the following block of code we are filling this dictionnary."
   ]
  },
  {
   "cell_type": "code",
   "execution_count": 19,
   "id": "0108c1da",
   "metadata": {},
   "outputs": [],
   "source": [
    "mocGroups = {\"VIRTIS_M_VIS\":[], \"VIRTIS_M_IR\":[], \"VIRTIS_H\":[]}\n",
    "for element in data :\n",
    "    mocGroups[element[\"channel_id\"]].append(MOC.from_str(element[\"coverage\"]))"
   ]
  },
  {
   "cell_type": "markdown",
   "id": "d7b54767",
   "metadata": {},
   "source": [
    "For each channel_id we are now using mocpy to make an union of all the MOCs in the array corresponding to this channel_id.\n",
    "So we add the first element to mocUnion, we remove it from the array, then for each element of the array we make an union between mocUnion and this element, and finally, we replace the array of MOCs with the MOC mocUnion at the corresponding key.\n",
    "\n",
    "So, the following block of code converts a dictionnary of MOCs array to a dictionnary of MOCs that covers the same area as the array of MOCs that was previously at the same key."
   ]
  },
  {
   "cell_type": "code",
   "execution_count": 20,
   "id": "988dee35",
   "metadata": {},
   "outputs": [],
   "source": [
    "for key in list(mocGroups.keys()) :\n",
    "    if(len(mocGroups[key]) > 0):\n",
    "        mocUnion = MOC.new_empty(29)\n",
    "        for moc in mocGroups[key] :\n",
    "            mocUnion = mocUnion.union(moc)\n",
    "        mocGroups[key] = mocUnion\n",
    "    else :\n",
    "        mocGroups.pop(key)"
   ]
  },
  {
   "cell_type": "code",
   "execution_count": 21,
   "id": "54ab6972",
   "metadata": {},
   "outputs": [
    {
     "data": {
      "application/vnd.jupyter.widget-view+json": {
       "model_id": "0b690930e50845319ba66821c064859e",
       "version_major": 2,
       "version_minor": 0
      },
      "text/plain": [
       "Aladin(coo_frame='body', options=['allow_full_zoomout', 'coo_frame', 'fov', 'full_screen', 'log', 'overlay_sur…"
      ]
     },
     "execution_count": 21,
     "metadata": {},
     "output_type": "execute_result"
    }
   ],
   "source": [
    "aladin2 = Aladin(\n",
    "    coo_frame='body',\n",
    "    survey=\"http://voparis-srv-paris.obspm.fr/vo/planeto/hips/CDS_P_Venus_Magellan_C3-MDIR-2025m/\"\n",
    ")\n",
    "aladin2"
   ]
  },
  {
   "cell_type": "code",
   "execution_count": 22,
   "id": "3607a653",
   "metadata": {},
   "outputs": [],
   "source": [
    "for group, moc in mocGroups.items() :\n",
    "    jsonMoc = moc.serialize(format='json', optional_kw_dict=None, pre_v2=False)\n",
    "    aladin2.add_moc_from_dict(jsonMoc, {'opacity' : 0.5, 'name' : group})\n",
    "aladin2.fov = aladin2.fov+1.0"
   ]
  },
  {
   "cell_type": "code",
   "execution_count": 23,
   "id": "39a1f3af",
   "metadata": {},
   "outputs": [],
   "source": [
    "mocCenter = list(mocGroups.values())[0].barycenter()\n",
    "aladin2.target = mocCenter.to_string()"
   ]
  },
  {
   "cell_type": "markdown",
   "id": "03017fc0",
   "metadata": {},
   "source": [
    "### Intersection of MOCs\n",
    "\n",
    "Here, we get the intersection of the three MOCs in mocGroups"
   ]
  },
  {
   "cell_type": "code",
   "execution_count": 24,
   "id": "46086551",
   "metadata": {},
   "outputs": [],
   "source": [
    "mocList = []\n",
    "for moc in mocGroups.values() :\n",
    "    mocList.append(moc)\n",
    "    \n",
    "if(len(mocGroups) > 0):\n",
    "    mocIntersection = mocList[0]\n",
    "    mocList.pop(0)\n",
    "    for moc in mocList :\n",
    "        mocIntersection = mocIntersection.intersection(moc)"
   ]
  },
  {
   "cell_type": "markdown",
   "id": "c6492a7e",
   "metadata": {},
   "source": [
    "We can plot this intersection in Aladin if needed:"
   ]
  },
  {
   "cell_type": "code",
   "execution_count": 25,
   "id": "24a4fabc",
   "metadata": {},
   "outputs": [],
   "source": [
    "jsonMoc = mocIntersection.serialize(format='json', optional_kw_dict=None, pre_v2=False)\n",
    "aladin2.add_moc_from_dict(jsonMoc, {'opacity' : 0.5, 'name' : 'intersection'})\n",
    "aladin2.fov = aladin2.fov+1.0"
   ]
  },
  {
   "cell_type": "code",
   "execution_count": 26,
   "id": "84ba2a4b",
   "metadata": {},
   "outputs": [],
   "source": [
    "mocCenter = mocIntersection.barycenter()\n",
    "aladin2.target = mocCenter.to_string()"
   ]
  },
  {
   "cell_type": "markdown",
   "id": "97b88ee9",
   "metadata": {},
   "source": [
    "Then, for each item in the data that we got in the \"Get the data\" section, we can get the intersection between the MOC associated to this item and the MOC corresponding to the intersection of the three groups of MOCs (mocIntersection).\n",
    "\n",
    "If this intersection is not empty, then this item is in mocIntersection.\n",
    "So we get a list of items whose MOC intersects with the MOC of other items with the two other types of channel_id"
   ]
  },
  {
   "cell_type": "code",
   "execution_count": 27,
   "id": "c16c0e0c",
   "metadata": {},
   "outputs": [],
   "source": [
    "results = []\n",
    "for item in data :\n",
    "    moc = MOC.from_str(item[\"coverage\"])\n",
    "    if not moc.intersection(mocIntersection).empty() :\n",
    "        results.append(item)        "
   ]
  },
  {
   "cell_type": "code",
   "execution_count": 28,
   "id": "1de18361",
   "metadata": {},
   "outputs": [
    {
     "name": "stdout",
     "output_type": "stream",
     "text": [
      "15  results found:\n",
      "VV0041_02C\n",
      "VV0047_00C\n",
      "VV0058_00C\n",
      "VV0062_00C\n",
      "VV0060_05C\n",
      "VT0060_01C\n",
      "VT0062_00C\n",
      "VT0041_03C\n",
      "VT0047_00C\n",
      "VT0058_00C\n",
      "VI0041_02C\n",
      "VI0047_00C\n",
      "VI0058_00C\n",
      "VI0060_05C\n",
      "VI0062_00C\n"
     ]
    }
   ],
   "source": [
    "print(len(results), \" results found:\")\n",
    "for item in results :\n",
    "    print(item[\"granule_uid\"])"
   ]
  },
  {
   "cell_type": "markdown",
   "id": "e4f703b0",
   "metadata": {},
   "source": [
    "## Select an area in Aladin and search elements within"
   ]
  },
  {
   "cell_type": "markdown",
   "id": "7f8291fe",
   "metadata": {},
   "source": [
    "### Import required modules"
   ]
  },
  {
   "cell_type": "code",
   "execution_count": 29,
   "id": "1a43dc56",
   "metadata": {},
   "outputs": [],
   "source": [
    "from astropy.coordinates import SkyCoord\n",
    "import astropy.units as u\n",
    "from ipywidgets import Layout, Box, widgets"
   ]
  },
  {
   "cell_type": "markdown",
   "id": "80f48f02",
   "metadata": {},
   "source": [
    "### Draw a MOC with the mouse cursor\n",
    "\n",
    "When the user click somewhere in Aladin (on the surface), the position of the click is saved and we update the ranges of c1 and c2 (longitude and latitude), that will be used for the query to avoid having to much data.\n",
    "\n",
    "To get the moc of the selected area, click on the button 'Add selection' and you will see it in Aladin (you might need to rotate the sphere to update the view).\n",
    "\n",
    "But before doing so, we need to add an event to the button and to the Aladin box. This will be added in the following blocks of code."
   ]
  },
  {
   "cell_type": "code",
   "execution_count": 30,
   "id": "201a405d",
   "metadata": {
    "scrolled": true
   },
   "outputs": [
    {
     "data": {
      "application/vnd.jupyter.widget-view+json": {
       "model_id": "1881eff876f04040bbc10532451d60a9",
       "version_major": 2,
       "version_minor": 0
      },
      "text/plain": [
       "Box(children=(Aladin(coo_frame='body', layout=Layout(width='70%'), options=['allow_full_zoomout', 'coo_frame',…"
      ]
     },
     "execution_count": 30,
     "metadata": {},
     "output_type": "execute_result"
    },
    {
     "name": "stdout",
     "output_type": "stream",
     "text": [
      "None\r"
     ]
    }
   ],
   "source": [
    "aladin3 = Aladin(\n",
    "    layout=Layout(width=\"70%\"),\n",
    "    coo_frame='body',\n",
    "    survey=\"http://voparis-srv-paris.obspm.fr/vo/planeto/hips/CDS_P_Venus_Magellan_C3-MDIR-2025m/\"\n",
    ")\n",
    "\n",
    "button = widgets.Button(description=\"Add selection\")\n",
    "\n",
    "box_layout = Layout(\n",
    "    display=\"flex\", flex_flow=\"row\", align_items=\"stretch\", width=\"100%\"\n",
    ")\n",
    "box = Box(children=[aladin3, button], layout=box_layout)\n",
    "box"
   ]
  },
  {
   "cell_type": "code",
   "execution_count": 31,
   "id": "d7d6fce9",
   "metadata": {},
   "outputs": [],
   "source": [
    "def updateBounds(areaPoints, ra, dec) :\n",
    "    if areaPoints[\"c1min\"] is None or areaPoints[\"c1min\"] > ra :\n",
    "        areaPoints[\"c1min\"] = ra\n",
    "    if areaPoints[\"c1max\"] is None or areaPoints[\"c1max\"] < ra :\n",
    "        areaPoints[\"c1max\"] = ra\n",
    "    if areaPoints[\"c2min\"] is None or areaPoints[\"c2min\"] > dec :\n",
    "        areaPoints[\"c2min\"] = dec\n",
    "    if areaPoints[\"c2max\"] is None or areaPoints[\"c2max\"] < dec :\n",
    "        areaPoints[\"c2max\"] = dec"
   ]
  },
  {
   "cell_type": "code",
   "execution_count": 32,
   "id": "3a7e3938",
   "metadata": {},
   "outputs": [],
   "source": [
    "def addMocSelectionToAladin(*_) :\n",
    "    if len(areaPoints) > 1 :\n",
    "        polygonCoordinates = SkyCoord(areaPoints[\"ra\"]*u.deg, areaPoints[\"dec\"]*u.deg)\n",
    "        mocSelection = MOC.from_polygon_skycoord(polygonCoordinates, max_depth=15)\n",
    "        aladin3.add_moc_from_dict(mocSelection.serialize(\"json\"), {\"color\": \"red\", \"opacity\": 0.5, \"name\": \"selection\"})\n",
    "        areaPoints[\"moc\"] = mocSelection\n",
    "aladin3.fov = aladin3.fov+1.0"
   ]
  },
  {
   "cell_type": "code",
   "execution_count": 33,
   "id": "409a789b",
   "metadata": {},
   "outputs": [],
   "source": [
    "areaPoints =  {\"moc\" : None, \"c1min\": None, \"c1max\" : None, \"c2min\" : None, \"c2max\" : None, \"ra\" : [], \"dec\" : []}\n",
    "\n",
    "def addToAreaPoints(data) :\n",
    "    updateBounds(areaPoints, data[\"ra\"],data[\"dec\"])\n",
    "    areaPoints[\"ra\"].append(data[\"ra\"])\n",
    "    areaPoints[\"dec\"].append(data[\"dec\"])"
   ]
  },
  {
   "cell_type": "markdown",
   "id": "63021483",
   "metadata": {},
   "source": [
    "And we can now add the events:"
   ]
  },
  {
   "cell_type": "code",
   "execution_count": 34,
   "id": "986b9e15",
   "metadata": {},
   "outputs": [],
   "source": [
    "aladin3.add_listener(\"click\", addToAreaPoints)\n",
    "button.on_click(addMocSelectionToAladin)"
   ]
  },
  {
   "cell_type": "markdown",
   "id": "f96d223e",
   "metadata": {},
   "source": [
    "### Get the data"
   ]
  },
  {
   "cell_type": "markdown",
   "id": "acde8c40",
   "metadata": {},
   "source": [
    "We get all the data that may intersect with the searched area, but we limit it at 5000 results here so that it's not to slow."
   ]
  },
  {
   "cell_type": "code",
   "execution_count": 35,
   "id": "72a6e271",
   "metadata": {},
   "outputs": [
    {
     "name": "stdout",
     "output_type": "stream",
     "text": [
      "Number of results:  5000\n"
     ]
    }
   ],
   "source": [
    "tapService = pyvo.dal.TAPService(table[\"url\"])\n",
    "query = 'SELECT TOP 5000 * FROM '+table[\"name\"]+' WHERE ((c1min BETWEEN '+str(areaPoints[\"c1min\"])+' AND '+str(areaPoints[\"c1max\"])+') OR (c1max BETWEEN '+str(areaPoints[\"c1min\"])+' AND '+str(areaPoints[\"c1max\"])+')) AND ((c2min BETWEEN '+str(areaPoints[\"c2min\"])+' AND '+str(areaPoints[\"c2max\"])+') OR (c2max BETWEEN '+str(areaPoints[\"c2min\"])+' AND '+str(areaPoints[\"c2max\"])+'))'\n",
    "\n",
    "data = tapService.search(query).to_table()\n",
    "\n",
    "print(\"Number of results: \", len(data))"
   ]
  },
  {
   "cell_type": "markdown",
   "id": "0fcb489c",
   "metadata": {},
   "source": [
    "### Search MOCs that intersect with it and get the associated elements"
   ]
  },
  {
   "cell_type": "markdown",
   "id": "47671b06",
   "metadata": {},
   "source": [
    "Then, for each item in the data that we got in the \"Get the data\" section, we can get the intersection between the MOC associated to this item and the MOC corresponding to the searched area.\n",
    "\n",
    "If this intersection is not empty, then this item is in the searched area."
   ]
  },
  {
   "cell_type": "code",
   "execution_count": 36,
   "id": "29099924",
   "metadata": {},
   "outputs": [],
   "source": [
    "results = []\n",
    "for item in data :\n",
    "    if areaPoints[\"moc\"] is None :\n",
    "        print(\"The search area is empty. Please select an area and click on the button\")\n",
    "    else : \n",
    "        if item[\"coverage\"] is not None and item[\"coverage\"] != \"\" :\n",
    "            moc = MOC.from_str(item[\"coverage\"])\n",
    "            if not moc.intersection(areaPoints[\"moc\"]).empty() :\n",
    "                results.append(item)"
   ]
  },
  {
   "cell_type": "code",
   "execution_count": 37,
   "id": "ae4b1cb5",
   "metadata": {},
   "outputs": [
    {
     "name": "stdout",
     "output_type": "stream",
     "text": [
      "280  results found:\n",
      "VV1748_02C\n",
      "VV1748_02G\n",
      "VV1746_02C\n",
      "VV1746_02G\n",
      "VV1719_00C\n",
      "VV1719_00G\n",
      "VV1719_01C\n",
      "VV1719_01G\n",
      "VV1654_09C\n",
      "VV1654_09G\n",
      "VV1652_08C\n",
      "VV1652_08G\n",
      "VV1650_08C\n",
      "VV1650_08G\n",
      "VV1647_05C\n",
      "VV1647_05G\n",
      "VV1623_05C\n",
      "VV1623_05G\n",
      "VV1621_04C\n",
      "VV1621_04G\n",
      "VV1618_05C\n",
      "VV1618_05G\n",
      "VV1616_05C\n",
      "VV1616_05G\n",
      "VV1653_08C\n",
      "VV1653_08G\n",
      "VV1240_00C\n",
      "VV1240_00G\n",
      "VV1617_05C\n",
      "VV1617_05G\n",
      "VV0654_03C\n",
      "VV0654_03G\n",
      "VV0656_03C\n",
      "VV0656_03G\n",
      "VV0628_09C\n",
      "VV0628_09G\n",
      "VV0377_11C\n",
      "VV0377_11G\n",
      "VV0390_09C\n",
      "VV0390_09G\n",
      "VV0390_13C\n",
      "VV0390_13G\n",
      "VV1992_06C\n",
      "VV1992_06G\n",
      "VV2081_04C\n",
      "VV2081_04G\n",
      "VV2081_07C\n",
      "VV2081_07G\n",
      "VV2081_05C\n",
      "VV2081_05G\n",
      "VV2079_06C\n",
      "VV2079_06G\n",
      "VV2079_05C\n",
      "VV2079_05G\n",
      "VV2079_07C\n",
      "VV2079_07G\n",
      "VV2078_04C\n",
      "VV2078_04G\n",
      "VV2078_05C\n",
      "VV2078_05G\n",
      "VV2077_05C\n",
      "VV2077_05G\n",
      "VV2075_05C\n",
      "VV2075_05G\n",
      "VV2075_04C\n",
      "VV2075_04G\n",
      "VV2074_04C\n",
      "VV2074_04G\n",
      "VV2072_04C\n",
      "VV2072_04G\n",
      "VV2071_04C\n",
      "VV2071_04G\n",
      "VV2120_01C\n",
      "VV2120_01G\n",
      "VV2118_01C\n",
      "VV2118_01G\n",
      "VV2117_00C\n",
      "VV2117_00G\n",
      "VV2117_01C\n",
      "VV2117_01G\n",
      "VV2116_02C\n",
      "VV2116_02G\n",
      "VV2081_06C\n",
      "VV2081_06G\n",
      "VV2077_04C\n",
      "VV2077_04G\n",
      "VV2074_05C\n",
      "VV2074_05G\n",
      "VV1846_03C\n",
      "VV1846_03G\n",
      "VV1844_05C\n",
      "VV1844_05G\n",
      "VV1843_01C\n",
      "VV1843_01G\n",
      "VV1843_03C\n",
      "VV1843_03G\n",
      "VV1841_06C\n",
      "VV1841_06G\n",
      "VV1840_02C\n",
      "VV1840_02G\n",
      "VV1782_12C\n",
      "VV1782_12G\n",
      "VV1780_08C\n",
      "VV1780_08G\n",
      "VV1743_02C\n",
      "VV1743_02G\n",
      "VV1651_09C\n",
      "VV1651_09G\n",
      "VV0905_02C\n",
      "VV0905_02G\n",
      "VV0742_02C\n",
      "VV0742_02G\n",
      "VV0657_03C\n",
      "VV0657_03G\n",
      "VV0646_00C\n",
      "VV0646_00G\n",
      "VV0609_09C\n",
      "VV0609_09G\n",
      "VV0158_00C\n",
      "VV0158_00G\n",
      "VV0157_00C\n",
      "VV0157_00G\n",
      "VV2600_02C\n",
      "VV2600_02G\n",
      "VV2596_02C\n",
      "VV2596_02G\n",
      "VV2592_02C\n",
      "VV2592_02G\n",
      "VV2583_00C\n",
      "VV2583_00G\n",
      "VV2581_00C\n",
      "VV2581_00G\n",
      "VV2582_00C\n",
      "VV2582_00G\n",
      "VV2473_04C\n",
      "VV2473_04G\n",
      "VV2470_04C\n",
      "VV2470_04G\n",
      "VV2469_03C\n",
      "VV2469_03G\n",
      "VV2461_02C\n",
      "VV2461_02G\n",
      "VV2364_14C\n",
      "VV2364_14G\n",
      "VV2363_03C\n",
      "VV2363_03G\n",
      "VV2362_06C\n",
      "VV2362_06G\n",
      "VV2362_02C\n",
      "VV2362_02G\n",
      "VV2361_03C\n",
      "VV2361_03G\n",
      "VV2360_02C\n",
      "VV2360_02G\n",
      "VV2359_03C\n",
      "VV2359_03G\n",
      "VV2358_02C\n",
      "VV2358_02G\n",
      "VV2357_03C\n",
      "VV2357_03G\n",
      "VV2355_03C\n",
      "VV2355_03G\n",
      "VV2356_02C\n",
      "VV2356_02G\n",
      "VV2354_02C\n",
      "VV2354_02G\n",
      "VV2349_02C\n",
      "VV2349_02G\n",
      "VV2345_02C\n",
      "VV2345_02G\n",
      "VV2343_02C\n",
      "VV2343_02G\n",
      "VV2338_09C\n",
      "VV2338_09G\n",
      "VV2337_15C\n",
      "VV2337_15G\n",
      "VV2743_02C\n",
      "VV2743_02G\n",
      "VV2743_05C\n",
      "VV2743_05G\n",
      "VV2918_00C\n",
      "VV2918_00G\n",
      "VV0041_02C\n",
      "VV0041_02G\n",
      "VV2836_10C\n",
      "VV2836_10G\n",
      "VV2834_10C\n",
      "VV2834_10G\n",
      "VT1253_02C\n",
      "VT1253_02G\n",
      "VT0279_05C\n",
      "VT0279_05G\n",
      "VT0385_03C\n",
      "VT0385_03G\n",
      "VT0743_04C\n",
      "VT0743_04G\n",
      "VT0741_04C\n",
      "VT0741_04G\n",
      "VT0742_04C\n",
      "VT0742_04G\n",
      "VT0888_03C\n",
      "VT0888_03G\n",
      "VT0764_05C\n",
      "VT0764_05G\n",
      "VT0766_05C\n",
      "VT0766_05G\n",
      "VI0041_02C\n",
      "VI0041_02G\n",
      "VI0360_08C\n",
      "VI0360_08G\n",
      "VI0363_02C\n",
      "VI0363_02G\n",
      "VI0364_08C\n",
      "VI0364_08G\n",
      "VI0368_08C\n",
      "VI0368_08G\n",
      "VI0371_10C\n",
      "VI0371_10G\n",
      "VI0373_01C\n",
      "VI0373_01G\n",
      "VI0377_11C\n",
      "VI0377_11G\n",
      "VI0383_00C\n",
      "VI0383_00G\n",
      "VI0383_12C\n",
      "VI0383_12G\n",
      "VI0384_00C\n",
      "VI0384_00G\n",
      "VI0384_01C\n",
      "VI0384_01G\n",
      "VI0384_02C\n",
      "VI0384_02G\n",
      "VI0384_04C\n",
      "VI0384_04G\n",
      "VI0384_05C\n",
      "VI0384_05G\n",
      "VI0385_07C\n",
      "VI0385_07G\n",
      "VI0388_09C\n",
      "VI0388_09G\n",
      "VI0388_10C\n",
      "VI0388_10G\n",
      "VI0388_11C\n",
      "VI0388_11G\n",
      "VI0388_12C\n",
      "VI0388_12G\n",
      "VI0388_13C\n",
      "VI0388_13G\n",
      "VI0388_14C\n",
      "VI0388_14G\n",
      "VI0390_09C\n",
      "VI0390_09G\n",
      "VI0390_10C\n",
      "VI0390_10G\n",
      "VI0390_11C\n",
      "VI0390_11G\n",
      "VI0390_12C\n",
      "VI0390_12G\n",
      "VI0390_13C\n",
      "VI0390_13G\n",
      "VI0156_00C\n",
      "VI0156_00G\n",
      "VI0156_01C\n",
      "VI0156_01G\n",
      "VI0157_00C\n",
      "VI0157_00G\n",
      "VI0157_01C\n",
      "VI0157_01G\n",
      "VI0158_00C\n",
      "VI0158_00G\n",
      "VI0158_01C\n",
      "VI0158_01G\n",
      "VI0159_00C\n",
      "VI0159_00G\n",
      "VI0159_01C\n",
      "VI0159_01G\n",
      "VI0159_02C\n",
      "VI0159_02G\n",
      "VI0458_07C\n",
      "VI0458_07G\n"
     ]
    }
   ],
   "source": [
    "print(len(results), \" results found:\")\n",
    "for item in results :\n",
    "    print(item[\"granule_uid\"])"
   ]
  },
  {
   "cell_type": "markdown",
   "id": "9555ccf5",
   "metadata": {},
   "source": [
    "### Load the MOCs of some of the results in Aladin"
   ]
  },
  {
   "cell_type": "code",
   "execution_count": 38,
   "id": "c6c85a52",
   "metadata": {},
   "outputs": [],
   "source": [
    "for i in range(min(10, len(results))) :\n",
    "    moc = MOC.from_str(results[i][\"coverage\"])\n",
    "    aladin3.add_moc_from_dict(moc.serialize(\"json\"), {\"opacity\": 0.5, \"name\": results[i][\"granule_uid\"]})\n",
    "aladin3.fov = aladin3.fov+1.0"
   ]
  }
 ],
 "metadata": {
  "kernelspec": {
   "display_name": "Python 3 (ipykernel)",
   "language": "python",
   "name": "python3"
  },
  "language_info": {
   "codemirror_mode": {
    "name": "ipython",
    "version": 3
   },
   "file_extension": ".py",
   "mimetype": "text/x-python",
   "name": "python",
   "nbconvert_exporter": "python",
   "pygments_lexer": "ipython3",
   "version": "3.10.6"
  }
 },
 "nbformat": 4,
 "nbformat_minor": 5
}
