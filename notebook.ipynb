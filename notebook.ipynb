{
 "cells": [
  {
   "cell_type": "markdown",
   "id": "d623fd4b",
   "metadata": {},
   "source": [
    "# How to get MOC data from VESPA in Python\n",
    "\n",
    "Illustrate search for CDPP TAP MOC for vespa using 'pyvo' and 'astropy'\n",
    "\n",
    "## Import required modules"
   ]
  },
  {
   "cell_type": "code",
   "execution_count": 13,
   "id": "f2bb6e67",
   "metadata": {},
   "outputs": [],
   "source": [
    "import pyvo as vo\n",
    "from mpl_toolkits.basemap import Basemap\n",
    "import re"
   ]
  },
  {
   "cell_type": "markdown",
   "id": "1b6bb8b9",
   "metadata": {},
   "source": [
    "## Search a specific TAP service\n",
    "\n",
    "We are looking for VVEx - VIRTIS/Venus Express database since it has a MOC\n",
    "\n",
    "### Search the database containing this service"
   ]
  },
  {
   "cell_type": "code",
   "execution_count": 14,
   "id": "8fadf32d",
   "metadata": {},
   "outputs": [],
   "source": [
    "nameServiceSearched = \"VVEx\""
   ]
  },
  {
   "cell_type": "code",
   "execution_count": 15,
   "id": "b4b81f7c",
   "metadata": {
    "scrolled": true
   },
   "outputs": [
    {
     "name": "stdout",
     "output_type": "stream",
     "text": [
      "<bound method DALResults.to_table of <Table length=1>\n",
      "           ivoid                  res_type     ...  intf_types  intf_roles\n",
      "                                               ...                        \n",
      "           object                  object      ...    object      object  \n",
      "---------------------------- ----------------- ... ------------ ----------\n",
      "ivo://padc.obspm.planeto/tap vs:catalogservice ... vs:paramhttp        std>\n"
     ]
    }
   ],
   "source": [
    "databasesList = vo.registry.search(servicetype='tap',keywords=[nameServiceSearched], includeaux=True)\n",
    "print(databasesList.to_table)"
   ]
  },
  {
   "cell_type": "markdown",
   "id": "58d1cd67",
   "metadata": {},
   "source": [
    "#### Get the first result and print its url"
   ]
  },
  {
   "cell_type": "code",
   "execution_count": 16,
   "id": "1a4b9c7f",
   "metadata": {},
   "outputs": [
    {
     "name": "stdout",
     "output_type": "stream",
     "text": [
      "Url:  http://voparis-tap-planeto.obspm.fr/tap\n"
     ]
    }
   ],
   "source": [
    "database = databasesList[0] # First result\n",
    "print(\"Url: \",database.access_url) # Url used to access the service"
   ]
  },
  {
   "cell_type": "markdown",
   "id": "78fddd56",
   "metadata": {},
   "source": [
    "### Search the service in the database that was found\n",
    "\n",
    "table_limit is too low by default so it needs to be specified here"
   ]
  },
  {
   "cell_type": "code",
   "execution_count": 19,
   "id": "00ceffc6",
   "metadata": {},
   "outputs": [
    {
     "name": "stderr",
     "output_type": "stream",
     "text": [
      "WARNING: W02: ?:?:?: W02: 'unicodechar' is not a valid datatype according to the VOSI spec [pyvo.io.vosi.vodataservice]\n"
     ]
    }
   ],
   "source": [
    "for s in list(database.get_tables(table_limit=50).keys()) :\n",
    "    if re.search(\"^.*\"+nameServiceSearched.upper()+\".*$\", str(s).upper()) :\n",
    "        service = database.get_tables(table_limit=50)[s]\n",
    "        break"
   ]
  },
  {
   "cell_type": "code",
   "execution_count": 20,
   "id": "d98ad438",
   "metadata": {},
   "outputs": [
    {
     "name": "stdout",
     "output_type": "stream",
     "text": [
      "Service:  vvex.epn_core\n"
     ]
    }
   ],
   "source": [
    "print(\"Service: \",service.name)"
   ]
  },
  {
   "cell_type": "markdown",
   "id": "9322839c",
   "metadata": {},
   "source": [
    "## Check if a a table has a coverage key (and so maybe a MOC)"
   ]
  },
  {
   "cell_type": "code",
   "execution_count": 21,
   "id": "20802af7",
   "metadata": {},
   "outputs": [],
   "source": [
    "def doContainMOC(table) :\n",
    "    if table == None :\n",
    "        return False\n",
    "    for field in table.columns :\n",
    "        if re.search(\"^.*<BaseParam name=\\\"coverage\\\"/>.*$\", str(field)) :\n",
    "            return True\n",
    "    return False"
   ]
  },
  {
   "cell_type": "code",
   "execution_count": 22,
   "id": "0ca61fb2",
   "metadata": {
    "scrolled": true
   },
   "outputs": [],
   "source": [
    "#if doContainMOC(service) :\n",
    "    # queries to get MOC data"
   ]
  },
  {
   "cell_type": "code",
   "execution_count": null,
   "id": "843e2b03",
   "metadata": {},
   "outputs": [],
   "source": []
  }
 ],
 "metadata": {
  "kernelspec": {
   "display_name": "Python 3 (ipykernel)",
   "language": "python",
   "name": "python3"
  },
  "language_info": {
   "codemirror_mode": {
    "name": "ipython",
    "version": 3
   },
   "file_extension": ".py",
   "mimetype": "text/x-python",
   "name": "python",
   "nbconvert_exporter": "python",
   "pygments_lexer": "ipython3",
   "version": "3.11.4"
  }
 },
 "nbformat": 4,
 "nbformat_minor": 5
}
