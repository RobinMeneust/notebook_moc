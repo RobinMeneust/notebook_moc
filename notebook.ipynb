{
 "cells": [
  {
   "cell_type": "markdown",
   "id": "d623fd4b",
   "metadata": {},
   "source": [
    "# How to get MOC data from VESPA in Python\n",
    "\n",
    "Illustrate search for TAP MOC for vespa using 'pyvo' and 'astropy'\n",
    "\n",
    "## Import required modules"
   ]
  },
  {
   "cell_type": "code",
   "execution_count": 1,
   "id": "f2bb6e67",
   "metadata": {},
   "outputs": [],
   "source": [
    "import pyvo as vo\n",
    "from mpl_toolkits.basemap import Basemap"
   ]
  },
  {
   "cell_type": "markdown",
   "id": "1b6bb8b9",
   "metadata": {},
   "source": [
    "## Search a specific TAP service\n",
    "\n",
    "We are looking for VVEx - VIRTIS/Venus Express database since it has a MOC\n",
    "\n",
    "### Search the database containing this service"
   ]
  },
  {
   "cell_type": "code",
   "execution_count": 2,
   "id": "8fadf32d",
   "metadata": {},
   "outputs": [],
   "source": [
    "keywords = [\"Venus\"]"
   ]
  },
  {
   "cell_type": "code",
   "execution_count": 3,
   "id": "b4b81f7c",
   "metadata": {
    "scrolled": true
   },
   "outputs": [],
   "source": [
    "databasesList = vo.registry.search(servicetype='tap',keywords=keywords, includeaux=True)"
   ]
  },
  {
   "cell_type": "code",
   "execution_count": 4,
   "id": "ccad3302",
   "metadata": {},
   "outputs": [
    {
     "name": "stdout",
     "output_type": "stream",
     "text": [
      "J/A+A/537/L2\n",
      "J/A+A/585/A53\n",
      "J/A+A/606/A53\n",
      "J/A+A/613/A25\n",
      "J/A+A/619/A99\n",
      "J/A+A/627/A82\n",
      "J/A+A/653/A41\n",
      "J/AJ/154/207\n",
      "J/AJ/158/196\n",
      "J/AJ/160/131\n",
      "J/AJ/160/259\n",
      "J/AJ/162/216\n",
      "J/ApJ/800/135\n",
      "J/ApJ/807/45\n",
      "J/ApJ/893/L27\n",
      "J/MNRAS/462/4300\n",
      "J/MNRAS/485/3999\n",
      "J/MNRAS/519/6210\n",
      "VI/127\n",
      "\n",
      "GRB/IPN\n",
      "KONUS\n",
      "Cassini RPWS\n",
      "BDIP\n",
      "bdip.observatori\n",
      "HST Planeto\n",
      "VVEx\n",
      "MESS-MAG-VSO\n",
      "MESS-MAG-VSO-AVG\n",
      "PVO-PHEM-ASC\n",
      "PVO-PHEM-BIN\n",
      "VEX-ASPERA4-DER\n",
      "VEX-ASPERA4-ENG\n",
      "VEX-ASPERA4-RAW\n",
      "VEX-HIGH-MAG\n"
     ]
    }
   ],
   "source": [
    "for d in databasesList :\n",
    "    print(d.short_name)"
   ]
  },
  {
   "cell_type": "markdown",
   "id": "78fddd56",
   "metadata": {},
   "source": [
    "### Search the services in the databases that were found"
   ]
  },
  {
   "cell_type": "code",
   "execution_count": 5,
   "id": "7b741c97",
   "metadata": {
    "scrolled": true
   },
   "outputs": [],
   "source": [
    "urlsList = set(databasesList.to_table().field(\"access_urls\"))"
   ]
  },
  {
   "cell_type": "code",
   "execution_count": 6,
   "id": "fa3d14ce",
   "metadata": {},
   "outputs": [
    {
     "name": "stdout",
     "output_type": "stream",
     "text": [
      "Searching in service https://vo-pds-ppi.igpp.ucla.edu/tap\n",
      "Searching in service https://heasarc.gsfc.nasa.gov/xamin/vo/tap\n",
      "Searching in service http://voparis-tap-maser.obspm.fr/tap\n",
      "Searching in service http://tapvizier.cds.unistra.fr/TAPVizieR/tap\n",
      "Searching in service http://vo.lmd.jussieu.fr/tap\n",
      "Searching in service http://voparis-tap-planeto.obspm.fr/tap\n",
      "DONE\n"
     ]
    }
   ],
   "source": [
    "tables = []\n",
    "\n",
    "for url in urlsList :\n",
    "    print(\"Searching in service \" + url)\n",
    "    service = vo.dal.TAPService(url)\n",
    "    searchResult = service.search(\"SELECT schema_name, table_name FROM tap_schema.tables WHERE schema_name LIKE '%\"+keywords[0]+\"%' OR table_name LIKE '%\"+keywords[0]+\"%' OR description LIKE '%\"+keywords[0]+\"%'\")\n",
    "    for tableFound in searchResult[\"table_name\"] :\n",
    "        tables.append({\"url\":url,\"name\":tableFound})\n",
    "print(\"DONE\")"
   ]
  },
  {
   "cell_type": "code",
   "execution_count": 7,
   "id": "d98ad438",
   "metadata": {
    "scrolled": true
   },
   "outputs": [
    {
     "name": "stdout",
     "output_type": "stream",
     "text": [
      "vex_cleaned_high_res_mag.epn_core  at  https://vo-pds-ppi.igpp.ucla.edu/tap\n",
      "vex_aspera4_els_raw.epn_core  at  https://vo-pds-ppi.igpp.ucla.edu/tap\n",
      "mess_mag_calibrated_vso.epn_core  at  https://vo-pds-ppi.igpp.ucla.edu/tap\n",
      "vex_aspera4_els_derived.epn_core  at  https://vo-pds-ppi.igpp.ucla.edu/tap\n",
      "mess_mag_calibrated_vso_avg.epn_core  at  https://vo-pds-ppi.igpp.ucla.edu/tap\n",
      "pvo_ephem_vso_asc.epn_core  at  https://vo-pds-ppi.igpp.ucla.edu/tap\n",
      "vex_aspera4_els_eng.epn_core  at  https://vo-pds-ppi.igpp.ucla.edu/tap\n",
      "pvo_ephem_vso_bin.epn_core  at  https://vo-pds-ppi.igpp.ucla.edu/tap\n",
      "J/A+A/627/A82/tablea1  at  http://tapvizier.cds.unistra.fr/TAPVizieR/tap\n",
      "J/A+A/650/A156/tablec1  at  http://tapvizier.cds.unistra.fr/TAPVizieR/tap\n",
      "J/A+A/627/A82/tablea3  at  http://tapvizier.cds.unistra.fr/TAPVizieR/tap\n",
      "J/A+A/650/A156/table2  at  http://tapvizier.cds.unistra.fr/TAPVizieR/tap\n",
      "J/A+A/537/L2/tablea1  at  http://tapvizier.cds.unistra.fr/TAPVizieR/tap\n",
      "J/A+A/627/A82/tablea2  at  http://tapvizier.cds.unistra.fr/TAPVizieR/tap\n",
      "J/AJ/162/216/fig11  at  http://tapvizier.cds.unistra.fr/TAPVizieR/tap\n",
      "vvex.epn_core  at  http://voparis-tap-planeto.obspm.fr/tap\n"
     ]
    }
   ],
   "source": [
    "for table in tables :\n",
    "    print(table[\"name\"],\" at \", table[\"url\"])"
   ]
  },
  {
   "cell_type": "markdown",
   "id": "9322839c",
   "metadata": {},
   "source": [
    "## Only keep tables with a 'coverage' key (and so maybe a MOC)"
   ]
  },
  {
   "cell_type": "code",
   "execution_count": 8,
   "id": "20802af7",
   "metadata": {},
   "outputs": [],
   "source": [
    "def doContainMOC(table) :\n",
    "    service = vo.dal.TAPService(table[\"url\"])\n",
    "    try :\n",
    "        searchResult = service.search(\"SELECT TOP 1 * FROM \"+table[\"name\"]+\" WHERE coverage IS NOT NULL\")\n",
    "        if searchResult == \"\" :\n",
    "            return False\n",
    "        else :\n",
    "            return True\n",
    "    except :\n",
    "        return False"
   ]
  },
  {
   "cell_type": "code",
   "execution_count": 9,
   "id": "3c5c2733",
   "metadata": {},
   "outputs": [
    {
     "name": "stdout",
     "output_type": "stream",
     "text": [
      "Checking table  vex_cleaned_high_res_mag.epn_core\n",
      "Checking table  vex_aspera4_els_raw.epn_core\n",
      "Checking table  mess_mag_calibrated_vso.epn_core\n",
      "Checking table  vex_aspera4_els_derived.epn_core\n",
      "Checking table  mess_mag_calibrated_vso_avg.epn_core\n",
      "Checking table  pvo_ephem_vso_asc.epn_core\n",
      "Checking table  vex_aspera4_els_eng.epn_core\n",
      "Checking table  pvo_ephem_vso_bin.epn_core\n",
      "Checking table  J/A+A/627/A82/tablea1\n",
      "Checking table  J/A+A/650/A156/tablec1\n",
      "Checking table  J/A+A/627/A82/tablea3\n",
      "Checking table  J/A+A/650/A156/table2\n",
      "Checking table  J/A+A/537/L2/tablea1\n",
      "Checking table  J/A+A/627/A82/tablea2\n",
      "Checking table  J/AJ/162/216/fig11\n",
      "Checking table  vvex.epn_core\n"
     ]
    }
   ],
   "source": [
    "tablesWithMOC = []\n",
    "for table in tables :\n",
    "    print(\"Checking table \",table[\"name\"])\n",
    "    if doContainMOC(table) :\n",
    "        tablesWithMOC.append(table)"
   ]
  },
  {
   "cell_type": "code",
   "execution_count": 10,
   "id": "9a3ec2e8",
   "metadata": {},
   "outputs": [
    {
     "name": "stdout",
     "output_type": "stream",
     "text": [
      "vvex.epn_core\n"
     ]
    }
   ],
   "source": [
    "for table in tablesWithMOC :\n",
    "    print(table[\"name\"])"
   ]
  },
  {
   "cell_type": "markdown",
   "id": "9fab3f31",
   "metadata": {},
   "source": [
    "## Display the first 10 elements in the table\n",
    "Here we only consider the first table found in the previous section"
   ]
  },
  {
   "cell_type": "code",
   "execution_count": 11,
   "id": "7df698b9",
   "metadata": {},
   "outputs": [],
   "source": [
    "def getData(tapService, serviceStructure, query) :\n",
    "    if doContainMOC(serviceStructure) :\n",
    "        return tapService.search(query).to_table()\n",
    "    else :\n",
    "        return \"NO MOC DATA\""
   ]
  },
  {
   "cell_type": "code",
   "execution_count": 12,
   "id": "4406e951",
   "metadata": {},
   "outputs": [
    {
     "name": "stdout",
     "output_type": "stream",
     "text": [
      "granule_uid granule_gid   obs_id  ... science_case_id sc_pointing_mode\n",
      "                                  ...                                 \n",
      "----------- ----------- --------- ... --------------- ----------------\n",
      " VV0135_08G    geometry VV0135_08 ...               2           MOSAIC\n",
      " VV0134_12C  calibrated VV0134_12 ...               2           MOSAIC\n",
      " VV0134_12G    geometry VV0134_12 ...               2           MOSAIC\n",
      " VV0134_11C  calibrated VV0134_11 ...               2           MOSAIC\n",
      " VV0134_11G    geometry VV0134_11 ...               2           MOSAIC\n",
      " VV0134_01C  calibrated VV0134_01 ...               2           MOSAIC\n",
      " VV0134_01G    geometry VV0134_01 ...               2           MOSAIC\n",
      " VV0134_09C  calibrated VV0134_09 ...               2           MOSAIC\n",
      " VV0134_09G    geometry VV0134_09 ...               2           MOSAIC\n",
      " VV0134_07G    geometry VV0134_07 ...               2           MOSAIC\n"
     ]
    }
   ],
   "source": [
    "table = tablesWithMOC[0]\n",
    "tapService = vo.dal.TAPService(table[\"url\"])\n",
    "\n",
    "data = tapService.search(\"SELECT TOP 10 * FROM \" + table[\"name\"]).to_table()\n",
    "print(data)"
   ]
  },
  {
   "cell_type": "markdown",
   "id": "59fab182",
   "metadata": {},
   "source": [
    "## Import modules for Aladin and MOCs"
   ]
  },
  {
   "cell_type": "code",
   "execution_count": 13,
   "id": "b03c1622",
   "metadata": {},
   "outputs": [],
   "source": [
    "import astropy.units as u\n",
    "from astropy.coordinates import SkyCoord\n",
    "\n",
    "from astroquery.cds import cds\n",
    "from astroquery.vizier import Vizier\n",
    "\n",
    "from mocpy import MOC\n",
    "\n",
    "from ipyaladin import Aladin"
   ]
  },
  {
   "cell_type": "markdown",
   "id": "7ca1cfb4",
   "metadata": {},
   "source": [
    "## Get the data"
   ]
  },
  {
   "cell_type": "code",
   "execution_count": 14,
   "id": "4fd490e2",
   "metadata": {
    "scrolled": true
   },
   "outputs": [
    {
     "name": "stdout",
     "output_type": "stream",
     "text": [
      "granule_uid granule_gid   obs_id  ... science_case_id sc_pointing_mode\n",
      "                                  ...                                 \n",
      "----------- ----------- --------- ... --------------- ----------------\n",
      " VV0135_08G    geometry VV0135_08 ...               2           MOSAIC\n",
      " VV0134_12C  calibrated VV0134_12 ...               2           MOSAIC\n",
      " VV0134_12G    geometry VV0134_12 ...               2           MOSAIC\n",
      " VV0134_11C  calibrated VV0134_11 ...               2           MOSAIC\n",
      " VV0134_11G    geometry VV0134_11 ...               2           MOSAIC\n",
      " VV0134_01C  calibrated VV0134_01 ...               2           MOSAIC\n",
      "        ...         ...       ... ...             ...              ...\n",
      " VV0265_06C  calibrated VV0265_06 ...               2        NADIR_POW\n",
      " VV0265_06G    geometry VV0265_06 ...               2        NADIR_POW\n",
      " VV0265_05C  calibrated VV0265_05 ...               2        NADIR_POW\n",
      " VV0265_05G    geometry VV0265_05 ...               2        NADIR_POW\n",
      " VV0265_10C  calibrated VV0265_10 ...               2        NADIR_POW\n",
      " VV0265_15C  calibrated VV0265_15 ...               2        NADIR_POW\n",
      " VV0265_15G    geometry VV0265_15 ...               2        NADIR_POW\n",
      "Length = 500 rows\n"
     ]
    }
   ],
   "source": [
    "table = tablesWithMOC[0]\n",
    "tapService = vo.dal.TAPService(table[\"url\"])\n",
    "\n",
    "data = tapService.search(\"SELECT TOP 500 * FROM \" + table[\"name\"] + \" WHERE coverage IS NOT NULL\").to_table()\n",
    "print(data)"
   ]
  },
  {
   "cell_type": "markdown",
   "id": "fab98b8f",
   "metadata": {},
   "source": [
    "## Load Aladin and add the data that was fetched just above\n",
    "\n",
    "Here we are using the hips of Venus"
   ]
  },
  {
   "cell_type": "code",
   "execution_count": 30,
   "id": "8fdc81cb",
   "metadata": {},
   "outputs": [
    {
     "data": {
      "application/vnd.jupyter.widget-view+json": {
       "model_id": "6d91cc8a0ba144018bcbdc3990282929",
       "version_major": 2,
       "version_minor": 0
      },
      "text/plain": [
       "Aladin(coo_frame='body', options=['allow_full_zoomout', 'coo_frame', 'fov', 'full_screen', 'log', 'overlay_sur…"
      ]
     },
     "execution_count": 30,
     "metadata": {},
     "output_type": "execute_result"
    }
   ],
   "source": [
    "aladin = Aladin(\n",
    "    coo_frame=data[0][\"spatial_frame_type\"],\n",
    "    survey=\"http://voparis-srv-paris.obspm.fr/vo/planeto/hips/CDS_P_Venus_Magellan_C3-MDIR-2025m/\"\n",
    ")\n",
    "aladin"
   ]
  },
  {
   "cell_type": "code",
   "execution_count": 31,
   "id": "75fd2674",
   "metadata": {},
   "outputs": [],
   "source": [
    "aladin.add_table(data)"
   ]
  },
  {
   "cell_type": "markdown",
   "id": "a617c61e",
   "metadata": {},
   "source": [
    "## Load the first MOC data\n",
    "\n",
    "It needs to be converted to JSON"
   ]
  },
  {
   "cell_type": "code",
   "execution_count": 32,
   "id": "51cbc935",
   "metadata": {},
   "outputs": [],
   "source": [
    "mocData = tapService.search(\"SELECT TOP 1 coverage FROM \" + table[\"name\"]).to_table()[0][\"coverage\"]"
   ]
  },
  {
   "cell_type": "code",
   "execution_count": 33,
   "id": "58648a04",
   "metadata": {},
   "outputs": [],
   "source": [
    "moc = MOC.from_str(mocData)"
   ]
  },
  {
   "cell_type": "code",
   "execution_count": 34,
   "id": "bd33c7ec",
   "metadata": {},
   "outputs": [],
   "source": [
    "mocCenter = moc.barycenter()"
   ]
  },
  {
   "cell_type": "code",
   "execution_count": 35,
   "id": "11d2c570",
   "metadata": {},
   "outputs": [],
   "source": [
    "jsonMoc = moc.serialize(format='json', optional_kw_dict=None, pre_v2=False)\n",
    "aladin.add_moc_from_dict(jsonMoc, {'color' : 'red', 'opacity' : 0.5})\n",
    "aladin.target = mocCenter.to_string()"
   ]
  },
  {
   "cell_type": "markdown",
   "id": "c123a8ad",
   "metadata": {},
   "source": [
    "## Intersection of MOCs"
   ]
  },
  {
   "cell_type": "code",
   "execution_count": 85,
   "id": "8afd1891",
   "metadata": {},
   "outputs": [],
   "source": [
    "table = tablesWithMOC[0]\n",
    "tapService = vo.dal.TAPService(table[\"url\"])\n",
    "query = 'SELECT * FROM '+table[\"name\"]+' WHERE c1min >= 0.0 AND c1max <= 360.0 AND c2min >= 0.0 AND c2max <= 90.0 AND dataproduct_type LIKE \\'%sc%\\' AND local_time_min <= 8 AND local_time_max >= 9'\n",
    "#query = 'SELECT granule_uid, c1min,c2min FROM '+table[\"name\"]+' WHERE channel_id LIKE \\'%VIRTIS_H%\\' AND c1max >= 0.0 AND c1min <= 360.0 AND c2max >= 0.0 AND c2min <= 90.0 AND dataproduct_type LIKE \\'%sc%\\' AND local_time_min <= 8 AND local_time_max >= 9'\n",
    "\n",
    "data = tapService.search(query).to_table()"
   ]
  },
  {
   "cell_type": "code",
   "execution_count": 86,
   "id": "615beacb",
   "metadata": {},
   "outputs": [
    {
     "name": "stdout",
     "output_type": "stream",
     "text": [
      "granule_uid\tchannel_id\tcoverage c1min\t\tc1max\t\tc2min\t\tc2max\n",
      "VV0047_00C \t VIRTIS_M_VIS \t 6/107 \t 187.423 \t 3.6804 \t 4.82867 \t 89.6728\n",
      "VV0043_00C \t VIRTIS_M_VIS \t 7/445 \t 194.289 \t 349.923 \t 999.0 \t -999.0\n",
      "VT0033_00C \t VIRTIS_H \t 7/108 \t 165.763 \t 345.301 \t 6.09572 \t 89.6878\n",
      "VT0043_00C \t VIRTIS_H \t 8/173 \t 191.872 \t 341.843 \t 999.0 \t -999.0\n",
      "VI0043_00C \t VIRTIS_M_IR \t 7/445 \t 194.288 \t 349.923 \t 999.0 \t -999.0\n",
      "VI0047_00C \t VIRTIS_M_IR \t 6/107 \t 187.422 \t 3.6675 \t 4.79193 \t 89.6692\n"
     ]
    }
   ],
   "source": [
    "print(\"granule_uid\\tchannel_id\\tcoverage c1min\\t\\tc1max\\t\\tc2min\\t\\tc2max\")\n",
    "for e in data :\n",
    "    print(e[\"granule_uid\"],\"\\t\",e[\"channel_id\"],\"\\t\", e[\"coverage\"][0:5], \"\\t\", e[\"c1min\"], \"\\t\", e[\"c1max\"], \"\\t\", e[\"c2min\"], \"\\t\", e[\"c2max\"])"
   ]
  },
  {
   "cell_type": "code",
   "execution_count": 87,
   "id": "a5c238a4",
   "metadata": {},
   "outputs": [],
   "source": [
    "colors = [\"red\",\"blue\",\"green\"]"
   ]
  },
  {
   "cell_type": "code",
   "execution_count": 88,
   "id": "0108c1da",
   "metadata": {},
   "outputs": [],
   "source": [
    "mocGroups = {\"VIRTIS_M_VIS\":[], \"VIRTIS_M_IR\":[], \"VIRTIS_H\":[]}\n",
    "for element in data :\n",
    "    mocGroups[element[\"channel_id\"]].append(MOC.from_str(element[\"coverage\"]))\n",
    "\n",
    "keys = list(mocGroups.keys())\n",
    "for key in keys:\n",
    "    if(len(mocGroups[key]) > 0):\n",
    "        mocUnion = mocGroups[key][0]\n",
    "        mocGroups[key].pop(0)\n",
    "        for moc in mocGroups[key] :\n",
    "            mocUnion = mocUnion.union(moc)\n",
    "        mocGroups[key] = mocUnion\n",
    "    else :\n",
    "        mocGroups.pop(key)"
   ]
  },
  {
   "cell_type": "code",
   "execution_count": 89,
   "id": "54ab6972",
   "metadata": {},
   "outputs": [
    {
     "data": {
      "application/vnd.jupyter.widget-view+json": {
       "model_id": "35fa08244c08432bbd566164aa37a8d7",
       "version_major": 2,
       "version_minor": 0
      },
      "text/plain": [
       "Aladin(coo_frame='body', options=['allow_full_zoomout', 'coo_frame', 'fov', 'full_screen', 'log', 'overlay_sur…"
      ]
     },
     "execution_count": 89,
     "metadata": {},
     "output_type": "execute_result"
    }
   ],
   "source": [
    "aladin = Aladin(\n",
    "    coo_frame=data[0][\"spatial_frame_type\"],\n",
    "    survey=\"http://voparis-srv-paris.obspm.fr/vo/planeto/hips/CDS_P_Venus_Magellan_C3-MDIR-2025m/\"\n",
    ")\n",
    "aladin"
   ]
  },
  {
   "cell_type": "code",
   "execution_count": 90,
   "id": "46033965",
   "metadata": {},
   "outputs": [],
   "source": [
    "aladin.add_table(data)"
   ]
  },
  {
   "cell_type": "code",
   "execution_count": 91,
   "id": "3607a653",
   "metadata": {},
   "outputs": [],
   "source": [
    "i = 0\n",
    "for key in mocGroups.keys() :\n",
    "    moc = mocGroups[key]\n",
    "    jsonMoc = moc.serialize(format='json', optional_kw_dict=None, pre_v2=False)\n",
    "    aladin.add_moc_from_dict(jsonMoc, {'color' : colors[i], 'opacity' : 0.5, 'name' : key})\n",
    "    i = i + 1\n",
    "aladin.target = mocCenter.to_string()"
   ]
  },
  {
   "cell_type": "code",
   "execution_count": 92,
   "id": "fb6c01ae",
   "metadata": {},
   "outputs": [],
   "source": [
    "# Get one of the moc to use it to center the view in Aladin\n",
    "mocCenter = next(iter(mocGroups.values())).barycenter()"
   ]
  },
  {
   "cell_type": "code",
   "execution_count": null,
   "id": "818e7c85",
   "metadata": {},
   "outputs": [],
   "source": []
  },
  {
   "cell_type": "code",
   "execution_count": null,
   "id": "ce9451ef",
   "metadata": {},
   "outputs": [],
   "source": []
  }
 ],
 "metadata": {
  "kernelspec": {
   "display_name": "Python 3 (ipykernel)",
   "language": "python",
   "name": "python3"
  },
  "language_info": {
   "codemirror_mode": {
    "name": "ipython",
    "version": 3
   },
   "file_extension": ".py",
   "mimetype": "text/x-python",
   "name": "python",
   "nbconvert_exporter": "python",
   "pygments_lexer": "ipython3",
   "version": "3.10.6"
  }
 },
 "nbformat": 4,
 "nbformat_minor": 5
}
