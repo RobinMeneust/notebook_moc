{
 "cells": [
  {
   "cell_type": "markdown",
   "id": "f9567c6f",
   "metadata": {},
   "source": [
    "# How to plot one large MOC (union) per service"
   ]
  },
  {
   "cell_type": "markdown",
   "id": "f12cb543",
   "metadata": {},
   "source": [
    "## Import required modules"
   ]
  },
  {
   "cell_type": "code",
   "execution_count": 45,
   "id": "b189372e",
   "metadata": {},
   "outputs": [],
   "source": [
    "from elasticsearch import Elasticsearch\n",
    "from mocpy import MOC"
   ]
  },
  {
   "cell_type": "markdown",
   "id": "60309946",
   "metadata": {},
   "source": [
    "## Connect to the ElasticSearch server"
   ]
  },
  {
   "cell_type": "code",
   "execution_count": null,
   "id": "2204873e",
   "metadata": {},
   "outputs": [],
   "source": [
    "es = Elasticsearch('http://voparis-elasticsearch.obspm.fr:9200')\n",
    "indexName = 'moc-index'\n",
    "target = \"mars\""
   ]
  },
  {
   "cell_type": "markdown",
   "id": "974de845",
   "metadata": {},
   "source": [
    "## Get the list of services"
   ]
  },
  {
   "cell_type": "code",
   "execution_count": null,
   "id": "4dadd463",
   "metadata": {},
   "outputs": [],
   "source": [
    "query = {\n",
    "    \"bool\": {\n",
    "         \"must\": [\n",
    "             {\n",
    "                \"exists\" : {\n",
    "                    \"field\" : \"coverage\"\n",
    "                }\n",
    "             },\n",
    "             {\n",
    "                \"term\" : {\n",
    "                    \"target_name.keyword\" : target\n",
    "                }\n",
    "             }\n",
    "        ]\n",
    "    }\n",
    "}\n",
    "\n",
    "aggs = {\n",
    "    \"agg-service\" : {\n",
    "        \"terms\": {\n",
    "            \"field\" : \"service_title.keyword\",\n",
    "            \"size\": 100\n",
    "        },\n",
    "    }\n",
    "}\n",
    "\n",
    "\n",
    "page = es.search(\n",
    "    index=indexName,\n",
    "    query=query,\n",
    "    size=0,\n",
    "    fields=[\"*\"],\n",
    "    aggs = aggs\n",
    ")\n",
    "\n",
    "services = []\n",
    "for document in page[\"hits\"][\"hits\"] :\n",
    "    data.append(document[\"_source\"])\n",
    "    print(document[\"_source\"][\"service_title\"])\n",
    "    \n",
    "for bucket in page[\"aggregations\"][\"agg-service\"][\"buckets\"] :\n",
    "    print(bucket[\"key\"])\n",
    "    services.append(bucket[\"key\"])"
   ]
  },
  {
   "cell_type": "markdown",
   "id": "4f751e6d",
   "metadata": {},
   "source": [
    "## For each service, merge all of its MOCs into one"
   ]
  },
  {
   "cell_type": "code",
   "execution_count": 75,
   "id": "f799b556",
   "metadata": {},
   "outputs": [],
   "source": [
    "def mergeMocs(mocsList) :\n",
    "    mocUnion = MOC.new_empty(1)\n",
    "    for item in mocsList :\n",
    "        moc = MOC.from_str(item[\"fields\"][\"coverage\"][0])\n",
    "        mocUnion.union(moc)\n",
    "    return mocUnion"
   ]
  },
  {
   "cell_type": "code",
   "execution_count": 77,
   "id": "90f683d5",
   "metadata": {},
   "outputs": [
    {
     "name": "stdout",
     "output_type": "stream",
     "text": [
      "Merging MOCs of  hfc1ar_majtrim ...\n",
      "0 / 1187189\n",
      "1000 / 1187189\n",
      "2000 / 1187189\n",
      "3000 / 1187189\n",
      "4000 / 1187189\n",
      "5000 / 1187189\n",
      "6000 / 1187189\n",
      "7000 / 1187189\n",
      "8000 / 1187189\n",
      "9000 / 1187189\n",
      "10000 / 1187189\n",
      "11000 / 1187189\n",
      "12000 / 1187189\n",
      "13000 / 1187189\n",
      "14000 / 1187189\n",
      "15000 / 1187189\n",
      "16000 / 1187189\n",
      "17000 / 1187189\n",
      "18000 / 1187189\n"
     ]
    },
    {
     "ename": "OSError",
     "evalue": "Parse error: 0: in Digit, got empty input\n\n1: in Many1, got empty input\n\n",
     "output_type": "error",
     "traceback": [
      "\u001b[0;31m---------------------------------------------------------------------------\u001b[0m",
      "\u001b[0;31mOSError\u001b[0m                                   Traceback (most recent call last)",
      "Cell \u001b[0;32mIn[77], line 45\u001b[0m\n\u001b[1;32m     42\u001b[0m     \u001b[38;5;66;03m# Get the number of results that we returned in the last scroll\u001b[39;00m\n\u001b[1;32m     43\u001b[0m     scroll_size \u001b[38;5;241m=\u001b[39m \u001b[38;5;28mlen\u001b[39m(page[\u001b[38;5;124m'\u001b[39m\u001b[38;5;124mhits\u001b[39m\u001b[38;5;124m'\u001b[39m][\u001b[38;5;124m'\u001b[39m\u001b[38;5;124mhits\u001b[39m\u001b[38;5;124m'\u001b[39m])\n\u001b[0;32m---> 45\u001b[0m     mocUnion\u001b[38;5;241m.\u001b[39munion(\u001b[43mmergeMocs\u001b[49m\u001b[43m(\u001b[49m\u001b[43mpage\u001b[49m\u001b[43m[\u001b[49m\u001b[38;5;124;43m\"\u001b[39;49m\u001b[38;5;124;43mhits\u001b[39;49m\u001b[38;5;124;43m\"\u001b[39;49m\u001b[43m]\u001b[49m\u001b[43m[\u001b[49m\u001b[38;5;124;43m\"\u001b[39;49m\u001b[38;5;124;43mhits\u001b[39;49m\u001b[38;5;124;43m\"\u001b[39;49m\u001b[43m]\u001b[49m\u001b[43m)\u001b[49m)\n\u001b[1;32m     46\u001b[0m     progress \u001b[38;5;241m=\u001b[39m progress \u001b[38;5;241m+\u001b[39m scroll_size\n\u001b[1;32m     48\u001b[0m data\u001b[38;5;241m.\u001b[39mappend({\u001b[38;5;124m\"\u001b[39m\u001b[38;5;124mservice\u001b[39m\u001b[38;5;124m\"\u001b[39m:service,\u001b[38;5;124m\"\u001b[39m\u001b[38;5;124mcoverage\u001b[39m\u001b[38;5;124m\"\u001b[39m:mocUnion})\n",
      "Cell \u001b[0;32mIn[75], line 4\u001b[0m, in \u001b[0;36mmergeMocs\u001b[0;34m(mocsList)\u001b[0m\n\u001b[1;32m      2\u001b[0m mocUnion \u001b[38;5;241m=\u001b[39m MOC\u001b[38;5;241m.\u001b[39mnew_empty(\u001b[38;5;241m1\u001b[39m)\n\u001b[1;32m      3\u001b[0m \u001b[38;5;28;01mfor\u001b[39;00m item \u001b[38;5;129;01min\u001b[39;00m mocsList :\n\u001b[0;32m----> 4\u001b[0m     moc \u001b[38;5;241m=\u001b[39m \u001b[43mMOC\u001b[49m\u001b[38;5;241;43m.\u001b[39;49m\u001b[43mfrom_str\u001b[49m\u001b[43m(\u001b[49m\u001b[43mitem\u001b[49m\u001b[43m[\u001b[49m\u001b[38;5;124;43m\"\u001b[39;49m\u001b[38;5;124;43mfields\u001b[39;49m\u001b[38;5;124;43m\"\u001b[39;49m\u001b[43m]\u001b[49m\u001b[43m[\u001b[49m\u001b[38;5;124;43m\"\u001b[39;49m\u001b[38;5;124;43mcoverage\u001b[39;49m\u001b[38;5;124;43m\"\u001b[39;49m\u001b[43m]\u001b[49m\u001b[43m[\u001b[49m\u001b[38;5;241;43m0\u001b[39;49m\u001b[43m]\u001b[49m\u001b[43m)\u001b[49m\n\u001b[1;32m      5\u001b[0m     mocUnion\u001b[38;5;241m.\u001b[39munion(moc)\n\u001b[1;32m      6\u001b[0m \u001b[38;5;28;01mreturn\u001b[39;00m mocUnion\n",
      "File \u001b[0;32m~/Documents/NotebookMOCRepo1/notebookenv/lib/python3.10/site-packages/mocpy/abstract_moc.py:526\u001b[0m, in \u001b[0;36mAbstractMOC.from_str\u001b[0;34m(cls, value)\u001b[0m\n\u001b[1;32m    503\u001b[0m \u001b[38;5;129m@classmethod\u001b[39m\n\u001b[1;32m    504\u001b[0m \u001b[38;5;28;01mdef\u001b[39;00m \u001b[38;5;21mfrom_str\u001b[39m(\u001b[38;5;28mcls\u001b[39m, value):\n\u001b[1;32m    505\u001b[0m \u001b[38;5;250m    \u001b[39m\u001b[38;5;124;03m\"\"\"\u001b[39;00m\n\u001b[1;32m    506\u001b[0m \u001b[38;5;124;03m    Create a MOC from a str.\u001b[39;00m\n\u001b[1;32m    507\u001b[0m \n\u001b[0;32m   (...)\u001b[0m\n\u001b[1;32m    524\u001b[0m \u001b[38;5;124;03m    >>> moc = MOC.from_str(\"2/2-25 28 29 4/0 6/\")\u001b[39;00m\n\u001b[1;32m    525\u001b[0m \u001b[38;5;124;03m    \"\"\"\u001b[39;00m\n\u001b[0;32m--> 526\u001b[0m     \u001b[38;5;28;01mreturn\u001b[39;00m \u001b[38;5;28;43mcls\u001b[39;49m\u001b[38;5;241;43m.\u001b[39;49m\u001b[43mfrom_string\u001b[49m\u001b[43m(\u001b[49m\u001b[43mvalue\u001b[49m\u001b[43m,\u001b[49m\u001b[43m \u001b[49m\u001b[38;5;28;43mformat\u001b[39;49m\u001b[38;5;241;43m=\u001b[39;49m\u001b[38;5;124;43m\"\u001b[39;49m\u001b[38;5;124;43mascii\u001b[39;49m\u001b[38;5;124;43m\"\u001b[39;49m\u001b[43m)\u001b[49m\n",
      "File \u001b[0;32m~/Documents/NotebookMOCRepo1/notebookenv/lib/python3.10/site-packages/mocpy/moc/moc.py:1431\u001b[0m, in \u001b[0;36mMOC.from_string\u001b[0;34m(cls, value, format)\u001b[0m\n\u001b[1;32m   1416\u001b[0m \u001b[38;5;250m\u001b[39m\u001b[38;5;124;03m\"\"\"\u001b[39;00m\n\u001b[1;32m   1417\u001b[0m \u001b[38;5;124;03mDeserialize the Spatial MOC from the given string.\u001b[39;00m\n\u001b[1;32m   1418\u001b[0m \n\u001b[0;32m   (...)\u001b[0m\n\u001b[1;32m   1428\u001b[0m \u001b[38;5;124;03m    By default, ``format`` is set to \"ascii\".\u001b[39;00m\n\u001b[1;32m   1429\u001b[0m \u001b[38;5;124;03m\"\"\"\u001b[39;00m\n\u001b[1;32m   1430\u001b[0m \u001b[38;5;28;01mif\u001b[39;00m \u001b[38;5;28mformat\u001b[39m \u001b[38;5;241m==\u001b[39m \u001b[38;5;124m\"\u001b[39m\u001b[38;5;124mascii\u001b[39m\u001b[38;5;124m\"\u001b[39m:\n\u001b[0;32m-> 1431\u001b[0m     index \u001b[38;5;241m=\u001b[39m \u001b[43mmocpy\u001b[49m\u001b[38;5;241;43m.\u001b[39;49m\u001b[43mspatial_moc_from_ascii_str\u001b[49m\u001b[43m(\u001b[49m\u001b[43mvalue\u001b[49m\u001b[43m)\u001b[49m\n\u001b[1;32m   1432\u001b[0m     \u001b[38;5;28;01mreturn\u001b[39;00m \u001b[38;5;28mcls\u001b[39m(\u001b[38;5;28mcls\u001b[39m\u001b[38;5;241m.\u001b[39m__create_key, index)\n\u001b[1;32m   1433\u001b[0m \u001b[38;5;28;01mif\u001b[39;00m \u001b[38;5;28mformat\u001b[39m \u001b[38;5;241m==\u001b[39m \u001b[38;5;124m\"\u001b[39m\u001b[38;5;124mjson\u001b[39m\u001b[38;5;124m\"\u001b[39m:\n",
      "\u001b[0;31mOSError\u001b[0m: Parse error: 0: in Digit, got empty input\n\n1: in Many1, got empty input\n\n"
     ]
    }
   ],
   "source": [
    "data = []\n",
    "for service in services :\n",
    "    print(\"Merging MOCs of \",service,\"...\")\n",
    "    query = {\n",
    "        \"bool\": {\n",
    "             \"must\": [\n",
    "                 {\n",
    "                    \"exists\" : {\n",
    "                        \"field\" : \"coverage\"\n",
    "                    }\n",
    "                },\n",
    "                {\n",
    "                    \"term\" : {\n",
    "                         \"service_title.keyword\" : service\n",
    "                     } \n",
    "                 } \n",
    "            ]\n",
    "        }\n",
    "    }\n",
    "\n",
    "    page = es.search(\n",
    "        index=indexName,\n",
    "        query=query,\n",
    "        size=1000,\n",
    "        scroll=\"2m\",\n",
    "        fields=[\"coverage\"],\n",
    "        aggs = aggs\n",
    "    )\n",
    "    \n",
    "    sid = page['_scroll_id']\n",
    "    scroll_size = page['hits']['total'][\"value\"]\n",
    "    \n",
    "    mocUnion = MOC.new_empty(1)\n",
    "    \n",
    "    progress = 0\n",
    "    \n",
    "    while (scroll_size > 0):\n",
    "        print(progress,\"/\",page['hits']['total'][\"value\"])\n",
    "        page = es.scroll(scroll_id = sid, scroll = '2m')\n",
    "        # Update the scroll ID\n",
    "        sid = page['_scroll_id']\n",
    "        # Get the number of results that we returned in the last scroll\n",
    "        scroll_size = len(page['hits']['hits'])\n",
    "\n",
    "        mocUnion.union(mergeMocs(page[\"hits\"][\"hits\"]))\n",
    "        progress = progress + scroll_size\n",
    "        \n",
    "    data.append({\"service\":service,\"coverage\":mocUnion})"
   ]
  },
  {
   "cell_type": "code",
   "execution_count": 78,
   "id": "4f1ed99f",
   "metadata": {},
   "outputs": [],
   "source": [
    "# TODO : There is an error above, the format of the MOC here seems to be incorrect"
   ]
  },
  {
   "cell_type": "code",
   "execution_count": null,
   "id": "2d983f39",
   "metadata": {},
   "outputs": [],
   "source": []
  }
 ],
 "metadata": {
  "kernelspec": {
   "display_name": "Python 3 (ipykernel)",
   "language": "python",
   "name": "python3"
  },
  "language_info": {
   "codemirror_mode": {
    "name": "ipython",
    "version": 3
   },
   "file_extension": ".py",
   "mimetype": "text/x-python",
   "name": "python",
   "nbconvert_exporter": "python",
   "pygments_lexer": "ipython3",
   "version": "3.10.6"
  }
 },
 "nbformat": 4,
 "nbformat_minor": 5
}
