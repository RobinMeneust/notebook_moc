{
 "cells": [
  {
   "cell_type": "markdown",
   "id": "a75455fd",
   "metadata": {},
   "source": [
    "# How to get MOC data from VESPA in Python using ElasticSearch\n",
    "\n",
    "\n",
    "## Import required modules"
   ]
  },
  {
   "cell_type": "code",
   "execution_count": 1,
   "id": "50de0a30",
   "metadata": {},
   "outputs": [],
   "source": [
    "from elasticsearch import Elasticsearch"
   ]
  },
  {
   "cell_type": "markdown",
   "id": "e0b7d1ba",
   "metadata": {},
   "source": [
    "## Connect to the ElasticSearch server"
   ]
  },
  {
   "cell_type": "code",
   "execution_count": 2,
   "id": "bcd13257",
   "metadata": {
    "scrolled": false
   },
   "outputs": [],
   "source": [
    "es = Elasticsearch('http://voparis-elasticsearch.obspm.fr:9200')"
   ]
  },
  {
   "cell_type": "markdown",
   "id": "6608d758",
   "metadata": {},
   "source": [
    "## Get a list of the indices"
   ]
  },
  {
   "cell_type": "code",
   "execution_count": 3,
   "id": "93ade475",
   "metadata": {
    "scrolled": true
   },
   "outputs": [
    {
     "name": "stdout",
     "output_type": "stream",
     "text": [
      "Indices list:\n",
      "\n",
      ".ds-.monitoring-es-8-mb-2022.10.20-000001\n",
      ".ds-.monitoring-es-8-mb-2022.10.23-000002\n",
      ".ds-.monitoring-es-8-mb-2022.10.26-000003\n",
      ".ds-.monitoring-es-8-mb-2022.10.29-000004\n",
      ".ds-.monitoring-es-8-mb-2022.11.01-000005\n",
      ".ds-.monitoring-es-8-mb-2022.11.04-000006\n",
      ".ds-.monitoring-es-8-mb-2022.11.07-000007\n",
      ".ds-.monitoring-es-8-mb-2022.11.10-000008\n",
      ".ds-.monitoring-es-8-mb-2022.11.13-000009\n",
      ".ds-.monitoring-es-8-mb-2022.11.16-000010\n",
      ".ds-.monitoring-es-8-mb-2022.11.19-000011\n",
      ".ds-metricbeat-8.4.3-2022.10.20-000001\n",
      ".ds-metricbeat-8.4.3-2022.11.19-000002\n",
      "exoplanet\n",
      "exoplanet_index\n",
      "moc-index\n",
      "obsfacility_index\n",
      "test_chloe\n",
      "vespa-index\n",
      "vespa_index\n"
     ]
    }
   ],
   "source": [
    "print(\"Indices list:\\n\")\n",
    "for index in es.indices.get(index='*'):\n",
    "    print(index)"
   ]
  },
  {
   "cell_type": "markdown",
   "id": "1a00056e",
   "metadata": {},
   "source": [
    "## Get the number of items in moc-index in Vvex, grouped by target name"
   ]
  },
  {
   "cell_type": "code",
   "execution_count": 62,
   "id": "89d6a015",
   "metadata": {},
   "outputs": [],
   "source": [
    "indexName = 'moc-index'"
   ]
  },
  {
   "cell_type": "code",
   "execution_count": 67,
   "id": "0837f6ca",
   "metadata": {},
   "outputs": [
    {
     "name": "stdout",
     "output_type": "stream",
     "text": [
      "Number of hits:  {'total': {'value': 10000, 'relation': 'gte'}, 'max_score': None, 'hits': []}\n",
      "Venus : 45304\n",
      "Earth : 292\n",
      "Star : 16\n",
      "Mars : 8\n",
      "Mercury : 8\n"
     ]
    }
   ],
   "source": [
    "query = {\n",
    "    \"bool\": {\n",
    "         \"must\": [\n",
    "            {\n",
    "              \"bool\": {\n",
    "                \"should\": [\n",
    "                  {\n",
    "                    \"term\": {\n",
    "                      \"service_title.keyword\": {\n",
    "                        \"value\": \"vvex\"\n",
    "                      }\n",
    "                    }\n",
    "                  }\n",
    "                ],\n",
    "                \"minimum_should_match\": 1\n",
    "              }\n",
    "            }\n",
    "      ],\n",
    "      \"filter\": [],\n",
    "      \"should\": [],\n",
    "      \"must_not\": []\n",
    "    }\n",
    "}\n",
    "\n",
    "aggs = {\n",
    "    \"agg-test-terms-count\" : {\n",
    "        \"terms\": {\n",
    "            \"field\" : \"target_name.keyword\",\n",
    "            \"size\": 5\n",
    "        },\n",
    "    }\n",
    "}\n",
    "\n",
    "\n",
    "page = es.search(\n",
    "    index=indexName,\n",
    "    query=query,\n",
    "    size=0,\n",
    "    fields=[\"*\"],\n",
    "    aggs = aggs,\n",
    ")\n",
    "\n",
    "for bucket in page[\"aggregations\"][\"agg-test-terms-count\"][\"buckets\"] :\n",
    "    print(bucket[\"key\"],\":\",bucket[\"doc_count\"])"
   ]
  },
  {
   "cell_type": "markdown",
   "id": "3ce73ffe",
   "metadata": {},
   "source": [
    "## Check if an index has a coverage field"
   ]
  },
  {
   "cell_type": "code",
   "execution_count": 54,
   "id": "722a36a3",
   "metadata": {},
   "outputs": [],
   "source": [
    "def hasCoverage(es, indexName) :\n",
    "    return \"coverage\" in es.indices.get_mapping(index=indexName)[indexName][\"mappings\"][\"properties\"]"
   ]
  },
  {
   "cell_type": "code",
   "execution_count": 59,
   "id": "1feefe46",
   "metadata": {},
   "outputs": [],
   "source": [
    "if not hasCoverage(es,indexName) :\n",
    "    print(\"There is no coverage in the index \", indexName)"
   ]
  },
  {
   "cell_type": "markdown",
   "id": "1d0d3da4",
   "metadata": {},
   "source": [
    "## Import modules for Aladin and MOCs"
   ]
  },
  {
   "cell_type": "code",
   "execution_count": 60,
   "id": "90147d45",
   "metadata": {},
   "outputs": [],
   "source": [
    "from mocpy import MOC\n",
    "from ipyaladin import Aladin"
   ]
  },
  {
   "cell_type": "markdown",
   "id": "b4f06148",
   "metadata": {},
   "source": [
    "## How to load a MOC in Aladin\n",
    "\n",
    "In this section we will see how to load a MOC in Aladin.\n",
    "\n",
    "### Get the data"
   ]
  },
  {
   "cell_type": "code",
   "execution_count": 93,
   "id": "4c08952d",
   "metadata": {},
   "outputs": [
    {
     "name": "stdout",
     "output_type": "stream",
     "text": [
      "VV0086_19G\n",
      "VV0117_02G\n",
      "VV0085_15C\n",
      "VV0084_11C\n",
      "VV0084_14C\n",
      "VV0084_10G\n",
      "VV0084_03G\n",
      "VV0083_03C\n",
      "VV0082_13C\n",
      "VV0082_13G\n"
     ]
    }
   ],
   "source": [
    "query = {\n",
    "    \"bool\": {\n",
    "         \"must\": [\n",
    "            {\n",
    "              \"bool\": {\n",
    "                \"must\" : [\n",
    "                    {\n",
    "                        \"exists\" : {\n",
    "                            \"field\" : \"coverage\"\n",
    "                        }\n",
    "                    }\n",
    "                ],\n",
    "                \"should\": [\n",
    "                  {\n",
    "                    \"term\": {\n",
    "                      \"service_title.keyword\": {\n",
    "                        \"value\": \"vvex\"\n",
    "                      }\n",
    "                    }\n",
    "                  }\n",
    "                ],\n",
    "                \"minimum_should_match\": 1\n",
    "              }\n",
    "            }\n",
    "      ],\n",
    "      \"filter\": [],\n",
    "      \"should\": [],\n",
    "      \"must_not\": []\n",
    "    }\n",
    "}\n",
    "\n",
    "\n",
    "page = es.search(\n",
    "    index=indexName,\n",
    "    query=query,\n",
    "    size=10,\n",
    "    fields=[\"*\"],\n",
    ")\n",
    "\n",
    "data = []\n",
    "for document in page[\"hits\"][\"hits\"] :\n",
    "    data.append(document[\"_source\"])\n",
    "    print(document[\"_source\"][\"granule_uid\"])"
   ]
  },
  {
   "cell_type": "markdown",
   "id": "9208927d",
   "metadata": {},
   "source": [
    "### Load Aladin and add the data that was fetched just above\n",
    "\n",
    "Here, and in the following examples, we are using the HiPS (Hierarchical Progressive Surveys) of Venus.\n",
    "Other HiPS can be found here http://voparis-srv-paris.obspm.fr/vo/planeto/hips/."
   ]
  },
  {
   "cell_type": "code",
   "execution_count": 89,
   "id": "fc386859",
   "metadata": {},
   "outputs": [
    {
     "data": {
      "application/vnd.jupyter.widget-view+json": {
       "model_id": "6fe9e9ef44754a208eb578fddf9a83d1",
       "version_major": 2,
       "version_minor": 0
      },
      "text/plain": [
       "Aladin(coo_frame='body', options=['allow_full_zoomout', 'coo_frame', 'fov', 'full_screen', 'log', 'overlay_sur…"
      ]
     },
     "execution_count": 89,
     "metadata": {},
     "output_type": "execute_result"
    }
   ],
   "source": [
    "aladin = Aladin(\n",
    "    coo_frame=\"body\",\n",
    "    survey=\"http://voparis-srv-paris.obspm.fr/vo/planeto/hips/CDS_P_Venus_Magellan_C3-MDIR-2025m/\"\n",
    ")\n",
    "aladin"
   ]
  },
  {
   "cell_type": "markdown",
   "id": "a77c6be2",
   "metadata": {},
   "source": [
    "### Load the MOCs\n",
    "\n",
    "First, for each MOC, we create a MOC object with mocpy and then we convert it to a dictionnary, since it's the format that ipyaladin expects in the function add_moc_from_dict."
   ]
  },
  {
   "cell_type": "code",
   "execution_count": 94,
   "id": "6789e35b",
   "metadata": {},
   "outputs": [],
   "source": [
    "for item in data :\n",
    "    mocObject = MOC.from_str(item[\"coverage\"])\n",
    "    jsonMoc = mocObject.serialize(format='json', optional_kw_dict=None, pre_v2=False)\n",
    "    aladin.add_moc_from_dict(jsonMoc, {'opacity' : 0.5, 'name' : item[\"granule_uid\"]})"
   ]
  },
  {
   "cell_type": "markdown",
   "id": "2e180ffd",
   "metadata": {},
   "source": [
    "We center the view on one of the MOC"
   ]
  },
  {
   "cell_type": "code",
   "execution_count": 95,
   "id": "32fe022b",
   "metadata": {},
   "outputs": [],
   "source": [
    "mocCenter = MOC.from_str(data[0][\"coverage\"]).barycenter()\n",
    "aladin.target = mocCenter.to_string()"
   ]
  },
  {
   "cell_type": "markdown",
   "id": "25c63394",
   "metadata": {},
   "source": [
    "## Union and intersection of MOCs\n",
    "\n",
    "In this section, we are going to see how to search specific MOCs.\n",
    "Here we only consider MOCs in the Northern Hemisphere, whose dataproduct_type is the spectral cube and whose observation minimim local time was before 20 P.M.\n",
    "\n",
    "Then, we will group those MOCs in three categories, corresponding to the channel_id field associated to them.\n",
    "And finally, we will search all the elements whose MOC is in a MOC defined as the intersection of those three groups."
   ]
  },
  {
   "cell_type": "markdown",
   "id": "0b75a968",
   "metadata": {},
   "source": [
    "### Get the data"
   ]
  },
  {
   "cell_type": "code",
   "execution_count": 114,
   "id": "edf69be6",
   "metadata": {},
   "outputs": [
    {
     "name": "stdout",
     "output_type": "stream",
     "text": [
      "VI0041_02C\n",
      "VT0033_00C\n",
      "VI0060_05C\n",
      "VV0041_02C\n",
      "VI0058_00C\n",
      "VV0058_00C\n",
      "VT0041_03C\n",
      "VI0047_00C\n",
      "VV0060_05C\n",
      "VV0047_00C\n",
      "VV0062_00C\n",
      "VI0062_00C\n",
      "VT0058_00C\n",
      "VT0060_01C\n",
      "VT0062_00C\n",
      "VT0047_00C\n",
      "\n",
      " 16  results found\n"
     ]
    }
   ],
   "source": [
    "query = {\n",
    "    \"bool\": {\n",
    "         \"must\": [\n",
    "             {\n",
    "                \"range\" : {\n",
    "                    \"c1min\" : {\n",
    "                        \"gte\" : 0,\n",
    "                        \"lte\" : 360\n",
    "                    }\n",
    "                }\n",
    "             },\n",
    "             {\n",
    "                \"range\" : {\n",
    "                    \"c1max\" : {\n",
    "                        \"gte\" : 0,\n",
    "                        \"lte\" : 360\n",
    "                    }\n",
    "                }\n",
    "             },\n",
    "             {\n",
    "                \"range\" : {\n",
    "                    \"c2min\" : {\n",
    "                        \"gte\" : 0,\n",
    "                        \"lte\" : 90\n",
    "                    }\n",
    "                }\n",
    "             },\n",
    "             {\n",
    "                \"range\" : {\n",
    "                    \"c2max\" : {\n",
    "                        \"gte\" : 0,\n",
    "                        \"lte\" : 90\n",
    "                    }\n",
    "                }\n",
    "             },\n",
    "             {\n",
    "                \"range\" : {\n",
    "                    \"local_time_min\" : {\n",
    "                        \"lte\" : 20\n",
    "                    }\n",
    "                }\n",
    "             },\n",
    "             {\n",
    "                \"term\" : {\n",
    "                    \"dataproduct_type\" : \"sc\"\n",
    "                }\n",
    "            },\n",
    "            {\n",
    "                \"term\": {\n",
    "                    \"service_title.keyword\": {\n",
    "                    \"value\": \"vvex\"\n",
    "                  }\n",
    "                 }\n",
    "             },\n",
    "             {\n",
    "                \"exists\" : {\n",
    "                    \"field\" : \"coverage\"\n",
    "                }\n",
    "            }\n",
    "        ]\n",
    "    }\n",
    "}\n",
    "\n",
    "\n",
    "page = es.search(\n",
    "    index=indexName,\n",
    "    query=query,\n",
    "    size=50,\n",
    "    fields=[\"*\"],\n",
    ")\n",
    "\n",
    "data = []\n",
    "for document in page[\"hits\"][\"hits\"] :\n",
    "    data.append(document[\"_source\"])\n",
    "    print(document[\"_source\"][\"granule_uid\"])\n",
    "\n",
    "print(\"\\n\",len(data),\" results found\")"
   ]
  },
  {
   "cell_type": "markdown",
   "id": "1e7fae04",
   "metadata": {},
   "source": [
    "### Group the MOCs by channel_id\n",
    "\n",
    "Here we are using a dictionnary: each key is a channel_id value, the value associated to it is an array containing all the MOCs whose channel_id is equal to this key.\n",
    "In the following block of code we are filling this dictionnary."
   ]
  },
  {
   "cell_type": "code",
   "execution_count": 116,
   "id": "b7733211",
   "metadata": {},
   "outputs": [],
   "source": [
    "mocGroups = {\"VIRTIS_M_VIS\":[], \"VIRTIS_M_IR\":[], \"VIRTIS_H\":[]}\n",
    "for element in data :\n",
    "    mocGroups[element[\"channel_id\"]].append(MOC.from_str(element[\"coverage\"]))"
   ]
  },
  {
   "cell_type": "markdown",
   "id": "74c0c9e5",
   "metadata": {},
   "source": [
    "For each channel_id we are now using mocpy to make an union of all the MOCs in the array corresponding to this channel_id.\n",
    "So we add the first element to mocUnion, we remove it from the array, then for each element of the array we make an union between mocUnion and this element, and finally, we replace the array of MOCs with the MOC mocUnion at the corresponding key.\n",
    "\n",
    "So, the following block of code converts a dictionnary of MOCs array to a dictionnary of MOCs that covers the same area as the array of MOCs that was previously at the same key."
   ]
  },
  {
   "cell_type": "code",
   "execution_count": 118,
   "id": "59e69b5c",
   "metadata": {},
   "outputs": [],
   "source": [
    "keys = list(mocGroups.keys())\n",
    "for key in keys :\n",
    "    if(len(mocGroups[key]) > 0):\n",
    "        mocUnion = mocGroups[key][0]\n",
    "        mocGroups[key].pop(0)\n",
    "        for moc in mocGroups[key] :\n",
    "            mocUnion = mocUnion.union(moc)\n",
    "        mocGroups[key] = mocUnion\n",
    "    else :\n",
    "        mocGroups.pop(key)"
   ]
  },
  {
   "cell_type": "code",
   "execution_count": 119,
   "id": "fc637bd4",
   "metadata": {
    "scrolled": true
   },
   "outputs": [
    {
     "data": {
      "application/vnd.jupyter.widget-view+json": {
       "model_id": "fc1568608bd54b6ea93089c60ea7546b",
       "version_major": 2,
       "version_minor": 0
      },
      "text/plain": [
       "Aladin(coo_frame='body', options=['allow_full_zoomout', 'coo_frame', 'fov', 'full_screen', 'log', 'overlay_sur…"
      ]
     },
     "execution_count": 119,
     "metadata": {},
     "output_type": "execute_result"
    }
   ],
   "source": [
    "aladin2 = Aladin(\n",
    "    coo_frame='body',\n",
    "    survey=\"http://voparis-srv-paris.obspm.fr/vo/planeto/hips/CDS_P_Venus_Magellan_C3-MDIR-2025m/\"\n",
    ")\n",
    "aladin2"
   ]
  },
  {
   "cell_type": "code",
   "execution_count": 120,
   "id": "18bc1d06",
   "metadata": {},
   "outputs": [],
   "source": [
    "for group, moc in mocGroups.items() :\n",
    "    jsonMoc = moc.serialize(format='json', optional_kw_dict=None, pre_v2=False)\n",
    "    aladin2.add_moc_from_dict(jsonMoc, {'opacity' : 0.5, 'name' : group})"
   ]
  },
  {
   "cell_type": "code",
   "execution_count": 121,
   "id": "d898b3b0",
   "metadata": {},
   "outputs": [],
   "source": [
    "mocCenter = list(mocGroups.values())[0].barycenter()\n",
    "aladin2.target = mocCenter.to_string()"
   ]
  },
  {
   "cell_type": "markdown",
   "id": "47e3ee53",
   "metadata": {},
   "source": [
    "### Intersection of MOCs\n",
    "\n",
    "Here, we get the intersection of the three MOCs in mocGroups"
   ]
  },
  {
   "cell_type": "code",
   "execution_count": 122,
   "id": "f1e3994c",
   "metadata": {},
   "outputs": [],
   "source": [
    "mocList = []\n",
    "for moc in mocGroups.values() :\n",
    "    mocList.append(moc)\n",
    "    \n",
    "if(len(mocGroups) > 0):\n",
    "    mocIntersection = mocList[0]\n",
    "    mocList.pop(0)\n",
    "    for moc in mocList :\n",
    "        mocIntersection = mocIntersection.intersection(moc)"
   ]
  },
  {
   "cell_type": "markdown",
   "id": "b0f756ce",
   "metadata": {},
   "source": [
    "We can plot this intersection in Aladin if needed:"
   ]
  },
  {
   "cell_type": "code",
   "execution_count": 123,
   "id": "1ad49dbc",
   "metadata": {},
   "outputs": [],
   "source": [
    "jsonMoc = mocIntersection.serialize(format='json', optional_kw_dict=None, pre_v2=False)\n",
    "aladin2.add_moc_from_dict(jsonMoc, {'opacity' : 0.5, 'name' : 'intersection'})"
   ]
  },
  {
   "cell_type": "code",
   "execution_count": 124,
   "id": "a5ea1018",
   "metadata": {},
   "outputs": [],
   "source": [
    "mocCenter = mocIntersection.barycenter()\n",
    "aladin2.target = mocCenter.to_string()"
   ]
  },
  {
   "cell_type": "markdown",
   "id": "d0969385",
   "metadata": {},
   "source": [
    "Then, for each item in the data that we got in the \"Get the data\" section, we can get the intersection between the MOC associated to this item and the MOC corresponding to the intersection of the three groups of MOCs (mocIntersection).\n",
    "\n",
    "If this intersection is not empty, then this item is in mocIntersection.\n",
    "So we get a list of items whose MOC intersects with the MOC of other items with the two other types of channel_id"
   ]
  },
  {
   "cell_type": "code",
   "execution_count": 125,
   "id": "c205c81d",
   "metadata": {},
   "outputs": [],
   "source": [
    "results = []\n",
    "for item in data :\n",
    "    moc = MOC.from_str(item[\"coverage\"])\n",
    "    if not moc.intersection(mocIntersection).empty() :\n",
    "        results.append(item)        "
   ]
  },
  {
   "cell_type": "code",
   "execution_count": 126,
   "id": "0cefea2e",
   "metadata": {},
   "outputs": [
    {
     "name": "stdout",
     "output_type": "stream",
     "text": [
      "15  results found:\n",
      "VI0041_02C\n",
      "VI0060_05C\n",
      "VV0041_02C\n",
      "VI0058_00C\n",
      "VV0058_00C\n",
      "VT0041_03C\n",
      "VI0047_00C\n",
      "VV0060_05C\n",
      "VV0047_00C\n",
      "VV0062_00C\n",
      "VI0062_00C\n",
      "VT0058_00C\n",
      "VT0060_01C\n",
      "VT0062_00C\n",
      "VT0047_00C\n"
     ]
    }
   ],
   "source": [
    "print(len(results), \" results found:\")\n",
    "for item in results :\n",
    "    print(item[\"granule_uid\"])"
   ]
  },
  {
   "cell_type": "code",
   "execution_count": null,
   "id": "99a3d438",
   "metadata": {},
   "outputs": [],
   "source": []
  }
 ],
 "metadata": {
  "kernelspec": {
   "display_name": "Python 3 (ipykernel)",
   "language": "python",
   "name": "python3"
  },
  "language_info": {
   "codemirror_mode": {
    "name": "ipython",
    "version": 3
   },
   "file_extension": ".py",
   "mimetype": "text/x-python",
   "name": "python",
   "nbconvert_exporter": "python",
   "pygments_lexer": "ipython3",
   "version": "3.10.6"
  }
 },
 "nbformat": 4,
 "nbformat_minor": 5
}
