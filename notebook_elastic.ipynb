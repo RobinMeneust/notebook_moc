{
 "cells": [
  {
   "cell_type": "markdown",
   "id": "d567e928",
   "metadata": {},
   "source": [
    "# How to get and use MOC data from VESPA in Python with ElasticSearch\n",
    "\n",
    "Illustrate search for MOC data in VESPA using ElasticSearch.\n",
    "It also gives an example of a simple query to group together MOCs with the same value for a specific field (channel id), and then give the elements that are in the area defined by the intersection of all of those MOCs.\n",
    "\n",
    "## Import required modules"
   ]
  },
  {
   "cell_type": "code",
   "execution_count": 46,
   "id": "e9f7e3ce",
   "metadata": {},
   "outputs": [],
   "source": [
    "from elasticsearch import Elasticsearch"
   ]
  },
  {
   "cell_type": "markdown",
   "id": "31014629",
   "metadata": {},
   "source": [
    "## Connect to the ElasticSearch server\n",
    "\n",
    "You can change the following url to your ElasticSearch server, and provide a password or a certificate file if needed"
   ]
  },
  {
   "cell_type": "code",
   "execution_count": 47,
   "id": "43a0221d",
   "metadata": {
    "scrolled": false
   },
   "outputs": [],
   "source": [
    "es = Elasticsearch('http://voparis-elasticsearch.obspm.fr:9200')"
   ]
  },
  {
   "cell_type": "markdown",
   "id": "709f96ea",
   "metadata": {},
   "source": [
    "## Get a list of the indices\n",
    "\n",
    "Display a list of all the indices in the server.\n",
    "Each index contains documents and a document here is an item with fields (coverage, target_name, ...)"
   ]
  },
  {
   "cell_type": "code",
   "execution_count": 48,
   "id": "bce31937",
   "metadata": {
    "scrolled": true
   },
   "outputs": [
    {
     "name": "stdout",
     "output_type": "stream",
     "text": [
      "Indices list:\n",
      "\n",
      ".ds-.monitoring-es-8-mb-2022.10.20-000001\n",
      ".ds-.monitoring-es-8-mb-2022.10.23-000002\n",
      ".ds-.monitoring-es-8-mb-2022.10.26-000003\n",
      ".ds-.monitoring-es-8-mb-2022.10.29-000004\n",
      ".ds-.monitoring-es-8-mb-2022.11.01-000005\n",
      ".ds-.monitoring-es-8-mb-2022.11.04-000006\n",
      ".ds-.monitoring-es-8-mb-2022.11.07-000007\n",
      ".ds-.monitoring-es-8-mb-2022.11.10-000008\n",
      ".ds-.monitoring-es-8-mb-2022.11.13-000009\n",
      ".ds-.monitoring-es-8-mb-2022.11.16-000010\n",
      ".ds-.monitoring-es-8-mb-2022.11.19-000011\n",
      ".ds-metricbeat-8.4.3-2022.10.20-000001\n",
      ".ds-metricbeat-8.4.3-2022.11.19-000002\n",
      "exoplanet\n",
      "exoplanet_index\n",
      "moc-index\n",
      "obsfacility_index\n",
      "test_chloe\n",
      "vespa-index\n",
      "vespa_index\n"
     ]
    }
   ],
   "source": [
    "print(\"Indices list:\\n\")\n",
    "for index in es.indices.get(index='*'):\n",
    "    print(index)"
   ]
  },
  {
   "cell_type": "markdown",
   "id": "89b841e6",
   "metadata": {},
   "source": [
    "## Get the number of items in moc-index in Vvex, grouped by target name\n",
    "\n",
    "In this Notebook we will only consider the service Vvex in the index moc-index.\n",
    "To do so we use a term query to only get documents with service_title = vvex. And we specify in the search function parameters, the index 'moc-index' (in the variable indexName)\n",
    "But you can change it in the query variable below.\n",
    "This query use an aggregation to count the number of documents in moc-index, with the service Vvex, by grouping them by target_name"
   ]
  },
  {
   "cell_type": "code",
   "execution_count": 49,
   "id": "8be1b358",
   "metadata": {},
   "outputs": [],
   "source": [
    "indexName = 'moc-index'"
   ]
  },
  {
   "cell_type": "code",
   "execution_count": 50,
   "id": "34f2ad16",
   "metadata": {},
   "outputs": [
    {
     "name": "stdout",
     "output_type": "stream",
     "text": [
      "Venus : 45304\n",
      "Earth : 292\n",
      "Star : 16\n",
      "Mars : 8\n",
      "Mercury : 8\n"
     ]
    }
   ],
   "source": [
    "query = {\n",
    "    \"bool\": {\n",
    "         \"must\": [\n",
    "             {\n",
    "                \"term\": {\n",
    "                    \"service_title.keyword\": {\n",
    "                        \"value\": \"vvex\"\n",
    "                    }\n",
    "                }\n",
    "            }\n",
    "         ]\n",
    "    }\n",
    "}\n",
    "\n",
    "aggs = {\n",
    "    \"agg-test-terms-count\" : {\n",
    "        \"terms\": {\n",
    "            \"field\" : \"target_name.keyword\",\n",
    "            \"size\": 5\n",
    "        },\n",
    "    }\n",
    "}\n",
    "\n",
    "\n",
    "page = es.search(\n",
    "    index=indexName,\n",
    "    query=query,\n",
    "    size=0,\n",
    "    fields=[\"*\"],\n",
    "    aggs = aggs\n",
    ")\n",
    "\n",
    "for bucket in page[\"aggregations\"][\"agg-test-terms-count\"][\"buckets\"] :\n",
    "    print(bucket[\"key\"],\":\",bucket[\"doc_count\"])"
   ]
  },
  {
   "cell_type": "markdown",
   "id": "e3adeed1",
   "metadata": {},
   "source": [
    "## Check if an index has a coverage field\n",
    "\n",
    "We can check if an index has a coverage field by looking at its mapping"
   ]
  },
  {
   "cell_type": "code",
   "execution_count": 51,
   "id": "aec8bc93",
   "metadata": {},
   "outputs": [],
   "source": [
    "def hasCoverage(es, indexName) :\n",
    "    return \"coverage\" in es.indices.get_mapping(index=indexName)[indexName][\"mappings\"][\"properties\"]"
   ]
  },
  {
   "cell_type": "code",
   "execution_count": 52,
   "id": "cb5fff9c",
   "metadata": {},
   "outputs": [
    {
     "name": "stdout",
     "output_type": "stream",
     "text": [
      "There is a coverage field in the index  moc-index\n"
     ]
    }
   ],
   "source": [
    "if not hasCoverage(es,indexName) :\n",
    "    print(\"There is no coverage field in the index \", indexName)\n",
    "else :\n",
    "    print(\"There is a coverage field in the index \", indexName)"
   ]
  },
  {
   "cell_type": "markdown",
   "id": "2c001630",
   "metadata": {},
   "source": [
    "## Import modules for Aladin and MOCs"
   ]
  },
  {
   "cell_type": "code",
   "execution_count": 53,
   "id": "c5db7ab1",
   "metadata": {},
   "outputs": [],
   "source": [
    "from mocpy import MOC\n",
    "from ipyaladin import Aladin"
   ]
  },
  {
   "cell_type": "markdown",
   "id": "b7a62849",
   "metadata": {},
   "source": [
    "## How to load a MOC in Aladin\n",
    "\n",
    "In this section we will see how to load a MOC in Aladin.\n",
    "\n",
    "### Get the data\n",
    "\n",
    "In the following query we check if there is a coverage, but we are using another method : we use an exists query instead of the mapping, to check if the field exists."
   ]
  },
  {
   "cell_type": "code",
   "execution_count": 54,
   "id": "00d2255a",
   "metadata": {},
   "outputs": [
    {
     "name": "stdout",
     "output_type": "stream",
     "text": [
      "VV0086_19G\n",
      "VV0117_02G\n",
      "VV0085_15C\n",
      "VV0084_11C\n",
      "VV0084_14C\n",
      "VV0084_10G\n",
      "VV0084_03G\n",
      "VV0083_03C\n",
      "VV0082_13C\n",
      "VV0082_13G\n"
     ]
    }
   ],
   "source": [
    "query = {\n",
    "    \"bool\": {\n",
    "        \"must\" : [\n",
    "            {\n",
    "                \"exists\" : {\n",
    "                    \"field\" : \"coverage\"\n",
    "                }\n",
    "            },\n",
    "            {\n",
    "                \"term\": {\n",
    "                    \"service_title.keyword\": {\n",
    "                        \"value\": \"vvex\"\n",
    "                    }\n",
    "                }\n",
    "            }\n",
    "        ]\n",
    "    }\n",
    "}\n",
    "\n",
    "\n",
    "page = es.search(\n",
    "    index=indexName,\n",
    "    query=query,\n",
    "    size=10,\n",
    "    fields=[\"*\"],\n",
    ")\n",
    "\n",
    "data = []\n",
    "for document in page[\"hits\"][\"hits\"] :\n",
    "    data.append(document[\"_source\"])\n",
    "    print(document[\"_source\"][\"granule_uid\"])"
   ]
  },
  {
   "cell_type": "markdown",
   "id": "2d04f0ef",
   "metadata": {},
   "source": [
    "### Load Aladin and add the data that was fetched just above\n",
    "\n",
    "Here, and in the following examples, we are using the HiPS (Hierarchical Progressive Surveys) of Venus.\n",
    "Other HiPS can be found here http://voparis-srv-paris.obspm.fr/vo/planeto/hips/."
   ]
  },
  {
   "cell_type": "code",
   "execution_count": 55,
   "id": "8c47d6a6",
   "metadata": {},
   "outputs": [
    {
     "data": {
      "application/vnd.jupyter.widget-view+json": {
       "model_id": "3686b2a62dbf4b9eb86ed3d8b3812584",
       "version_major": 2,
       "version_minor": 0
      },
      "text/plain": [
       "Aladin(coo_frame='body', options=['allow_full_zoomout', 'coo_frame', 'fov', 'full_screen', 'log', 'overlay_sur…"
      ]
     },
     "execution_count": 55,
     "metadata": {},
     "output_type": "execute_result"
    }
   ],
   "source": [
    "aladin = Aladin(\n",
    "    coo_frame=\"body\",\n",
    "    survey=\"http://voparis-srv-paris.obspm.fr/vo/planeto/hips/CDS_P_Venus_Magellan_C3-MDIR-2025m/\"\n",
    ")\n",
    "aladin"
   ]
  },
  {
   "cell_type": "markdown",
   "id": "5fe7c3a2",
   "metadata": {},
   "source": [
    "### Load the MOCs\n",
    "\n",
    "First, for each MOC, we create a MOC object with mocpy and then we convert it to a dictionnary, since it's the format that ipyaladin expects in the function add_moc_from_dict."
   ]
  },
  {
   "cell_type": "code",
   "execution_count": 56,
   "id": "cba4d86d",
   "metadata": {},
   "outputs": [],
   "source": [
    "for item in data :\n",
    "    mocObject = MOC.from_str(item[\"coverage\"])\n",
    "    jsonMoc = mocObject.serialize(format='json', optional_kw_dict=None, pre_v2=False)\n",
    "    aladin.add_moc_from_dict(jsonMoc, {'opacity' : 0.5, 'name' : item[\"granule_uid\"]})"
   ]
  },
  {
   "cell_type": "markdown",
   "id": "1d924114",
   "metadata": {},
   "source": [
    "We center the view on one of the MOC"
   ]
  },
  {
   "cell_type": "code",
   "execution_count": 57,
   "id": "5a697b6f",
   "metadata": {},
   "outputs": [],
   "source": [
    "mocCenter = MOC.from_str(data[0][\"coverage\"]).barycenter()\n",
    "aladin.target = mocCenter.to_string()"
   ]
  },
  {
   "cell_type": "markdown",
   "id": "5211ac60",
   "metadata": {},
   "source": [
    "## Union and intersection of MOCs\n",
    "\n",
    "In this section, we are going to see how to search specific MOCs.\n",
    "Here we only consider MOCs in the Northern Hemisphere, whose dataproduct_type is the spectral cube and whose observation minimim local time was before 20 P.M.\n",
    "\n",
    "Then, we will group those MOCs in three categories, corresponding to the channel_id field associated to them.\n",
    "And finally, we will search all the elements whose MOC is in a MOC defined as the intersection of those three groups."
   ]
  },
  {
   "cell_type": "markdown",
   "id": "c4f55341",
   "metadata": {},
   "source": [
    "### Get the data\n",
    "\n",
    "The range query is used to specify a range for the given field.\n",
    "For instance, in the first range query, we have: 0 $\\leq$ c1min $\\leq$ 360"
   ]
  },
  {
   "cell_type": "code",
   "execution_count": 58,
   "id": "2682bcfd",
   "metadata": {},
   "outputs": [
    {
     "name": "stdout",
     "output_type": "stream",
     "text": [
      "VI0041_02C\n",
      "VT0033_00C\n",
      "VI0060_05C\n",
      "VV0041_02C\n",
      "VI0058_00C\n",
      "VV0058_00C\n",
      "VT0041_03C\n",
      "VI0047_00C\n",
      "VV0060_05C\n",
      "VV0047_00C\n",
      "VV0062_00C\n",
      "VI0062_00C\n",
      "VT0058_00C\n",
      "VT0060_01C\n",
      "VT0062_00C\n",
      "VT0047_00C\n",
      "\n",
      " 16  results found\n"
     ]
    }
   ],
   "source": [
    "query = {\n",
    "    \"bool\": {\n",
    "         \"must\": [\n",
    "             {\n",
    "                \"range\" : {\n",
    "                    \"c1min\" : {\n",
    "                        \"gte\" : 0,\n",
    "                        \"lte\" : 360\n",
    "                    }\n",
    "                }\n",
    "             },\n",
    "             {\n",
    "                \"range\" : {\n",
    "                    \"c1max\" : {\n",
    "                        \"gte\" : 0,\n",
    "                        \"lte\" : 360\n",
    "                    }\n",
    "                }\n",
    "             },\n",
    "             {\n",
    "                \"range\" : {\n",
    "                    \"c2min\" : {\n",
    "                        \"gte\" : 0,\n",
    "                        \"lte\" : 90\n",
    "                    }\n",
    "                }\n",
    "             },\n",
    "             {\n",
    "                \"range\" : {\n",
    "                    \"c2max\" : {\n",
    "                        \"gte\" : 0,\n",
    "                        \"lte\" : 90\n",
    "                    }\n",
    "                }\n",
    "             },\n",
    "             {\n",
    "                \"range\" : {\n",
    "                    \"local_time_min\" : {\n",
    "                        \"lte\" : 20\n",
    "                    }\n",
    "                }\n",
    "             },\n",
    "             {\n",
    "                \"term\" : {\n",
    "                    \"dataproduct_type\" : \"sc\"\n",
    "                }\n",
    "            },\n",
    "            {\n",
    "                \"term\": {\n",
    "                    \"service_title.keyword\": {\n",
    "                    \"value\": \"vvex\"\n",
    "                  }\n",
    "                 }\n",
    "             },\n",
    "             {\n",
    "                \"exists\" : {\n",
    "                    \"field\" : \"coverage\"\n",
    "                }\n",
    "            }\n",
    "        ]\n",
    "    }\n",
    "}\n",
    "\n",
    "page = es.search(\n",
    "    index=indexName,\n",
    "    query=query,\n",
    "    size=50,\n",
    "    fields=[\"*\"],\n",
    ")\n",
    "\n",
    "data = []\n",
    "for document in page[\"hits\"][\"hits\"] :\n",
    "    data.append(document[\"_source\"])\n",
    "    print(document[\"_source\"][\"granule_uid\"])\n",
    "\n",
    "print(\"\\n\",len(data),\" results found\")"
   ]
  },
  {
   "cell_type": "markdown",
   "id": "725f549f",
   "metadata": {},
   "source": [
    "### Group the MOCs by channel_id\n",
    "\n",
    "Here we are using a dictionnary: each key is a channel_id value, the value associated to it is an array containing all the MOCs whose channel_id is equal to this key.\n",
    "In the following block of code we are filling this dictionnary."
   ]
  },
  {
   "cell_type": "code",
   "execution_count": 59,
   "id": "5d2f0276",
   "metadata": {},
   "outputs": [],
   "source": [
    "mocGroups = {\"VIRTIS_M_VIS\":[], \"VIRTIS_M_IR\":[], \"VIRTIS_H\":[]}\n",
    "for element in data :\n",
    "    mocGroups[element[\"channel_id\"]].append(MOC.from_str(element[\"coverage\"]))"
   ]
  },
  {
   "cell_type": "markdown",
   "id": "b38c3a51",
   "metadata": {},
   "source": [
    "For each channel_id we are now using mocpy to make an union of all the MOCs in the array corresponding to this channel_id.\n",
    "So we add the first element to mocUnion, we remove it from the array, then for each element of the array we make an union between mocUnion and this element, and finally, we replace the array of MOCs with the MOC mocUnion at the corresponding key.\n",
    "\n",
    "So, the following block of code converts a dictionnary of MOCs array to a dictionnary of MOCs that covers the same area as the array of MOCs that was previously at the same key."
   ]
  },
  {
   "cell_type": "code",
   "execution_count": 60,
   "id": "47953260",
   "metadata": {},
   "outputs": [],
   "source": [
    "for key in list(mocGroups.keys()) :\n",
    "    if(len(mocGroups[key]) > 0):\n",
    "        mocUnion = MOC.new_empty(29)\n",
    "        for moc in mocGroups[key] :\n",
    "            mocUnion = mocUnion.union(moc)\n",
    "        mocGroups[key] = mocUnion\n",
    "    else :\n",
    "        mocGroups.pop(key)"
   ]
  },
  {
   "cell_type": "code",
   "execution_count": 61,
   "id": "44ad094c",
   "metadata": {
    "scrolled": true
   },
   "outputs": [
    {
     "data": {
      "application/vnd.jupyter.widget-view+json": {
       "model_id": "e63e17895c3b401d820f08f17c798964",
       "version_major": 2,
       "version_minor": 0
      },
      "text/plain": [
       "Aladin(coo_frame='body', options=['allow_full_zoomout', 'coo_frame', 'fov', 'full_screen', 'log', 'overlay_sur…"
      ]
     },
     "execution_count": 61,
     "metadata": {},
     "output_type": "execute_result"
    }
   ],
   "source": [
    "aladin2 = Aladin(\n",
    "    coo_frame='body',\n",
    "    survey=\"http://voparis-srv-paris.obspm.fr/vo/planeto/hips/CDS_P_Venus_Magellan_C3-MDIR-2025m/\"\n",
    ")\n",
    "aladin2"
   ]
  },
  {
   "cell_type": "code",
   "execution_count": 62,
   "id": "0c2a8713",
   "metadata": {},
   "outputs": [],
   "source": [
    "for group, moc in mocGroups.items() :\n",
    "    jsonMoc = moc.serialize(format='json', optional_kw_dict=None, pre_v2=False)\n",
    "    aladin2.add_moc_from_dict(jsonMoc, {'opacity' : 0.5, 'name' : group})"
   ]
  },
  {
   "cell_type": "code",
   "execution_count": 63,
   "id": "4b4eb594",
   "metadata": {},
   "outputs": [],
   "source": [
    "mocCenter = list(mocGroups.values())[0].barycenter()\n",
    "aladin2.target = mocCenter.to_string()"
   ]
  },
  {
   "cell_type": "markdown",
   "id": "3e151d6c",
   "metadata": {},
   "source": [
    "### Intersection of MOCs\n",
    "\n",
    "Here, we get the intersection of the three MOCs in mocGroups"
   ]
  },
  {
   "cell_type": "code",
   "execution_count": 64,
   "id": "1baaa105",
   "metadata": {},
   "outputs": [],
   "source": [
    "mocList = []\n",
    "for moc in mocGroups.values() :\n",
    "    mocList.append(moc)\n",
    "    \n",
    "if(len(mocGroups) > 0):\n",
    "    mocIntersection = mocList[0]\n",
    "    mocList.pop(0)\n",
    "    for moc in mocList :\n",
    "        mocIntersection = mocIntersection.intersection(moc)"
   ]
  },
  {
   "cell_type": "markdown",
   "id": "971daf94",
   "metadata": {},
   "source": [
    "We can plot this intersection in Aladin if needed:"
   ]
  },
  {
   "cell_type": "code",
   "execution_count": 65,
   "id": "cf99995f",
   "metadata": {},
   "outputs": [],
   "source": [
    "jsonMoc = mocIntersection.serialize(format='json', optional_kw_dict=None, pre_v2=False)\n",
    "aladin2.add_moc_from_dict(jsonMoc, {'opacity' : 0.5, 'name' : 'intersection'})"
   ]
  },
  {
   "cell_type": "code",
   "execution_count": 66,
   "id": "5a3b3acb",
   "metadata": {},
   "outputs": [],
   "source": [
    "mocCenter = mocIntersection.barycenter()\n",
    "aladin2.target = mocCenter.to_string()"
   ]
  },
  {
   "cell_type": "markdown",
   "id": "c47f3b91",
   "metadata": {},
   "source": [
    "Then, for each item in the data that we got in the \"Get the data\" section, we can get the intersection between the MOC associated to this item and the MOC corresponding to the intersection of the three groups of MOCs (mocIntersection).\n",
    "\n",
    "If this intersection is not empty, then this item is in mocIntersection.\n",
    "So we get a list of items whose MOC intersects with the MOC of other items with the two other types of channel_id"
   ]
  },
  {
   "cell_type": "code",
   "execution_count": 67,
   "id": "81ce5067",
   "metadata": {},
   "outputs": [],
   "source": [
    "results = []\n",
    "for item in data :\n",
    "    moc = MOC.from_str(item[\"coverage\"])\n",
    "    if not moc.intersection(mocIntersection).empty() :\n",
    "        results.append(item)        "
   ]
  },
  {
   "cell_type": "code",
   "execution_count": 68,
   "id": "89bd3c58",
   "metadata": {},
   "outputs": [
    {
     "name": "stdout",
     "output_type": "stream",
     "text": [
      "15  results found:\n",
      "VI0041_02C\n",
      "VI0060_05C\n",
      "VV0041_02C\n",
      "VI0058_00C\n",
      "VV0058_00C\n",
      "VT0041_03C\n",
      "VI0047_00C\n",
      "VV0060_05C\n",
      "VV0047_00C\n",
      "VV0062_00C\n",
      "VI0062_00C\n",
      "VT0058_00C\n",
      "VT0060_01C\n",
      "VT0062_00C\n",
      "VT0047_00C\n"
     ]
    }
   ],
   "source": [
    "print(len(results), \" results found:\")\n",
    "for item in results :\n",
    "    print(item[\"granule_uid\"])"
   ]
  }
 ],
 "metadata": {
  "kernelspec": {
   "display_name": "Python 3 (ipykernel)",
   "language": "python",
   "name": "python3"
  },
  "language_info": {
   "codemirror_mode": {
    "name": "ipython",
    "version": 3
   },
   "file_extension": ".py",
   "mimetype": "text/x-python",
   "name": "python",
   "nbconvert_exporter": "python",
   "pygments_lexer": "ipython3",
   "version": "3.10.6"
  }
 },
 "nbformat": 4,
 "nbformat_minor": 5
}
