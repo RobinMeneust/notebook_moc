{
 "cells": [
  {
   "cell_type": "markdown",
   "id": "d567e928",
   "metadata": {},
   "source": [
    "# How to get and use MOC data from VESPA in Python with ElasticSearch\n",
    "\n",
    "Illustrate search for MOC data in VESPA using ElasticSearch.\n",
    "It also gives an example of a simple query to group together MOCs with the same value for a specific field (channel id), and then give the elements that are in the area defined by the intersection of all of those MOCs.\n",
    "\n",
    "## Import required modules"
   ]
  },
  {
   "cell_type": "code",
   "execution_count": 1,
   "id": "e9f7e3ce",
   "metadata": {},
   "outputs": [],
   "source": [
    "from elasticsearch import Elasticsearch"
   ]
  },
  {
   "cell_type": "markdown",
   "id": "31014629",
   "metadata": {},
   "source": [
    "## Connect to the ElasticSearch server\n",
    "\n",
    "You can change the following url to your ElasticSearch server, and provide a password or a certificate file if needed"
   ]
  },
  {
   "cell_type": "code",
   "execution_count": 2,
   "id": "43a0221d",
   "metadata": {
    "scrolled": false
   },
   "outputs": [],
   "source": [
    "es = Elasticsearch('http://voparis-elasticsearch.obspm.fr:9200')"
   ]
  },
  {
   "cell_type": "markdown",
   "id": "709f96ea",
   "metadata": {},
   "source": [
    "## Get a list of the indices\n",
    "\n",
    "Display a list of all the indices in the server.\n",
    "Each index contains documents and a document here is an item with fields (coverage, target_name, ...)"
   ]
  },
  {
   "cell_type": "code",
   "execution_count": 3,
   "id": "bce31937",
   "metadata": {
    "scrolled": true
   },
   "outputs": [
    {
     "name": "stdout",
     "output_type": "stream",
     "text": [
      "Indices list:\n",
      "\n",
      ".ds-.monitoring-es-8-mb-2022.10.20-000001\n",
      ".ds-.monitoring-es-8-mb-2022.10.23-000002\n",
      ".ds-.monitoring-es-8-mb-2022.10.26-000003\n",
      ".ds-.monitoring-es-8-mb-2022.10.29-000004\n",
      ".ds-.monitoring-es-8-mb-2022.11.01-000005\n",
      ".ds-.monitoring-es-8-mb-2022.11.04-000006\n",
      ".ds-.monitoring-es-8-mb-2022.11.07-000007\n",
      ".ds-.monitoring-es-8-mb-2022.11.10-000008\n",
      ".ds-.monitoring-es-8-mb-2022.11.13-000009\n",
      ".ds-.monitoring-es-8-mb-2022.11.16-000010\n",
      ".ds-.monitoring-es-8-mb-2022.11.19-000011\n",
      ".ds-metricbeat-8.4.3-2022.10.20-000001\n",
      ".ds-metricbeat-8.4.3-2022.11.19-000002\n",
      "exoplanet\n",
      "exoplanet_index\n",
      "moc-index\n",
      "obsfacility_index\n",
      "test_chloe\n",
      "vespa-index\n",
      "vespa_index\n"
     ]
    }
   ],
   "source": [
    "print(\"Indices list:\\n\")\n",
    "for index in es.indices.get(index='*'):\n",
    "    print(index)"
   ]
  },
  {
   "cell_type": "markdown",
   "id": "89b841e6",
   "metadata": {},
   "source": [
    "## Get the number of items in moc-index in Vvex, grouped by target name\n",
    "\n",
    "In this Notebook we will only consider the service Vvex in the index moc-index.\n",
    "To do so we use a term query to only get documents with service_title = vvex. And we specify in the search function parameters, the index 'moc-index' (in the variable indexName)\n",
    "But you can change it in the query variable below.\n",
    "This query use an aggregation to count the number of documents in moc-index, with the service Vvex, by grouping them by target_name"
   ]
  },
  {
   "cell_type": "code",
   "execution_count": 4,
   "id": "8be1b358",
   "metadata": {},
   "outputs": [],
   "source": [
    "indexName = 'moc-index'"
   ]
  },
  {
   "cell_type": "code",
   "execution_count": 5,
   "id": "34f2ad16",
   "metadata": {},
   "outputs": [
    {
     "name": "stdout",
     "output_type": "stream",
     "text": [
      "Venus : 45304\n",
      "Earth : 292\n",
      "Star : 16\n",
      "Mars : 8\n",
      "Mercury : 8\n"
     ]
    }
   ],
   "source": [
    "query = {\n",
    "    \"bool\": {\n",
    "         \"must\": [\n",
    "             {\n",
    "                \"term\": {\n",
    "                    \"service_title.keyword\": {\n",
    "                        \"value\": \"vvex\"\n",
    "                    }\n",
    "                }\n",
    "            }\n",
    "         ]\n",
    "    }\n",
    "}\n",
    "\n",
    "aggs = {\n",
    "    \"agg-test-terms-count\" : {\n",
    "        \"terms\": {\n",
    "            \"field\" : \"target_name.keyword\",\n",
    "            \"size\": 5\n",
    "        },\n",
    "    }\n",
    "}\n",
    "\n",
    "\n",
    "page = es.search(\n",
    "    index=indexName,\n",
    "    query=query,\n",
    "    size=0,\n",
    "    fields=[\"*\"],\n",
    "    aggs = aggs\n",
    ")\n",
    "\n",
    "for bucket in page[\"aggregations\"][\"agg-test-terms-count\"][\"buckets\"] :\n",
    "    print(bucket[\"key\"],\":\",bucket[\"doc_count\"])"
   ]
  },
  {
   "cell_type": "markdown",
   "id": "e3adeed1",
   "metadata": {},
   "source": [
    "## Check if an index has a coverage field\n",
    "\n",
    "We can check if an index has a coverage field by looking at its mapping"
   ]
  },
  {
   "cell_type": "code",
   "execution_count": 6,
   "id": "aec8bc93",
   "metadata": {},
   "outputs": [],
   "source": [
    "def hasCoverage(es, indexName) :\n",
    "    return \"coverage\" in es.indices.get_mapping(index=indexName)[indexName][\"mappings\"][\"properties\"]"
   ]
  },
  {
   "cell_type": "code",
   "execution_count": 7,
   "id": "cb5fff9c",
   "metadata": {},
   "outputs": [
    {
     "name": "stdout",
     "output_type": "stream",
     "text": [
      "There is a coverage field in the index  moc-index\n"
     ]
    }
   ],
   "source": [
    "if not hasCoverage(es,indexName) :\n",
    "    print(\"There is no coverage field in the index \", indexName)\n",
    "else :\n",
    "    print(\"There is a coverage field in the index \", indexName)"
   ]
  },
  {
   "cell_type": "markdown",
   "id": "2c001630",
   "metadata": {},
   "source": [
    "## Import modules for Aladin and MOCs"
   ]
  },
  {
   "cell_type": "code",
   "execution_count": 8,
   "id": "c5db7ab1",
   "metadata": {},
   "outputs": [],
   "source": [
    "from mocpy import MOC\n",
    "from ipyaladin import Aladin"
   ]
  },
  {
   "cell_type": "markdown",
   "id": "b7a62849",
   "metadata": {},
   "source": [
    "## How to load a MOC in Aladin\n",
    "\n",
    "In this section we will see how to load a MOC in Aladin.\n",
    "\n",
    "### Get the data\n",
    "\n",
    "In the following query we check if there is a coverage, but we are using another method : we use an exists query instead of the mapping, to check if the field exists."
   ]
  },
  {
   "cell_type": "code",
   "execution_count": 9,
   "id": "00d2255a",
   "metadata": {},
   "outputs": [
    {
     "name": "stdout",
     "output_type": "stream",
     "text": [
      "VV0086_19G\n",
      "VV0117_02G\n",
      "VV0085_15C\n",
      "VV0084_11C\n",
      "VV0084_14C\n",
      "VV0084_10G\n",
      "VV0084_03G\n",
      "VV0083_03C\n",
      "VV0082_13C\n",
      "VV0082_13G\n"
     ]
    }
   ],
   "source": [
    "query = {\n",
    "    \"bool\": {\n",
    "        \"must\" : [\n",
    "            {\n",
    "                \"exists\" : {\n",
    "                    \"field\" : \"coverage\"\n",
    "                }\n",
    "            },\n",
    "            {\n",
    "                \"term\": {\n",
    "                    \"service_title.keyword\": {\n",
    "                        \"value\": \"vvex\"\n",
    "                    }\n",
    "                }\n",
    "            }\n",
    "        ]\n",
    "    }\n",
    "}\n",
    "\n",
    "\n",
    "page = es.search(\n",
    "    index=indexName,\n",
    "    query=query,\n",
    "    size=10,\n",
    "    fields=[\"*\"],\n",
    ")\n",
    "\n",
    "data = []\n",
    "for document in page[\"hits\"][\"hits\"] :\n",
    "    data.append(document[\"_source\"])\n",
    "    print(document[\"_source\"][\"granule_uid\"])"
   ]
  },
  {
   "cell_type": "markdown",
   "id": "2d04f0ef",
   "metadata": {},
   "source": [
    "### Load Aladin and add the data that was fetched just above\n",
    "\n",
    "Here, and in the following examples, we are using the HiPS (Hierarchical Progressive Surveys) of Venus.\n",
    "Other HiPS can be found here http://voparis-srv-paris.obspm.fr/vo/planeto/hips/."
   ]
  },
  {
   "cell_type": "code",
   "execution_count": 10,
   "id": "8c47d6a6",
   "metadata": {},
   "outputs": [
    {
     "data": {
      "application/vnd.jupyter.widget-view+json": {
       "model_id": "789ceefc054a4aff8a81043fb8d57688",
       "version_major": 2,
       "version_minor": 0
      },
      "text/plain": [
       "Aladin(coo_frame='body', options=['allow_full_zoomout', 'coo_frame', 'fov', 'full_screen', 'log', 'overlay_sur…"
      ]
     },
     "execution_count": 10,
     "metadata": {},
     "output_type": "execute_result"
    }
   ],
   "source": [
    "aladin = Aladin(\n",
    "    coo_frame=\"body\",\n",
    "    survey=\"http://voparis-srv-paris.obspm.fr/vo/planeto/hips/CDS_P_Venus_Magellan_C3-MDIR-2025m/\"\n",
    ")\n",
    "aladin"
   ]
  },
  {
   "cell_type": "markdown",
   "id": "5fe7c3a2",
   "metadata": {},
   "source": [
    "### Load the MOCs\n",
    "\n",
    "First, for each MOC, we create a MOC object with mocpy and then we convert it to a dictionnary, since it's the format that ipyaladin expects in the function add_moc_from_dict."
   ]
  },
  {
   "cell_type": "code",
   "execution_count": 11,
   "id": "cba4d86d",
   "metadata": {},
   "outputs": [],
   "source": [
    "for item in data :\n",
    "    mocObject = MOC.from_str(item[\"coverage\"])\n",
    "    jsonMoc = mocObject.serialize(format='json', optional_kw_dict=None, pre_v2=False)\n",
    "    aladin.add_moc_from_dict(jsonMoc, {'opacity' : 0.5, 'name' : item[\"granule_uid\"]})"
   ]
  },
  {
   "cell_type": "markdown",
   "id": "1d924114",
   "metadata": {},
   "source": [
    "We center the view on one of the MOC"
   ]
  },
  {
   "cell_type": "code",
   "execution_count": 12,
   "id": "5a697b6f",
   "metadata": {},
   "outputs": [],
   "source": [
    "mocCenter = MOC.from_str(data[0][\"coverage\"]).barycenter()\n",
    "aladin.target = mocCenter.to_string()"
   ]
  },
  {
   "cell_type": "markdown",
   "id": "5211ac60",
   "metadata": {},
   "source": [
    "## Union and intersection of MOCs\n",
    "\n",
    "In this section, we are going to see how to search specific MOCs.\n",
    "Here we only consider MOCs in the Northern Hemisphere, whose dataproduct_type is the spectral cube and whose observation minimim local time was before 20 P.M.\n",
    "\n",
    "Then, we will group those MOCs in three categories, corresponding to the channel_id field associated to them.\n",
    "And finally, we will search all the elements whose MOC is in a MOC defined as the intersection of those three groups."
   ]
  },
  {
   "cell_type": "markdown",
   "id": "c4f55341",
   "metadata": {},
   "source": [
    "### Get the data\n",
    "\n",
    "The range query is used to specify a range for the given field.\n",
    "For instance, in the first range query, we have: 0 $\\leq$ c1min $\\leq$ 360"
   ]
  },
  {
   "cell_type": "code",
   "execution_count": 13,
   "id": "2682bcfd",
   "metadata": {},
   "outputs": [
    {
     "name": "stdout",
     "output_type": "stream",
     "text": [
      "VI0041_02C\n",
      "VT0033_00C\n",
      "VI0060_05C\n",
      "VV0041_02C\n",
      "VI0058_00C\n",
      "VV0058_00C\n",
      "VT0041_03C\n",
      "VI0047_00C\n",
      "VV0060_05C\n",
      "VV0047_00C\n",
      "VV0062_00C\n",
      "VI0062_00C\n",
      "VT0058_00C\n",
      "VT0060_01C\n",
      "VT0062_00C\n",
      "VT0047_00C\n",
      "\n",
      " 16  results found\n"
     ]
    }
   ],
   "source": [
    "query = {\n",
    "    \"bool\": {\n",
    "         \"must\": [\n",
    "             {\n",
    "                \"range\" : {\n",
    "                    \"c1min\" : {\n",
    "                        \"gte\" : 0,\n",
    "                        \"lte\" : 360\n",
    "                    }\n",
    "                }\n",
    "             },\n",
    "             {\n",
    "                \"range\" : {\n",
    "                    \"c1max\" : {\n",
    "                        \"gte\" : 0,\n",
    "                        \"lte\" : 360\n",
    "                    }\n",
    "                }\n",
    "             },\n",
    "             {\n",
    "                \"range\" : {\n",
    "                    \"c2min\" : {\n",
    "                        \"gte\" : 0,\n",
    "                        \"lte\" : 90\n",
    "                    }\n",
    "                }\n",
    "             },\n",
    "             {\n",
    "                \"range\" : {\n",
    "                    \"c2max\" : {\n",
    "                        \"gte\" : 0,\n",
    "                        \"lte\" : 90\n",
    "                    }\n",
    "                }\n",
    "             },\n",
    "             {\n",
    "                \"range\" : {\n",
    "                    \"local_time_min\" : {\n",
    "                        \"lte\" : 20\n",
    "                    }\n",
    "                }\n",
    "             },\n",
    "             {\n",
    "                \"term\" : {\n",
    "                    \"dataproduct_type\" : \"sc\"\n",
    "                }\n",
    "            },\n",
    "            {\n",
    "                \"term\": {\n",
    "                    \"service_title.keyword\": {\n",
    "                    \"value\": \"vvex\"\n",
    "                  }\n",
    "                 }\n",
    "             },\n",
    "             {\n",
    "                \"exists\" : {\n",
    "                    \"field\" : \"coverage\"\n",
    "                }\n",
    "            }\n",
    "        ]\n",
    "    }\n",
    "}\n",
    "\n",
    "page = es.search(\n",
    "    index=indexName,\n",
    "    query=query,\n",
    "    size=50,\n",
    "    fields=[\"*\"],\n",
    ")\n",
    "\n",
    "data = []\n",
    "for document in page[\"hits\"][\"hits\"] :\n",
    "    data.append(document[\"_source\"])\n",
    "    print(document[\"_source\"][\"granule_uid\"])\n",
    "\n",
    "print(\"\\n\",len(data),\" results found\")"
   ]
  },
  {
   "cell_type": "markdown",
   "id": "725f549f",
   "metadata": {},
   "source": [
    "### Group the MOCs by channel_id\n",
    "\n",
    "Here we are using a dictionnary: each key is a channel_id value, the value associated to it is an array containing all the MOCs whose channel_id is equal to this key.\n",
    "In the following block of code we are filling this dictionnary."
   ]
  },
  {
   "cell_type": "code",
   "execution_count": 14,
   "id": "5d2f0276",
   "metadata": {},
   "outputs": [],
   "source": [
    "mocGroups = {\"VIRTIS_M_VIS\":[], \"VIRTIS_M_IR\":[], \"VIRTIS_H\":[]}\n",
    "for element in data :\n",
    "    mocGroups[element[\"channel_id\"]].append(MOC.from_str(element[\"coverage\"]))"
   ]
  },
  {
   "cell_type": "markdown",
   "id": "b38c3a51",
   "metadata": {},
   "source": [
    "For each channel_id we are now using mocpy to make an union of all the MOCs in the array corresponding to this channel_id.\n",
    "So we add the first element to mocUnion, we remove it from the array, then for each element of the array we make an union between mocUnion and this element, and finally, we replace the array of MOCs with the MOC mocUnion at the corresponding key.\n",
    "\n",
    "So, the following block of code converts a dictionnary of MOCs array to a dictionnary of MOCs that covers the same area as the array of MOCs that was previously at the same key."
   ]
  },
  {
   "cell_type": "code",
   "execution_count": 15,
   "id": "47953260",
   "metadata": {},
   "outputs": [],
   "source": [
    "for key in list(mocGroups.keys()) :\n",
    "    if(len(mocGroups[key]) > 0):\n",
    "        mocUnion = MOC.new_empty(29)\n",
    "        for moc in mocGroups[key] :\n",
    "            mocUnion = mocUnion.union(moc)\n",
    "        mocGroups[key] = mocUnion\n",
    "    else :\n",
    "        mocGroups.pop(key)"
   ]
  },
  {
   "cell_type": "code",
   "execution_count": 16,
   "id": "44ad094c",
   "metadata": {
    "scrolled": false
   },
   "outputs": [
    {
     "data": {
      "application/vnd.jupyter.widget-view+json": {
       "model_id": "381d61c6c7be403a9762130cad713daa",
       "version_major": 2,
       "version_minor": 0
      },
      "text/plain": [
       "Aladin(coo_frame='body', options=['allow_full_zoomout', 'coo_frame', 'fov', 'full_screen', 'log', 'overlay_sur…"
      ]
     },
     "execution_count": 16,
     "metadata": {},
     "output_type": "execute_result"
    }
   ],
   "source": [
    "aladin2 = Aladin(\n",
    "    coo_frame='body',\n",
    "    survey=\"http://voparis-srv-paris.obspm.fr/vo/planeto/hips/CDS_P_Venus_Magellan_C3-MDIR-2025m/\"\n",
    ")\n",
    "aladin2"
   ]
  },
  {
   "cell_type": "code",
   "execution_count": 17,
   "id": "0c2a8713",
   "metadata": {},
   "outputs": [],
   "source": [
    "for group, moc in mocGroups.items() :\n",
    "    jsonMoc = moc.serialize(format='json', optional_kw_dict=None, pre_v2=False)\n",
    "    aladin2.add_moc_from_dict(jsonMoc, {'opacity' : 0.5, 'name' : group})"
   ]
  },
  {
   "cell_type": "code",
   "execution_count": 18,
   "id": "4b4eb594",
   "metadata": {},
   "outputs": [],
   "source": [
    "mocCenter = list(mocGroups.values())[0].barycenter()\n",
    "aladin2.target = mocCenter.to_string()"
   ]
  },
  {
   "cell_type": "markdown",
   "id": "3e151d6c",
   "metadata": {},
   "source": [
    "### Intersection of MOCs\n",
    "\n",
    "Here, we get the intersection of the three MOCs in mocGroups"
   ]
  },
  {
   "cell_type": "code",
   "execution_count": 19,
   "id": "1baaa105",
   "metadata": {},
   "outputs": [],
   "source": [
    "mocList = []\n",
    "for moc in mocGroups.values() :\n",
    "    mocList.append(moc)\n",
    "    \n",
    "if(len(mocGroups) > 0):\n",
    "    mocIntersection = mocList[0]\n",
    "    mocList.pop(0)\n",
    "    for moc in mocList :\n",
    "        mocIntersection = mocIntersection.intersection(moc)"
   ]
  },
  {
   "cell_type": "markdown",
   "id": "971daf94",
   "metadata": {},
   "source": [
    "We can plot this intersection in Aladin if needed:"
   ]
  },
  {
   "cell_type": "code",
   "execution_count": 20,
   "id": "cf99995f",
   "metadata": {},
   "outputs": [],
   "source": [
    "jsonMoc = mocIntersection.serialize(format='json', optional_kw_dict=None, pre_v2=False)\n",
    "aladin2.add_moc_from_dict(jsonMoc, {'opacity' : 0.5, 'name' : 'intersection'})"
   ]
  },
  {
   "cell_type": "code",
   "execution_count": 21,
   "id": "5a3b3acb",
   "metadata": {},
   "outputs": [],
   "source": [
    "mocCenter = mocIntersection.barycenter()\n",
    "aladin2.target = mocCenter.to_string()"
   ]
  },
  {
   "cell_type": "markdown",
   "id": "c47f3b91",
   "metadata": {},
   "source": [
    "Then, for each item in the data that we got in the \"Get the data\" section, we can get the intersection between the MOC associated to this item and the MOC corresponding to the intersection of the three groups of MOCs (mocIntersection).\n",
    "\n",
    "If this intersection is not empty, then this item is in mocIntersection.\n",
    "So we get a list of items whose MOC intersects with the MOC of other items with the two other types of channel_id"
   ]
  },
  {
   "cell_type": "code",
   "execution_count": 22,
   "id": "81ce5067",
   "metadata": {},
   "outputs": [],
   "source": [
    "results = []\n",
    "for item in data :\n",
    "    moc = MOC.from_str(item[\"coverage\"])\n",
    "    if not moc.intersection(mocIntersection).empty() :\n",
    "        results.append(item)        "
   ]
  },
  {
   "cell_type": "code",
   "execution_count": 23,
   "id": "89bd3c58",
   "metadata": {},
   "outputs": [
    {
     "name": "stdout",
     "output_type": "stream",
     "text": [
      "15  results found:\n",
      "VI0041_02C\n",
      "VI0060_05C\n",
      "VV0041_02C\n",
      "VI0058_00C\n",
      "VV0058_00C\n",
      "VT0041_03C\n",
      "VI0047_00C\n",
      "VV0060_05C\n",
      "VV0047_00C\n",
      "VV0062_00C\n",
      "VI0062_00C\n",
      "VT0058_00C\n",
      "VT0060_01C\n",
      "VT0062_00C\n",
      "VT0047_00C\n"
     ]
    }
   ],
   "source": [
    "print(len(results), \" results found:\")\n",
    "for item in results :\n",
    "    print(item[\"granule_uid\"])"
   ]
  },
  {
   "cell_type": "markdown",
   "id": "e86951ed",
   "metadata": {},
   "source": [
    "## Select an area in Aladin and search elements within"
   ]
  },
  {
   "cell_type": "markdown",
   "id": "4951df05",
   "metadata": {},
   "source": [
    "### Import required modules"
   ]
  },
  {
   "cell_type": "code",
   "execution_count": 24,
   "id": "9fd884ad",
   "metadata": {},
   "outputs": [],
   "source": [
    "from astropy.coordinates import SkyCoord\n",
    "import astropy.units as u\n",
    "from ipywidgets import Layout, Box, widgets"
   ]
  },
  {
   "cell_type": "markdown",
   "id": "c22f048a",
   "metadata": {},
   "source": [
    "### Draw a MOC with the mouse cursor\n",
    "\n",
    "When the user click somewhere in Aladin (on the surface), the position of the click is saved and we update the ranges of c1 and c2 (longitude and latitude), that will be used for the query to avoid having to much data.\n",
    "\n",
    "To get the moc of the selected area, click on the button 'Add selection' and you will see it in Aladin (you might need to rotate the sphere to update the view).\n",
    "\n",
    "But before doing so, we need to add an event to the button and to the Aladin box. This will be added in the following blocks of code."
   ]
  },
  {
   "cell_type": "code",
   "execution_count": 25,
   "id": "89c0b416",
   "metadata": {
    "scrolled": true
   },
   "outputs": [
    {
     "data": {
      "application/vnd.jupyter.widget-view+json": {
       "model_id": "8b3d047aed744b528a14b106380ce10e",
       "version_major": 2,
       "version_minor": 0
      },
      "text/plain": [
       "Box(children=(Aladin(coo_frame='body', layout=Layout(width='70%'), options=['allow_full_zoomout', 'coo_frame',…"
      ]
     },
     "execution_count": 25,
     "metadata": {},
     "output_type": "execute_result"
    },
    {
     "name": "stdout",
     "output_type": "stream",
     "text": [
      "None\r"
     ]
    }
   ],
   "source": [
    "aladin3 = Aladin(\n",
    "    layout=Layout(width=\"70%\"),\n",
    "    coo_frame='body',\n",
    "    survey=\"http://voparis-srv-paris.obspm.fr/vo/planeto/hips/CDS_P_Venus_Magellan_C3-MDIR-2025m/\"\n",
    ")\n",
    "\n",
    "button = widgets.Button(description=\"Add selection\")\n",
    "\n",
    "box_layout = Layout(\n",
    "    display=\"flex\", flex_flow=\"row\", align_items=\"stretch\", width=\"100%\"\n",
    ")\n",
    "box = Box(children=[aladin3, button], layout=box_layout)\n",
    "box"
   ]
  },
  {
   "cell_type": "code",
   "execution_count": 39,
   "id": "5a35dab9",
   "metadata": {},
   "outputs": [],
   "source": [
    "def updateBounds(areaPoints, ra, dec) :\n",
    "    if areaPoints[\"c1min\"] is None or areaPoints[\"c1min\"] > ra :\n",
    "        areaPoints[\"c1min\"] = ra\n",
    "    if areaPoints[\"c1max\"] is None or areaPoints[\"c1max\"] < ra :\n",
    "        areaPoints[\"c1max\"] = ra\n",
    "    if areaPoints[\"c2min\"] is None or areaPoints[\"c2min\"] > dec :\n",
    "        areaPoints[\"c2min\"] = dec\n",
    "    if areaPoints[\"c2max\"] is None or areaPoints[\"c2max\"] < dec :\n",
    "        areaPoints[\"c2max\"] = dec"
   ]
  },
  {
   "cell_type": "code",
   "execution_count": 40,
   "id": "ea75bd74",
   "metadata": {},
   "outputs": [],
   "source": [
    "def addMocSelectionToAladin(*_) :\n",
    "    if len(areaPoints) > 1 :\n",
    "        polygonCoordinates = SkyCoord(areaPoints[\"ra\"]*u.deg, areaPoints[\"dec\"]*u.deg)\n",
    "        mocSelection = MOC.from_polygon_skycoord(polygonCoordinates, max_depth=15)\n",
    "        aladin3.add_moc_from_dict(mocSelection.serialize(\"json\"), {\"color\": \"red\", \"opacity\": 0.5, \"name\": \"selection\"})\n",
    "        areaPoints[\"moc\"] = mocSelection"
   ]
  },
  {
   "cell_type": "code",
   "execution_count": 41,
   "id": "6a5cd26b",
   "metadata": {},
   "outputs": [],
   "source": [
    "areaPoints =  {\"moc\" : None, \"c1min\": None, \"c1max\" : None, \"c2min\" : None, \"c2max\" : None, \"ra\" : [], \"dec\" : []}\n",
    "\n",
    "def addToAreaPoints(data) :\n",
    "    updateBounds(areaPoints, data[\"ra\"],data[\"dec\"])\n",
    "    areaPoints[\"ra\"].append(data[\"ra\"])\n",
    "    areaPoints[\"dec\"].append(data[\"dec\"])"
   ]
  },
  {
   "cell_type": "markdown",
   "id": "a8bac33f",
   "metadata": {},
   "source": [
    "And we can now add the events:"
   ]
  },
  {
   "cell_type": "code",
   "execution_count": 29,
   "id": "4f850301",
   "metadata": {},
   "outputs": [],
   "source": [
    "aladin3.add_listener(\"click\", addToAreaPoints)\n",
    "button.on_click(addMocSelectionToAladin)"
   ]
  },
  {
   "cell_type": "markdown",
   "id": "53bae3c8",
   "metadata": {},
   "source": [
    "### Get the data\n",
    "\n",
    "We get all the data that may intersect with the searched area, but we limit it at 5000 results here so that it's not to slow."
   ]
  },
  {
   "cell_type": "markdown",
   "id": "dfec04ec",
   "metadata": {},
   "source": [
    "The 2 following functions create range queries for ElasticSearch.\n",
    "Then, we can start searching."
   ]
  },
  {
   "cell_type": "code",
   "execution_count": 36,
   "id": "29722168",
   "metadata": {},
   "outputs": [],
   "source": [
    "def getRange(field, min, max) :\n",
    "    return {\n",
    "        \"range\" : {\n",
    "            field : {\n",
    "                \"gte\" : min,\n",
    "                \"lte\" : max\n",
    "            }\n",
    "        }\n",
    "    }"
   ]
  },
  {
   "cell_type": "code",
   "execution_count": 37,
   "id": "bbe52787",
   "metadata": {},
   "outputs": [],
   "source": [
    "def getC1Range(c1min, c1max) :\n",
    "    range = []\n",
    "    c1Dist = abs(c1min - c1max)\n",
    "\n",
    "    if c1Dist <= 180 :\n",
    "        range.append(getRange(\"c1min\",c1min,c1max))\n",
    "        range.append(getRange(\"c1max\",c1min,c1max))\n",
    "    else :\n",
    "        range.append(getRange(\"c1min\",0,c1min))\n",
    "        range.append(getRange(\"c1min\",c1max,360))\n",
    "\n",
    "        range.append(getRange(\"c1max\",0,c1min))\n",
    "        range.append(getRange(\"c1max\",c1max,360))\n",
    "\n",
    "    return range"
   ]
  },
  {
   "cell_type": "code",
   "execution_count": 38,
   "id": "b82a003a",
   "metadata": {},
   "outputs": [
    {
     "name": "stdout",
     "output_type": "stream",
     "text": [
      "\n",
      " 2000  results found\n"
     ]
    }
   ],
   "source": [
    "query = {\n",
    "    \"bool\": {\n",
    "         \"must\": [\n",
    "             {\n",
    "                 \"bool\" : {\n",
    "                     \"should\" : getC1Range(areaPoints[\"c1min\"],areaPoints[\"c1max\"]),\n",
    "                     \"minimum_should_match\" : 1\n",
    "                 }\n",
    "             },\n",
    "             {\n",
    "                 \"bool\" : {\n",
    "                     \"should\" : [\n",
    "                         getRange(\"c2min\", areaPoints[\"c2min\"], areaPoints[\"c2max\"]),\n",
    "                         getRange(\"c2max\", areaPoints[\"c2min\"], areaPoints[\"c2max\"])\n",
    "                     ],\n",
    "                     \"minimum_should_match\" : 1\n",
    "                 }\n",
    "             },\n",
    "             {\n",
    "                \"exists\" : {\n",
    "                    \"field\" : \"coverage\"\n",
    "                }\n",
    "            },\n",
    "             {\n",
    "                \"term\": {\n",
    "                    \"service_title.keyword\": {\n",
    "                    \"value\": \"vvex\"\n",
    "                    }\n",
    "                }\n",
    "            }\n",
    "        ]\n",
    "    }\n",
    "}\n",
    "\n",
    "page = es.search(\n",
    "    index=indexName,\n",
    "    query=query,\n",
    "    size=2000,\n",
    "    fields=[\"*\"],\n",
    ")\n",
    "\n",
    "data = []\n",
    "for document in page[\"hits\"][\"hits\"] :\n",
    "    data.append(document[\"_source\"])\n",
    "\n",
    "print(\"\\n\",len(data),\" results found\")"
   ]
  },
  {
   "cell_type": "markdown",
   "id": "d9b09925",
   "metadata": {},
   "source": [
    "### Search MOCs that intersect with it and get the associated elements\n",
    "\n",
    "Then, for each item in the data that we got in the \"Get the data\" section, we can get the intersection between the MOC associated to this item and the MOC corresponding to the searched area.\n",
    "\n",
    "If this intersection is not empty, then this item is in the searched area."
   ]
  },
  {
   "cell_type": "code",
   "execution_count": 33,
   "id": "ae406227",
   "metadata": {},
   "outputs": [],
   "source": [
    "results = []\n",
    "if areaPoints[\"moc\"] is None :\n",
    "    print(\"The search area is empty. Please select an area and click on the button\")\n",
    "else :  \n",
    "    for item in data :\n",
    "        if item[\"coverage\"] is not None and item[\"coverage\"] != \"\" :\n",
    "            moc = MOC.from_str(item[\"coverage\"])\n",
    "            if not moc.intersection(areaPoints[\"moc\"]).empty() :\n",
    "                results.append(item)"
   ]
  },
  {
   "cell_type": "code",
   "execution_count": 34,
   "id": "6991d63b",
   "metadata": {},
   "outputs": [
    {
     "name": "stdout",
     "output_type": "stream",
     "text": [
      "69  results found:\n",
      "VI0901_02C\n",
      "VV0042_00G\n",
      "VV0992_08C\n",
      "VI0145_15C\n",
      "VI0261_06C\n",
      "VI0460_07G\n",
      "VV1873_04G\n",
      "VV0992_02C\n",
      "VV0040_00C\n",
      "VT0261_04G\n",
      "VV1509_08C\n",
      "VT0277_01C\n",
      "VT0371_02G\n",
      "VV1437_01G\n",
      "VV0145_15C\n",
      "VT0657_02C\n",
      "VV1429_02C\n",
      "VT0742_03G\n",
      "VT0741_04G\n",
      "VT0901_02C\n",
      "VT0896_03G\n",
      "VT1267_02C\n",
      "VT1267_02G\n",
      "VT0457_02C\n",
      "VT0457_02G\n",
      "VT0377_03G\n",
      "VT0256_03C\n",
      "VV1440_02G\n",
      "VV0459_07G\n",
      "VV2337_02G\n",
      "VV0249_12C\n",
      "VV2073_06C\n",
      "VV2720_12C\n",
      "VV2716_14G\n",
      "VV2714_12C\n",
      "VV0664_06G\n",
      "VV0733_03G\n",
      "VI0145_15G\n",
      "VV1140_09G\n",
      "VV1140_04C\n",
      "VI0214_01C\n",
      "VI0249_12G\n",
      "VI0458_07G\n",
      "VI0459_07G\n",
      "VI0901_02G\n",
      "VV2180_04G\n",
      "VV1439_01G\n",
      "VT0218_01C\n",
      "VT0287_03G\n",
      "VT0278_01C\n",
      "VT0742_04C\n",
      "VT0900_02C\n",
      "VT0377_03C\n",
      "VT0040_00C\n",
      "VV0256_09C\n",
      "VV2481_08C\n",
      "VV0459_07C\n",
      "VV2355_04G\n",
      "VV2643_00C\n",
      "VV1991_05G\n",
      "VV1990_04G\n",
      "VV1910_04C\n",
      "VV1910_04G\n",
      "VV2180_04C\n",
      "VI0664_06C\n",
      "VI0742_02C\n",
      "VV2129_01C\n",
      "VV0901_02G\n",
      "VV0992_08G\n"
     ]
    }
   ],
   "source": [
    "print(len(results), \" results found:\")\n",
    "for item in results :\n",
    "    print(item[\"granule_uid\"])"
   ]
  },
  {
   "cell_type": "markdown",
   "id": "4c5d2222",
   "metadata": {},
   "source": [
    "### Load the MOCs of some of the results in Aladin"
   ]
  },
  {
   "cell_type": "code",
   "execution_count": 35,
   "id": "130dc2c6",
   "metadata": {},
   "outputs": [],
   "source": [
    "for i in range(min(10, len(results))) :\n",
    "    moc = MOC.from_str(results[i][\"coverage\"])\n",
    "    aladin3.add_moc_from_dict(moc.serialize(\"json\"), {\"opacity\": 0.5, \"name\": results[i][\"granule_uid\"]})"
   ]
  },
  {
   "cell_type": "markdown",
   "id": "8ee39e5e",
   "metadata": {},
   "source": [
    "### Center the view on it"
   ]
  },
  {
   "cell_type": "code",
   "execution_count": null,
   "id": "8f747c33",
   "metadata": {},
   "outputs": [],
   "source": [
    "if len(results) > 0 :\n",
    "    mocCenter = MOC.from_str(results[0][\"coverage\"]).barycenter()\n",
    "    aladin3.target = mocCenter.to_string()"
   ]
  }
 ],
 "metadata": {
  "kernelspec": {
   "display_name": "Python 3 (ipykernel)",
   "language": "python",
   "name": "python3"
  },
  "language_info": {
   "codemirror_mode": {
    "name": "ipython",
    "version": 3
   },
   "file_extension": ".py",
   "mimetype": "text/x-python",
   "name": "python",
   "nbconvert_exporter": "python",
   "pygments_lexer": "ipython3",
   "version": "3.10.6"
  }
 },
 "nbformat": 4,
 "nbformat_minor": 5
}
