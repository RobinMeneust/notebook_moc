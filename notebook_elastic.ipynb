{
 "cells": [
  {
   "cell_type": "markdown",
   "id": "d567e928",
   "metadata": {},
   "source": [
    "# How to get and use MOC data from VESPA in Python with ElasticSearch\n",
    "\n",
    "Illustrate search for MOC data in VESPA using ElasticSearch.\n",
    "It also gives an example of a simple query to group together MOCs with the same value for a specific field (channel id), and then give the elements that are in the area defined by the intersection of all of those MOCs.\n",
    "\n",
    "## Import required modules"
   ]
  },
  {
   "cell_type": "code",
   "execution_count": 85,
   "id": "e9f7e3ce",
   "metadata": {},
   "outputs": [],
   "source": [
    "from elasticsearch import Elasticsearch"
   ]
  },
  {
   "cell_type": "markdown",
   "id": "31014629",
   "metadata": {},
   "source": [
    "## Connect to the ElasticSearch server\n",
    "\n",
    "You can change the following url to your ElasticSearch server, and provide a password or a certificate file if needed"
   ]
  },
  {
   "cell_type": "code",
   "execution_count": 86,
   "id": "43a0221d",
   "metadata": {
    "scrolled": false
   },
   "outputs": [],
   "source": [
    "es = Elasticsearch('http://voparis-elasticsearch.obspm.fr:9200')"
   ]
  },
  {
   "cell_type": "markdown",
   "id": "709f96ea",
   "metadata": {},
   "source": [
    "## Get a list of the indices\n",
    "\n",
    "Display a list of all the indices in the server.\n",
    "Each index contains documents and a document here is an item with fields (coverage, target_name, ...)"
   ]
  },
  {
   "cell_type": "code",
   "execution_count": 87,
   "id": "bce31937",
   "metadata": {
    "scrolled": true
   },
   "outputs": [
    {
     "name": "stdout",
     "output_type": "stream",
     "text": [
      "Indices list:\n",
      "\n",
      ".ds-.monitoring-es-8-mb-2022.10.20-000001\n",
      ".ds-.monitoring-es-8-mb-2022.10.23-000002\n",
      ".ds-.monitoring-es-8-mb-2022.10.26-000003\n",
      ".ds-.monitoring-es-8-mb-2022.10.29-000004\n",
      ".ds-.monitoring-es-8-mb-2022.11.01-000005\n",
      ".ds-.monitoring-es-8-mb-2022.11.04-000006\n",
      ".ds-.monitoring-es-8-mb-2022.11.07-000007\n",
      ".ds-.monitoring-es-8-mb-2022.11.10-000008\n",
      ".ds-.monitoring-es-8-mb-2022.11.13-000009\n",
      ".ds-.monitoring-es-8-mb-2022.11.16-000010\n",
      ".ds-.monitoring-es-8-mb-2022.11.19-000011\n",
      ".ds-metricbeat-8.4.3-2022.10.20-000001\n",
      ".ds-metricbeat-8.4.3-2022.11.19-000002\n",
      "exoplanet\n",
      "exoplanet_index\n",
      "moc-index\n",
      "obsfacility_index\n",
      "test_chloe\n",
      "vespa-index\n",
      "vespa_index\n"
     ]
    }
   ],
   "source": [
    "print(\"Indices list:\\n\")\n",
    "for index in es.indices.get(index='*'):\n",
    "    print(index)"
   ]
  },
  {
   "cell_type": "markdown",
   "id": "89b841e6",
   "metadata": {},
   "source": [
    "## Get the number of items in moc-index in Vvex, grouped by target name\n",
    "\n",
    "In this Notebook we will only consider the service Vvex in the index moc-index.\n",
    "To do so we use a term query to only get documents with service_title = vvex. And we specify in the search function parameters, the index 'moc-index' (in the variable indexName)\n",
    "But you can change it in the query variable below.\n",
    "This query use an aggregation to count the number of documents in moc-index, with the service Vvex, by grouping them by target_name"
   ]
  },
  {
   "cell_type": "code",
   "execution_count": 88,
   "id": "8be1b358",
   "metadata": {},
   "outputs": [],
   "source": [
    "indexName = 'moc-index'"
   ]
  },
  {
   "cell_type": "code",
   "execution_count": 89,
   "id": "34f2ad16",
   "metadata": {},
   "outputs": [
    {
     "name": "stdout",
     "output_type": "stream",
     "text": [
      "Venus : 45304\n",
      "Earth : 292\n",
      "Star : 16\n",
      "Mars : 8\n",
      "Mercury : 8\n"
     ]
    }
   ],
   "source": [
    "query = {\n",
    "    \"bool\": {\n",
    "         \"must\": [\n",
    "             {\n",
    "                \"term\": {\n",
    "                    \"service_title.keyword\": {\n",
    "                        \"value\": \"vvex\"\n",
    "                    }\n",
    "                }\n",
    "            }\n",
    "         ]\n",
    "    }\n",
    "}\n",
    "\n",
    "aggs = {\n",
    "    \"agg-test-terms-count\" : {\n",
    "        \"terms\": {\n",
    "            \"field\" : \"target_name.keyword\",\n",
    "            \"size\": 5\n",
    "        },\n",
    "    }\n",
    "}\n",
    "\n",
    "\n",
    "page = es.search(\n",
    "    index=indexName,\n",
    "    query=query,\n",
    "    size=0,\n",
    "    fields=[\"*\"],\n",
    "    aggs = aggs\n",
    ")\n",
    "\n",
    "for bucket in page[\"aggregations\"][\"agg-test-terms-count\"][\"buckets\"] :\n",
    "    print(bucket[\"key\"],\":\",bucket[\"doc_count\"])"
   ]
  },
  {
   "cell_type": "markdown",
   "id": "e3adeed1",
   "metadata": {},
   "source": [
    "## Check if an index has a coverage field\n",
    "\n",
    "We can check if an index has a coverage field by looking at its mapping"
   ]
  },
  {
   "cell_type": "code",
   "execution_count": 90,
   "id": "aec8bc93",
   "metadata": {},
   "outputs": [],
   "source": [
    "def hasCoverage(es, indexName) :\n",
    "    return \"coverage\" in es.indices.get_mapping(index=indexName)[indexName][\"mappings\"][\"properties\"]"
   ]
  },
  {
   "cell_type": "code",
   "execution_count": 91,
   "id": "cb5fff9c",
   "metadata": {},
   "outputs": [
    {
     "name": "stdout",
     "output_type": "stream",
     "text": [
      "There is a coverage field in the index  moc-index\n"
     ]
    }
   ],
   "source": [
    "if not hasCoverage(es,indexName) :\n",
    "    print(\"There is no coverage field in the index \", indexName)\n",
    "else :\n",
    "    print(\"There is a coverage field in the index \", indexName)"
   ]
  },
  {
   "cell_type": "markdown",
   "id": "2c001630",
   "metadata": {},
   "source": [
    "## Import modules for Aladin and MOCs"
   ]
  },
  {
   "cell_type": "code",
   "execution_count": 92,
   "id": "c5db7ab1",
   "metadata": {},
   "outputs": [],
   "source": [
    "from mocpy import MOC\n",
    "from ipyaladin import Aladin"
   ]
  },
  {
   "cell_type": "markdown",
   "id": "b7a62849",
   "metadata": {},
   "source": [
    "## How to load a MOC in Aladin\n",
    "\n",
    "In this section we will see how to load a MOC in Aladin.\n",
    "\n",
    "### Get the data\n",
    "\n",
    "In the following query we check if there is a coverage, but we are using another method : we use an exists query instead of the mapping, to check if the field exists."
   ]
  },
  {
   "cell_type": "code",
   "execution_count": 93,
   "id": "00d2255a",
   "metadata": {},
   "outputs": [
    {
     "name": "stdout",
     "output_type": "stream",
     "text": [
      "VV0086_19G\n",
      "VV0117_02G\n",
      "VV0085_15C\n",
      "VV0084_11C\n",
      "VV0084_14C\n",
      "VV0084_10G\n",
      "VV0084_03G\n",
      "VV0083_03C\n",
      "VV0082_13C\n",
      "VV0082_13G\n"
     ]
    }
   ],
   "source": [
    "query = {\n",
    "    \"bool\": {\n",
    "        \"must\" : [\n",
    "            {\n",
    "                \"exists\" : {\n",
    "                    \"field\" : \"coverage\"\n",
    "                }\n",
    "            },\n",
    "            {\n",
    "                \"term\": {\n",
    "                    \"service_title.keyword\": {\n",
    "                        \"value\": \"vvex\"\n",
    "                    }\n",
    "                }\n",
    "            }\n",
    "        ]\n",
    "    }\n",
    "}\n",
    "\n",
    "\n",
    "page = es.search(\n",
    "    index=indexName,\n",
    "    query=query,\n",
    "    size=10,\n",
    "    fields=[\"*\"],\n",
    ")\n",
    "\n",
    "data = []\n",
    "for document in page[\"hits\"][\"hits\"] :\n",
    "    data.append(document[\"_source\"])\n",
    "    print(document[\"_source\"][\"granule_uid\"])"
   ]
  },
  {
   "cell_type": "markdown",
   "id": "2d04f0ef",
   "metadata": {},
   "source": [
    "### Load Aladin and add the data that was fetched just above\n",
    "\n",
    "Here, and in the following examples, we are using the HiPS (Hierarchical Progressive Surveys) of Venus.\n",
    "Other HiPS can be found here http://voparis-srv-paris.obspm.fr/vo/planeto/hips/."
   ]
  },
  {
   "cell_type": "code",
   "execution_count": 111,
   "id": "8c47d6a6",
   "metadata": {},
   "outputs": [
    {
     "data": {
      "application/vnd.jupyter.widget-view+json": {
       "model_id": "98d8f7484ebb4e989ab83acd21e5d7e8",
       "version_major": 2,
       "version_minor": 0
      },
      "text/plain": [
       "Aladin(coo_frame='body', options=['allow_full_zoomout', 'coo_frame', 'fov', 'full_screen', 'log', 'overlay_sur…"
      ]
     },
     "execution_count": 111,
     "metadata": {},
     "output_type": "execute_result"
    }
   ],
   "source": [
    "aladin = Aladin(\n",
    "    coo_frame=\"body\",\n",
    "    survey=\"http://voparis-srv-paris.obspm.fr/vo/planeto/hips/CDS_P_Venus_Magellan_C3-MDIR-2025m/\"\n",
    ")\n",
    "aladin"
   ]
  },
  {
   "cell_type": "markdown",
   "id": "5fe7c3a2",
   "metadata": {},
   "source": [
    "### Load the MOCs\n",
    "\n",
    "First, for each MOC, we create a MOC object with mocpy and then we convert it to a dictionnary, since it's the format that ipyaladin expects in the function add_moc_from_dict.\n",
    "And we change the FOV so that the view is refreshed."
   ]
  },
  {
   "cell_type": "code",
   "execution_count": 11,
   "id": "cba4d86d",
   "metadata": {},
   "outputs": [],
   "source": [
    "for item in data :\n",
    "    mocObject = MOC.from_str(item[\"coverage\"])\n",
    "    jsonMoc = mocObject.serialize(format='json', optional_kw_dict=None, pre_v2=False)\n",
    "    aladin.add_moc_from_dict(jsonMoc, {'opacity' : 0.5, 'name' : item[\"granule_uid\"]})\n",
    "aladin.fov = aladin.fov+1.0"
   ]
  },
  {
   "cell_type": "markdown",
   "id": "1d924114",
   "metadata": {},
   "source": [
    "We center the view on one of the MOC"
   ]
  },
  {
   "cell_type": "code",
   "execution_count": 12,
   "id": "5a697b6f",
   "metadata": {},
   "outputs": [],
   "source": [
    "mocCenter = MOC.from_str(data[0][\"coverage\"]).barycenter()\n",
    "aladin.target = mocCenter.to_string()"
   ]
  },
  {
   "cell_type": "markdown",
   "id": "5211ac60",
   "metadata": {},
   "source": [
    "## Union and intersection of MOCs\n",
    "\n",
    "In this section, we are going to see how to search specific MOCs.\n",
    "Here we only consider MOCs in the Northern Hemisphere, whose dataproduct_type is the spectral cube and whose observation minimim local time was before 20 P.M.\n",
    "\n",
    "Then, we will group those MOCs in three categories, corresponding to the channel_id field associated to them.\n",
    "And finally, we will search all the elements whose MOC is in a MOC defined as the intersection of those three groups."
   ]
  },
  {
   "cell_type": "markdown",
   "id": "c4f55341",
   "metadata": {},
   "source": [
    "### Get the data\n",
    "\n",
    "The range query is used to specify a range for the given field.\n",
    "For instance, in the first range query, we have: 0 $\\leq$ c1min $\\leq$ 360"
   ]
  },
  {
   "cell_type": "code",
   "execution_count": 13,
   "id": "2682bcfd",
   "metadata": {},
   "outputs": [
    {
     "name": "stdout",
     "output_type": "stream",
     "text": [
      "VI0041_02C\n",
      "VT0033_00C\n",
      "VI0060_05C\n",
      "VV0041_02C\n",
      "VI0058_00C\n",
      "VV0058_00C\n",
      "VT0041_03C\n",
      "VI0047_00C\n",
      "VV0060_05C\n",
      "VV0047_00C\n",
      "VV0062_00C\n",
      "VI0062_00C\n",
      "VT0058_00C\n",
      "VT0060_01C\n",
      "VT0062_00C\n",
      "VT0047_00C\n",
      "\n",
      " 16  results found\n"
     ]
    }
   ],
   "source": [
    "query = {\n",
    "    \"bool\": {\n",
    "         \"must\": [\n",
    "             {\n",
    "                \"range\" : {\n",
    "                    \"c1min\" : {\n",
    "                        \"gte\" : 0,\n",
    "                        \"lte\" : 360\n",
    "                    }\n",
    "                }\n",
    "             },\n",
    "             {\n",
    "                \"range\" : {\n",
    "                    \"c1max\" : {\n",
    "                        \"gte\" : 0,\n",
    "                        \"lte\" : 360\n",
    "                    }\n",
    "                }\n",
    "             },\n",
    "             {\n",
    "                \"range\" : {\n",
    "                    \"c2min\" : {\n",
    "                        \"gte\" : 0,\n",
    "                        \"lte\" : 90\n",
    "                    }\n",
    "                }\n",
    "             },\n",
    "             {\n",
    "                \"range\" : {\n",
    "                    \"c2max\" : {\n",
    "                        \"gte\" : 0,\n",
    "                        \"lte\" : 90\n",
    "                    }\n",
    "                }\n",
    "             },\n",
    "             {\n",
    "                \"range\" : {\n",
    "                    \"local_time_min\" : {\n",
    "                        \"lte\" : 20\n",
    "                    }\n",
    "                }\n",
    "             },\n",
    "             {\n",
    "                \"term\" : {\n",
    "                    \"dataproduct_type\" : \"sc\"\n",
    "                }\n",
    "            },\n",
    "            {\n",
    "                \"term\": {\n",
    "                    \"service_title.keyword\": {\n",
    "                    \"value\": \"vvex\"\n",
    "                  }\n",
    "                 }\n",
    "             },\n",
    "             {\n",
    "                \"exists\" : {\n",
    "                    \"field\" : \"coverage\"\n",
    "                }\n",
    "            }\n",
    "        ]\n",
    "    }\n",
    "}\n",
    "\n",
    "page = es.search(\n",
    "    index=indexName,\n",
    "    query=query,\n",
    "    size=50,\n",
    "    fields=[\"*\"],\n",
    ")\n",
    "\n",
    "data = []\n",
    "for document in page[\"hits\"][\"hits\"] :\n",
    "    data.append(document[\"_source\"])\n",
    "    print(document[\"_source\"][\"granule_uid\"])\n",
    "\n",
    "print(\"\\n\",len(data),\" results found\")"
   ]
  },
  {
   "cell_type": "markdown",
   "id": "725f549f",
   "metadata": {},
   "source": [
    "### Group the MOCs by channel_id\n",
    "\n",
    "Here we are using a dictionnary: each key is a channel_id value, the value associated to it is an array containing all the MOCs whose channel_id is equal to this key.\n",
    "In the following block of code we are filling this dictionnary."
   ]
  },
  {
   "cell_type": "code",
   "execution_count": 14,
   "id": "5d2f0276",
   "metadata": {},
   "outputs": [],
   "source": [
    "mocGroups = {\"VIRTIS_M_VIS\":[], \"VIRTIS_M_IR\":[], \"VIRTIS_H\":[]}\n",
    "for element in data :\n",
    "    mocGroups[element[\"channel_id\"]].append(MOC.from_str(element[\"coverage\"]))"
   ]
  },
  {
   "cell_type": "markdown",
   "id": "b38c3a51",
   "metadata": {},
   "source": [
    "For each channel_id we are now using mocpy to make an union of all the MOCs in the array corresponding to this channel_id.\n",
    "So we add the first element to mocUnion, we remove it from the array, then for each element of the array we make an union between mocUnion and this element, and finally, we replace the array of MOCs with the MOC mocUnion at the corresponding key.\n",
    "\n",
    "So, the following block of code converts a dictionnary of MOCs array to a dictionnary of MOCs that covers the same area as the array of MOCs that was previously at the same key."
   ]
  },
  {
   "cell_type": "code",
   "execution_count": 15,
   "id": "47953260",
   "metadata": {},
   "outputs": [],
   "source": [
    "for key in list(mocGroups.keys()) :\n",
    "    if(len(mocGroups[key]) > 0):\n",
    "        mocUnion = MOC.new_empty(29)\n",
    "        for moc in mocGroups[key] :\n",
    "            mocUnion = mocUnion.union(moc)\n",
    "        mocGroups[key] = mocUnion\n",
    "    else :\n",
    "        mocGroups.pop(key)"
   ]
  },
  {
   "cell_type": "code",
   "execution_count": 113,
   "id": "44ad094c",
   "metadata": {
    "scrolled": false
   },
   "outputs": [
    {
     "data": {
      "application/vnd.jupyter.widget-view+json": {
       "model_id": "edc967b1766c4a99afc6f50236ab55e4",
       "version_major": 2,
       "version_minor": 0
      },
      "text/plain": [
       "Aladin(coo_frame='body', options=['allow_full_zoomout', 'coo_frame', 'fov', 'full_screen', 'log', 'overlay_sur…"
      ]
     },
     "execution_count": 113,
     "metadata": {},
     "output_type": "execute_result"
    }
   ],
   "source": [
    "aladin2 = Aladin(\n",
    "    coo_frame='body',\n",
    "    survey=\"http://voparis-srv-paris.obspm.fr/vo/planeto/hips/CDS_P_Venus_Magellan_C3-MDIR-2025m/\"\n",
    ")\n",
    "aladin2"
   ]
  },
  {
   "cell_type": "code",
   "execution_count": 17,
   "id": "0c2a8713",
   "metadata": {},
   "outputs": [],
   "source": [
    "for group, moc in mocGroups.items() :\n",
    "    jsonMoc = moc.serialize(format='json', optional_kw_dict=None, pre_v2=False)\n",
    "    aladin2.add_moc_from_dict(jsonMoc, {'opacity' : 0.5, 'name' : group})\n",
    "aladin2.fov = aladin2.fov+1.0"
   ]
  },
  {
   "cell_type": "code",
   "execution_count": 18,
   "id": "4b4eb594",
   "metadata": {},
   "outputs": [],
   "source": [
    "mocCenter = list(mocGroups.values())[0].barycenter()\n",
    "aladin2.target = mocCenter.to_string()"
   ]
  },
  {
   "cell_type": "markdown",
   "id": "3e151d6c",
   "metadata": {},
   "source": [
    "### Intersection of MOCs\n",
    "\n",
    "Here, we get the intersection of the three MOCs in mocGroups"
   ]
  },
  {
   "cell_type": "code",
   "execution_count": 19,
   "id": "1baaa105",
   "metadata": {},
   "outputs": [],
   "source": [
    "mocList = []\n",
    "for moc in mocGroups.values() :\n",
    "    mocList.append(moc)\n",
    "    \n",
    "if(len(mocGroups) > 0):\n",
    "    mocIntersection = mocList[0]\n",
    "    mocList.pop(0)\n",
    "    for moc in mocList :\n",
    "        mocIntersection = mocIntersection.intersection(moc)"
   ]
  },
  {
   "cell_type": "markdown",
   "id": "971daf94",
   "metadata": {},
   "source": [
    "We can plot this intersection in Aladin if needed:"
   ]
  },
  {
   "cell_type": "code",
   "execution_count": 20,
   "id": "cf99995f",
   "metadata": {},
   "outputs": [],
   "source": [
    "jsonMoc = mocIntersection.serialize(format='json', optional_kw_dict=None, pre_v2=False)\n",
    "aladin2.add_moc_from_dict(jsonMoc, {'opacity' : 0.5, 'name' : 'intersection'})\n",
    "aladin2.fov = aladin3.fov+1.0"
   ]
  },
  {
   "cell_type": "code",
   "execution_count": 21,
   "id": "5a3b3acb",
   "metadata": {},
   "outputs": [],
   "source": [
    "mocCenter = mocIntersection.barycenter()\n",
    "aladin2.target = mocCenter.to_string()"
   ]
  },
  {
   "cell_type": "markdown",
   "id": "c47f3b91",
   "metadata": {},
   "source": [
    "Then, for each item in the data that we got in the \"Get the data\" section, we can get the intersection between the MOC associated to this item and the MOC corresponding to the intersection of the three groups of MOCs (mocIntersection).\n",
    "\n",
    "If this intersection is not empty, then this item is in mocIntersection.\n",
    "So we get a list of items whose MOC intersects with the MOC of other items with the two other types of channel_id"
   ]
  },
  {
   "cell_type": "code",
   "execution_count": 22,
   "id": "81ce5067",
   "metadata": {},
   "outputs": [],
   "source": [
    "results = []\n",
    "for item in data :\n",
    "    moc = MOC.from_str(item[\"coverage\"])\n",
    "    if not moc.intersection(mocIntersection).empty() :\n",
    "        results.append(item)        "
   ]
  },
  {
   "cell_type": "code",
   "execution_count": 23,
   "id": "89bd3c58",
   "metadata": {},
   "outputs": [
    {
     "name": "stdout",
     "output_type": "stream",
     "text": [
      "15  results found:\n",
      "VI0041_02C\n",
      "VI0060_05C\n",
      "VV0041_02C\n",
      "VI0058_00C\n",
      "VV0058_00C\n",
      "VT0041_03C\n",
      "VI0047_00C\n",
      "VV0060_05C\n",
      "VV0047_00C\n",
      "VV0062_00C\n",
      "VI0062_00C\n",
      "VT0058_00C\n",
      "VT0060_01C\n",
      "VT0062_00C\n",
      "VT0047_00C\n"
     ]
    }
   ],
   "source": [
    "print(len(results), \" results found:\")\n",
    "for item in results :\n",
    "    print(item[\"granule_uid\"])"
   ]
  },
  {
   "cell_type": "markdown",
   "id": "e86951ed",
   "metadata": {},
   "source": [
    "## Select an area in Aladin and search elements within"
   ]
  },
  {
   "cell_type": "markdown",
   "id": "4951df05",
   "metadata": {},
   "source": [
    "### Import required modules"
   ]
  },
  {
   "cell_type": "code",
   "execution_count": 24,
   "id": "9fd884ad",
   "metadata": {},
   "outputs": [],
   "source": [
    "from astropy.coordinates import SkyCoord\n",
    "import astropy.units as u\n",
    "from ipywidgets import Layout, Box, widgets"
   ]
  },
  {
   "cell_type": "markdown",
   "id": "c22f048a",
   "metadata": {},
   "source": [
    "### Draw a MOC with the mouse cursor\n",
    "\n",
    "When the user click somewhere in Aladin (on the surface), the position of the click is saved and we update the ranges of c1 and c2 (longitude and latitude), that will be used for the query to avoid having to much data.\n",
    "\n",
    "To get the moc of the selected area, click on the button 'Add selection' and you will see it in Aladin (you might need to rotate the sphere to update the view).\n",
    "\n",
    "But before doing so, we need to add an event to the button and to the Aladin box. This will be added in the following blocks of code."
   ]
  },
  {
   "cell_type": "code",
   "execution_count": 80,
   "id": "89c0b416",
   "metadata": {},
   "outputs": [
    {
     "data": {
      "application/vnd.jupyter.widget-view+json": {
       "model_id": "3b871e2f94ae47218d5d3ad9099ae80e",
       "version_major": 2,
       "version_minor": 0
      },
      "text/plain": [
       "Box(children=(Aladin(coo_frame='body', layout=Layout(width='70%'), options=['allow_full_zoomout', 'coo_frame',…"
      ]
     },
     "execution_count": 80,
     "metadata": {},
     "output_type": "execute_result"
    },
    {
     "name": "stdout",
     "output_type": "stream",
     "text": [
      "None\r"
     ]
    }
   ],
   "source": [
    "aladin3 = Aladin(\n",
    "    layout=Layout(width=\"70%\"),\n",
    "    coo_frame='body',\n",
    "    survey=\"http://voparis-srv-paris.obspm.fr/vo/planeto/hips/CDS_P_Venus_Magellan_C3-MDIR-2025m/\"\n",
    ")\n",
    "\n",
    "button = widgets.Button(description=\"Add selection\")\n",
    "\n",
    "box_layout = Layout(\n",
    "    display=\"flex\", flex_flow=\"row\", align_items=\"stretch\", width=\"100%\"\n",
    ")\n",
    "box = Box(children=[aladin3, button], layout=box_layout)\n",
    "box"
   ]
  },
  {
   "cell_type": "code",
   "execution_count": 81,
   "id": "5a35dab9",
   "metadata": {},
   "outputs": [],
   "source": [
    "def updateBounds(areaPoints, ra, dec) :\n",
    "    if areaPoints[\"c1min\"] is None or areaPoints[\"c1min\"] > ra :\n",
    "        areaPoints[\"c1min\"] = ra\n",
    "    if areaPoints[\"c1max\"] is None or areaPoints[\"c1max\"] < ra :\n",
    "        areaPoints[\"c1max\"] = ra\n",
    "    if areaPoints[\"c2min\"] is None or areaPoints[\"c2min\"] > dec :\n",
    "        areaPoints[\"c2min\"] = dec\n",
    "    if areaPoints[\"c2max\"] is None or areaPoints[\"c2max\"] < dec :\n",
    "        areaPoints[\"c2max\"] = dec"
   ]
  },
  {
   "cell_type": "code",
   "execution_count": 82,
   "id": "ea75bd74",
   "metadata": {},
   "outputs": [],
   "source": [
    "def addMocSelectionToAladin(*_) :\n",
    "    if len(areaPoints) > 1 :\n",
    "        polygonCoordinates = SkyCoord(areaPoints[\"ra\"]*u.deg, areaPoints[\"dec\"]*u.deg)\n",
    "        mocSelection = MOC.from_polygon_skycoord(polygonCoordinates, max_depth=15)\n",
    "        aladin3.add_moc_from_dict(mocSelection.serialize(\"json\"), {\"color\": \"red\", \"opacity\": 0.5, \"name\": \"selection\"})\n",
    "        areaPoints[\"moc\"] = mocSelection\n",
    "        aladin3.fov = aladin3.fov+1.0"
   ]
  },
  {
   "cell_type": "code",
   "execution_count": 83,
   "id": "6a5cd26b",
   "metadata": {},
   "outputs": [],
   "source": [
    "areaPoints =  {\"moc\" : None, \"c1min\": None, \"c1max\" : None, \"c2min\" : None, \"c2max\" : None, \"ra\" : [], \"dec\" : []}\n",
    "\n",
    "def addToAreaPoints(data) :\n",
    "    updateBounds(areaPoints, data[\"ra\"],data[\"dec\"])\n",
    "    areaPoints[\"ra\"].append(data[\"ra\"])\n",
    "    areaPoints[\"dec\"].append(data[\"dec\"])"
   ]
  },
  {
   "cell_type": "markdown",
   "id": "a8bac33f",
   "metadata": {},
   "source": [
    "And we can now add the events:"
   ]
  },
  {
   "cell_type": "code",
   "execution_count": 84,
   "id": "4f850301",
   "metadata": {},
   "outputs": [],
   "source": [
    "aladin3.add_listener(\"click\", addToAreaPoints)\n",
    "button.on_click(addMocSelectionToAladin)"
   ]
  },
  {
   "cell_type": "markdown",
   "id": "53bae3c8",
   "metadata": {},
   "source": [
    "### Get the data\n",
    "\n",
    "We get all the data that may intersect with the searched area, but we limit it at 5000 results here so that it's not to slow."
   ]
  },
  {
   "cell_type": "code",
   "execution_count": 64,
   "id": "b82a003a",
   "metadata": {},
   "outputs": [
    {
     "name": "stdout",
     "output_type": "stream",
     "text": [
      "\n",
      " 5000  results found\n"
     ]
    }
   ],
   "source": [
    "query = {\n",
    "    \"bool\": {\n",
    "         \"must\": [\n",
    "             {\n",
    "                 \"bool\" : {\n",
    "                     \"should\" : [\n",
    "                         {\n",
    "                             \"range\" : {\n",
    "                                \"c1min\" : {\n",
    "                                    \"gte\" : areaPoints[\"c1min\"],\n",
    "                                    \"lte\" : areaPoints[\"c1max\"]\n",
    "                                }\n",
    "                            }\n",
    "                         },\n",
    "                         {\n",
    "                             \"range\" : {\n",
    "                                \"c1max\" : {\n",
    "                                    \"gte\" : areaPoints[\"c1min\"],\n",
    "                                    \"lte\" : areaPoints[\"c1max\"]\n",
    "                                }\n",
    "                            }\n",
    "                         },\n",
    "                     ],\n",
    "                     \"minimum_should_match\" : 1\n",
    "                 }\n",
    "             },\n",
    "             {\n",
    "                 \"bool\" : {\n",
    "                     \"should\" : [\n",
    "                         {\n",
    "                             \"range\" : {\n",
    "                                \"c2min\" : {\n",
    "                                    \"gte\" : areaPoints[\"c2min\"],\n",
    "                                    \"lte\" : areaPoints[\"c2max\"]\n",
    "                                }\n",
    "                            }\n",
    "                         },\n",
    "                         {\n",
    "                             \"range\" : {\n",
    "                                \"c2max\" : {\n",
    "                                    \"gte\" : areaPoints[\"c2min\"],\n",
    "                                    \"lte\" : areaPoints[\"c2max\"]\n",
    "                                }\n",
    "                            }\n",
    "                         }\n",
    "                     ],\n",
    "                     \"minimum_should_match\" : 1\n",
    "                 }\n",
    "             },\n",
    "             {\n",
    "                \"exists\" : {\n",
    "                    \"field\" : \"coverage\"\n",
    "                }\n",
    "            },\n",
    "             {\n",
    "                \"term\": {\n",
    "                    \"service_title.keyword\": {\n",
    "                    \"value\": \"vvex\"\n",
    "                    }\n",
    "                }\n",
    "            }\n",
    "        ]\n",
    "    }\n",
    "}\n",
    "\n",
    "page = es.search(\n",
    "    index=indexName,\n",
    "    query=query,\n",
    "    size=5000,\n",
    "    fields=[\"*\"],\n",
    ")\n",
    "\n",
    "data = []\n",
    "for document in page[\"hits\"][\"hits\"] :\n",
    "    data.append(document[\"_source\"])\n",
    "\n",
    "print(\"\\n\",len(data),\" results found\")"
   ]
  },
  {
   "cell_type": "markdown",
   "id": "d9b09925",
   "metadata": {},
   "source": [
    "### Search MOCs that intersect with it and get the associated elements\n",
    "\n",
    "Then, for each item in the data that we got in the \"Get the data\" section, we can get the intersection between the MOC associated to this item and the MOC corresponding to the searched area.\n",
    "\n",
    "If this intersection is not empty, then this item is in the searched area."
   ]
  },
  {
   "cell_type": "code",
   "execution_count": 65,
   "id": "ae406227",
   "metadata": {},
   "outputs": [],
   "source": [
    "results = []\n",
    "if areaPoints[\"moc\"] is None :\n",
    "    print(\"The search area is empty. Please select an area and click on the button\")\n",
    "else :  \n",
    "    for item in data :\n",
    "        if item[\"coverage\"] is not None and item[\"coverage\"] != \"\" :\n",
    "            moc = MOC.from_str(item[\"coverage\"])\n",
    "            if not moc.intersection(areaPoints[\"moc\"]).empty() :\n",
    "                results.append(item)"
   ]
  },
  {
   "cell_type": "code",
   "execution_count": 66,
   "id": "6991d63b",
   "metadata": {},
   "outputs": [
    {
     "name": "stdout",
     "output_type": "stream",
     "text": [
      "390  results found:\n",
      "VT0896_02G\n",
      "VT0611_02G\n",
      "VT0724_04C\n",
      "VT0628_02C\n",
      "VI0385_06C\n",
      "VT0724_04G\n",
      "VT0623_02G\n",
      "VV2668_07C\n",
      "VV0385_06C\n",
      "VT0716_05C\n",
      "VI0385_06G\n",
      "VT0718_05C\n",
      "VT0716_05G\n",
      "VT0623_02C\n",
      "VT0628_02G\n",
      "VT0896_02C\n",
      "VV2667_08C\n",
      "VV2667_08G\n",
      "VT0611_02C\n",
      "VV0385_06G\n",
      "VT0718_05G\n",
      "VV2668_07G\n",
      "VV0264_00G\n",
      "VT0605_02G\n",
      "VI0648_00G\n",
      "VI0652_00C\n",
      "VI0656_02C\n",
      "VI0657_01C\n",
      "VI0657_02C\n",
      "VI0865_03C\n",
      "VV0224_02C\n",
      "VV0760_03C\n",
      "VV0760_03G\n",
      "VV0988_00C\n",
      "VV0979_08C\n",
      "VV1159_06G\n",
      "VV1157_06C\n",
      "VI0390_09G\n",
      "VV1268_08G\n",
      "VV1249_07G\n",
      "VI0221_05C\n",
      "VI0223_02C\n",
      "VI0224_02C\n",
      "VI0224_05G\n",
      "VI0259_04G\n",
      "VI0261_04G\n",
      "VI0264_00C\n",
      "VI0264_04C\n",
      "VI0278_00C\n",
      "VI0505_02C\n",
      "VI0505_02G\n",
      "VI0507_11G\n",
      "VI0598_00G\n",
      "VI0603_01G\n",
      "VI0603_03C\n",
      "VI0603_06C\n",
      "VI0612_00C\n",
      "VV1883_00C\n",
      "VV1847_03G\n",
      "VV1846_02C\n",
      "VV1845_03C\n",
      "VV1193_01C\n",
      "VV1193_01G\n",
      "VV1157_01G\n",
      "VV1834_05C\n",
      "VV1831_04C\n",
      "VV1832_06C\n",
      "VV1830_04C\n",
      "VV1807_09C\n",
      "VV0648_01C\n",
      "VV0591_02C\n",
      "VV0372_00C\n",
      "VV0369_00C\n",
      "VV0044_00G\n",
      "VV2877_02G\n",
      "VV2872_02C\n",
      "VV2872_02G\n",
      "VV1149_10G\n",
      "VV2946_06G\n",
      "VV2229_00G\n",
      "VT0149_03C\n",
      "VT0143_03G\n",
      "VT0422_03C\n",
      "VT0888_03C\n",
      "VT0611_03G\n",
      "VV1765_10G\n",
      "VV1746_02C\n",
      "VT0618_02C\n",
      "VV1701_04G\n",
      "VV1669_02G\n",
      "VV1652_08G\n",
      "VV1594_01G\n",
      "VV1571_10C\n",
      "VV0233_02G\n",
      "VV0221_02C\n",
      "VV0220_02C\n",
      "VV0219_02C\n",
      "VV2604_02G\n",
      "VV2601_00G\n",
      "VV2583_00C\n",
      "VV2581_00C\n",
      "VV1653_08C\n",
      "VV1592_01C\n",
      "VV0654_03C\n",
      "VV0650_01C\n",
      "VV2408_05C\n",
      "VV2338_09G\n",
      "VV2337_15C\n",
      "VV2337_15G\n",
      "VV2646_03C\n",
      "VV2643_03C\n",
      "VV2644_04C\n",
      "VV2644_04G\n",
      "VV2638_02C\n",
      "VV0278_00C\n",
      "VI0124_04C\n",
      "VI0363_01C\n",
      "VI0363_03C\n",
      "VI0364_01G\n",
      "VV2553_01G\n",
      "VV2552_01G\n",
      "VV2550_00C\n",
      "VV2085_02G\n",
      "VV2083_06C\n",
      "VV2083_04C\n",
      "VV2081_02C\n",
      "VV2075_07C\n",
      "VV2065_02G\n",
      "VV0372_03G\n",
      "VV0370_00G\n",
      "VV0363_02G\n",
      "VV0363_03C\n",
      "VV0359_01G\n",
      "VV0358_00G\n",
      "VV2786_02C\n",
      "VV2784_00C\n",
      "VV2784_00G\n",
      "VV2782_02C\n",
      "VV2781_00G\n",
      "VV2779_02C\n",
      "VV2763_01G\n",
      "VV2763_00G\n",
      "VV2122_02C\n",
      "VV2118_01G\n",
      "VV2706_14G\n",
      "VV2705_14G\n",
      "VI0370_00C\n",
      "VI0370_03G\n",
      "VI0371_01C\n",
      "VI0371_01G\n",
      "VI0371_03G\n",
      "VI0372_01C\n",
      "VI0372_01G\n",
      "VV0507_11G\n",
      "VV0500_00C\n",
      "VV0499_00C\n",
      "VV0601_00C\n",
      "VV0596_06G\n",
      "VV0594_00C\n",
      "VV0656_00C\n",
      "VV0656_00G\n",
      "VV0654_00C\n",
      "VV0652_01G\n",
      "VV0881_04G\n",
      "VV0866_01C\n",
      "VV0865_02G\n",
      "VV0868_01C\n",
      "VV0864_00G\n",
      "VV0614_07C\n",
      "VV0664_07G\n",
      "VV0657_02C\n",
      "VV0657_01G\n",
      "VV0654_04C\n",
      "VV0654_04G\n",
      "VV0869_06G\n",
      "VV0866_01G\n",
      "VV0867_00G\n",
      "VV0766_03G\n",
      "VV0764_03C\n",
      "VV0988_11G\n",
      "VV0979_14C\n",
      "VV0979_14G\n",
      "VV0971_02C\n",
      "VV1845_04C\n",
      "VV1153_05C\n",
      "VV1149_05G\n",
      "VI0142_04C\n",
      "VV1118_07C\n",
      "VV1090_07C\n",
      "VV1090_05G\n",
      "VI0218_02C\n",
      "VV1193_03C\n",
      "VV1169_11C\n",
      "VV1167_06C\n",
      "VV1240_04G\n",
      "VV1300_06G\n",
      "VI0220_02C\n",
      "VI0221_02C\n",
      "VI0222_05C\n",
      "VI0223_05C\n",
      "VI0262_01G\n",
      "VI0264_01C\n",
      "VI0264_01G\n",
      "VI0499_00C\n",
      "VI0591_05C\n",
      "VI0593_02C\n",
      "VI0594_00C\n",
      "VI0650_01G\n",
      "VI0650_02C\n",
      "VI0654_02G\n",
      "VI0657_03G\n",
      "VI0706_03C\n",
      "VI0720_03G\n",
      "VI0740_02C\n",
      "VI0843_01G\n",
      "VI0865_02C\n",
      "VI0865_03G\n",
      "VV0124_04G\n",
      "VT0612_03G\n",
      "VV2178_03G\n",
      "VV2601_00C\n",
      "VV1888_03C\n",
      "VV1884_03G\n",
      "VV1859_04C\n",
      "VV1847_02C\n",
      "VV1845_03G\n",
      "VV0033_00G\n",
      "VV1167_01C\n",
      "VV0878_04C\n",
      "VV1830_05C\n",
      "VV1819_05G\n",
      "VV0740_00C\n",
      "VV0603_00C\n",
      "VV0598_03G\n",
      "VV0594_03G\n",
      "VV0519_05G\n",
      "VV0372_00G\n",
      "VV2878_01G\n",
      "VV2876_01G\n",
      "VV2873_01C\n",
      "VV2872_01C\n",
      "VV1092_11C\n",
      "VV0370_03G\n",
      "VV0382_01G\n",
      "VT0150_03C\n",
      "VV0142_04G\n",
      "VV0277_03G\n",
      "VV0236_02G\n",
      "VT0609_02C\n",
      "VV1768_10C\n",
      "VV1748_07G\n",
      "VT0607_02G\n",
      "VV1740_02C\n",
      "VV1719_00C\n",
      "VV1671_02C\n",
      "VV1672_02C\n",
      "VV1595_01C\n",
      "VV1573_02C\n",
      "VV1564_02G\n",
      "VV0262_04G\n",
      "VV2586_00G\n",
      "VV2585_00C\n",
      "VV1592_01G\n",
      "VV1597_01C\n",
      "VV2408_02C\n",
      "VV1106_00C\n",
      "VV2372_01C\n",
      "VV2362_01C\n",
      "VV2360_02G\n",
      "VV0371_03G\n",
      "VV2354_01G\n",
      "VV2317_07C\n",
      "VV2646_04C\n",
      "VV2645_04C\n",
      "VV2642_03C\n",
      "VV2642_03G\n",
      "VV2113_08G\n",
      "VI0124_04G\n",
      "VI0358_00C\n",
      "VV2554_01C\n",
      "VV2085_05C\n",
      "VV2085_05G\n",
      "VV2084_07C\n",
      "VV2082_04C\n",
      "VV0372_01G\n",
      "VV0369_02G\n",
      "VV0364_02G\n",
      "VV2783_02G\n",
      "VV2781_02G\n",
      "VV2780_00C\n",
      "VV2778_02G\n",
      "VV2120_01C\n",
      "VV2116_02G\n",
      "VV2079_02G\n",
      "VI0369_02C\n",
      "VI0371_00C\n",
      "VI0372_02C\n",
      "VV0505_02C\n",
      "VV0264_00C\n",
      "VT1491_02G\n",
      "VV1719_05G\n",
      "VV1701_04C\n",
      "VV2179_03C\n",
      "VV0364_02C\n",
      "VV0363_00G\n",
      "VV2786_00G\n",
      "VV2779_02G\n",
      "VV2779_00C\n",
      "VV2778_00C\n",
      "VV2778_00G\n",
      "VI0603_00C\n",
      "VI0614_07C\n",
      "VI0652_00G\n",
      "VI0652_01C\n",
      "VI0654_03C\n",
      "VI0656_00G\n",
      "VI0764_03G\n",
      "VI0766_03C\n",
      "VI0865_02G\n",
      "VI0869_06C\n",
      "VV2875_01G\n",
      "VI0370_01C\n",
      "VI0371_03C\n",
      "VI0373_01C\n",
      "VV0603_01C\n",
      "VV0603_03C\n",
      "VV2121_01G\n",
      "VV2085_06C\n",
      "VV0601_00G\n",
      "VV0598_00G\n",
      "VV0596_06C\n",
      "VV0650_02C\n",
      "VV0654_02C\n",
      "VV0656_01C\n",
      "VV0652_00C\n",
      "VV0652_00G\n",
      "VV0652_02C\n",
      "VV0724_01G\n",
      "VV0882_04C\n",
      "VV0864_00C\n",
      "VV1846_00C\n",
      "VV1846_00G\n",
      "VV0977_02G\n",
      "VV0971_03G\n",
      "VV1118_07G\n",
      "VI0382_01C\n",
      "VI0390_11G\n",
      "VV1165_01G\n",
      "VI0221_02G\n",
      "VI0235_02C\n",
      "VI0264_03C\n",
      "VV1253_04C\n",
      "VV1887_00C\n",
      "VV1847_03C\n",
      "VV1846_03C\n",
      "VV1846_02G\n",
      "VV1843_03G\n",
      "VV1835_05C\n",
      "VV1831_04G\n",
      "VV1832_06G\n",
      "VV1832_04C\n",
      "VV1818_08C\n",
      "VV0650_00C\n",
      "VV0648_00C\n",
      "VV0648_00G\n",
      "VV2906_06C\n",
      "VV2879_01C\n",
      "VV2877_01C\n",
      "VV2872_01G\n",
      "VV0886_04C\n",
      "VV0364_00C\n",
      "VV0364_00G\n",
      "VV2829_10G\n",
      "VV2824_10C\n",
      "VV0220_05C\n",
      "VV0220_05G\n",
      "VT0152_03C\n",
      "VT0154_03C\n",
      "VV1805_09C\n",
      "VV1805_09G\n",
      "VT0451_02C\n",
      "VT0612_02G\n",
      "VT0618_03C\n",
      "VT0618_03G\n",
      "VT0614_03C\n",
      "VT1253_02C\n",
      "VT0614_02G\n",
      "VV1765_10C\n",
      "VV1762_10G\n",
      "VV1746_02G\n"
     ]
    }
   ],
   "source": [
    "print(len(results), \" results found:\")\n",
    "for item in results :\n",
    "    print(item[\"granule_uid\"])"
   ]
  },
  {
   "cell_type": "markdown",
   "id": "4c5d2222",
   "metadata": {},
   "source": [
    "### Load the MOCs of some of the results in Aladin"
   ]
  },
  {
   "cell_type": "code",
   "execution_count": 71,
   "id": "130dc2c6",
   "metadata": {},
   "outputs": [],
   "source": [
    "for i in range(min(10, len(results))) :\n",
    "    moc = MOC.from_str(results[i][\"coverage\"])\n",
    "    aladin3.add_moc_from_dict(moc.serialize(\"json\"), {\"opacity\": 0.5, \"name\": results[i][\"granule_uid\"]})\n",
    "    \n",
    "aladin3.fov = aladin3.fov+1.0"
   ]
  }
 ],
 "metadata": {
  "kernelspec": {
   "display_name": "Python 3 (ipykernel)",
   "language": "python",
   "name": "python3"
  },
  "language_info": {
   "codemirror_mode": {
    "name": "ipython",
    "version": 3
   },
   "file_extension": ".py",
   "mimetype": "text/x-python",
   "name": "python",
   "nbconvert_exporter": "python",
   "pygments_lexer": "ipython3",
   "version": "3.10.6"
  }
 },
 "nbformat": 4,
 "nbformat_minor": 5
}
